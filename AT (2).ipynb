{
  "nbformat": 4,
  "nbformat_minor": 0,
  "metadata": {
    "colab": {
      "provenance": [],
      "toc_visible": true
    },
    "kernelspec": {
      "name": "python3",
      "display_name": "Python 3"
    },
    "language_info": {
      "name": "python"
    }
  },
  "cells": [
    {
      "cell_type": "markdown",
      "source": [
        "---\n",
        "# **Monitoreo de servicio post-venta a partir de análisis de posteo en tweeter**\n",
        "\n",
        "---"
      ],
      "metadata": {
        "id": "fPiHfan9MXDo"
      }
    },
    {
      "cell_type": "markdown",
      "source": [
        "**Realizado por**: Daniel Casañas\n",
        "\n",
        "**Fecha**: 29 de abril de 2023\n",
        "\n",
        "\n",
        "\n"
      ],
      "metadata": {
        "id": "Iy6YbLy4PTJ3"
      }
    },
    {
      "cell_type": "markdown",
      "source": [
        "---\n",
        "# **1. Instalación**\n",
        "\n",
        "---"
      ],
      "metadata": {
        "id": "raHWMHHCQvyf"
      }
    },
    {
      "cell_type": "markdown",
      "source": [
        "### Sistemas de manejo"
      ],
      "metadata": {
        "id": "PWDWvkCJafiq"
      }
    },
    {
      "cell_type": "code",
      "source": [
        "import time, psutil, os"
      ],
      "metadata": {
        "id": "9QtrGYtHa1UI"
      },
      "execution_count": null,
      "outputs": []
    },
    {
      "cell_type": "markdown",
      "source": [
        "### Operación de data"
      ],
      "metadata": {
        "id": "FR1Qma_0au-S"
      }
    },
    {
      "cell_type": "code",
      "source": [
        "!pip install fuzzywuzzy\n",
        "from fuzzywuzzy import fuzz\n",
        "!pip install pandas plotly\n",
        "!pip install python-docx\n",
        "import numpy as np\n",
        "import pandas as pd\n",
        "!pip install nltk\n",
        "!pip install reverse_geocoder\n",
        "!pip install pytz\n",
        "!pip install textblob\n",
        "from pytz import timezone\n",
        "from textblob import TextBlob\n",
        "import nltk\n",
        "nltk.download('punkt')\n",
        "nltk.download('averaged_perceptron_tagger')\n",
        "import warnings\n",
        "warnings.filterwarnings(\"ignore\", category=FutureWarning)\n",
        "import reverse_geocoder as rg\n",
        "import itertools\n",
        "import string\n",
        "import math\n",
        "import pytz\n",
        "from nltk.corpus import stopwords\n",
        "from nltk.tokenize import word_tokenize"
      ],
      "metadata": {
        "colab": {
          "base_uri": "https://localhost:8080/"
        },
        "id": "LkQev1_hattf",
        "outputId": "6c267730-fd10-4f3f-e392-a7a3e3d31184"
      },
      "execution_count": null,
      "outputs": [
        {
          "output_type": "stream",
          "name": "stdout",
          "text": [
            "Looking in indexes: https://pypi.org/simple, https://us-python.pkg.dev/colab-wheels/public/simple/\n",
            "Collecting fuzzywuzzy\n",
            "  Downloading fuzzywuzzy-0.18.0-py2.py3-none-any.whl (18 kB)\n",
            "Installing collected packages: fuzzywuzzy\n",
            "Successfully installed fuzzywuzzy-0.18.0\n"
          ]
        },
        {
          "output_type": "stream",
          "name": "stderr",
          "text": [
            "/usr/local/lib/python3.10/dist-packages/fuzzywuzzy/fuzz.py:11: UserWarning: Using slow pure-python SequenceMatcher. Install python-Levenshtein to remove this warning\n",
            "  warnings.warn('Using slow pure-python SequenceMatcher. Install python-Levenshtein to remove this warning')\n"
          ]
        },
        {
          "output_type": "stream",
          "name": "stdout",
          "text": [
            "Looking in indexes: https://pypi.org/simple, https://us-python.pkg.dev/colab-wheels/public/simple/\n",
            "Requirement already satisfied: pandas in /usr/local/lib/python3.10/dist-packages (1.5.3)\n",
            "Requirement already satisfied: plotly in /usr/local/lib/python3.10/dist-packages (5.13.1)\n",
            "Requirement already satisfied: python-dateutil>=2.8.1 in /usr/local/lib/python3.10/dist-packages (from pandas) (2.8.2)\n",
            "Requirement already satisfied: pytz>=2020.1 in /usr/local/lib/python3.10/dist-packages (from pandas) (2022.7.1)\n",
            "Requirement already satisfied: numpy>=1.21.0 in /usr/local/lib/python3.10/dist-packages (from pandas) (1.22.4)\n",
            "Requirement already satisfied: tenacity>=6.2.0 in /usr/local/lib/python3.10/dist-packages (from plotly) (8.2.2)\n",
            "Requirement already satisfied: six>=1.5 in /usr/local/lib/python3.10/dist-packages (from python-dateutil>=2.8.1->pandas) (1.16.0)\n",
            "Looking in indexes: https://pypi.org/simple, https://us-python.pkg.dev/colab-wheels/public/simple/\n",
            "Collecting python-docx\n",
            "  Downloading python-docx-0.8.11.tar.gz (5.6 MB)\n",
            "\u001b[2K     \u001b[90m━━━━━━━━━━━━━━━━━━━━━━━━━━━━━━━━━━━━━━━━\u001b[0m \u001b[32m5.6/5.6 MB\u001b[0m \u001b[31m101.9 MB/s\u001b[0m eta \u001b[36m0:00:00\u001b[0m\n",
            "\u001b[?25h  Preparing metadata (setup.py) ... \u001b[?25l\u001b[?25hdone\n",
            "Requirement already satisfied: lxml>=2.3.2 in /usr/local/lib/python3.10/dist-packages (from python-docx) (4.9.2)\n",
            "Building wheels for collected packages: python-docx\n",
            "  Building wheel for python-docx (setup.py) ... \u001b[?25l\u001b[?25hdone\n",
            "  Created wheel for python-docx: filename=python_docx-0.8.11-py3-none-any.whl size=184505 sha256=f1a86f3ec755315ef2370abe2107e7ef11789d83cccfb539ff1eb4375ab0a07a\n",
            "  Stored in directory: /root/.cache/pip/wheels/80/27/06/837436d4c3bd989b957a91679966f207bfd71d358d63a8194d\n",
            "Successfully built python-docx\n",
            "Installing collected packages: python-docx\n",
            "Successfully installed python-docx-0.8.11\n",
            "Looking in indexes: https://pypi.org/simple, https://us-python.pkg.dev/colab-wheels/public/simple/\n",
            "Requirement already satisfied: nltk in /usr/local/lib/python3.10/dist-packages (3.8.1)\n",
            "Requirement already satisfied: click in /usr/local/lib/python3.10/dist-packages (from nltk) (8.1.3)\n",
            "Requirement already satisfied: joblib in /usr/local/lib/python3.10/dist-packages (from nltk) (1.2.0)\n",
            "Requirement already satisfied: regex>=2021.8.3 in /usr/local/lib/python3.10/dist-packages (from nltk) (2022.10.31)\n",
            "Requirement already satisfied: tqdm in /usr/local/lib/python3.10/dist-packages (from nltk) (4.65.0)\n",
            "Looking in indexes: https://pypi.org/simple, https://us-python.pkg.dev/colab-wheels/public/simple/\n",
            "Collecting reverse_geocoder\n",
            "  Downloading reverse_geocoder-1.5.1.tar.gz (2.2 MB)\n",
            "\u001b[2K     \u001b[90m━━━━━━━━━━━━━━━━━━━━━━━━━━━━━━━━━━━━━━━━\u001b[0m \u001b[32m2.2/2.2 MB\u001b[0m \u001b[31m46.7 MB/s\u001b[0m eta \u001b[36m0:00:00\u001b[0m\n",
            "\u001b[?25h  Preparing metadata (setup.py) ... \u001b[?25l\u001b[?25hdone\n",
            "Requirement already satisfied: numpy>=1.11.0 in /usr/local/lib/python3.10/dist-packages (from reverse_geocoder) (1.22.4)\n",
            "Requirement already satisfied: scipy>=0.17.1 in /usr/local/lib/python3.10/dist-packages (from reverse_geocoder) (1.10.1)\n",
            "Building wheels for collected packages: reverse_geocoder\n",
            "  Building wheel for reverse_geocoder (setup.py) ... \u001b[?25l\u001b[?25hdone\n",
            "  Created wheel for reverse_geocoder: filename=reverse_geocoder-1.5.1-py3-none-any.whl size=2268084 sha256=1334177fa37ff89a6c6e43d549117d5603c55a76b76ea9ca6bccc4932d630713\n",
            "  Stored in directory: /root/.cache/pip/wheels/bd/e5/88/eb139b6d6a26b8022d370ab991f7a836802fed9871975ec6d9\n",
            "Successfully built reverse_geocoder\n",
            "Installing collected packages: reverse_geocoder\n",
            "Successfully installed reverse_geocoder-1.5.1\n",
            "Looking in indexes: https://pypi.org/simple, https://us-python.pkg.dev/colab-wheels/public/simple/\n",
            "Requirement already satisfied: pytz in /usr/local/lib/python3.10/dist-packages (2022.7.1)\n",
            "Looking in indexes: https://pypi.org/simple, https://us-python.pkg.dev/colab-wheels/public/simple/\n",
            "Requirement already satisfied: textblob in /usr/local/lib/python3.10/dist-packages (0.17.1)\n",
            "Requirement already satisfied: nltk>=3.1 in /usr/local/lib/python3.10/dist-packages (from textblob) (3.8.1)\n",
            "Requirement already satisfied: click in /usr/local/lib/python3.10/dist-packages (from nltk>=3.1->textblob) (8.1.3)\n",
            "Requirement already satisfied: joblib in /usr/local/lib/python3.10/dist-packages (from nltk>=3.1->textblob) (1.2.0)\n",
            "Requirement already satisfied: regex>=2021.8.3 in /usr/local/lib/python3.10/dist-packages (from nltk>=3.1->textblob) (2022.10.31)\n",
            "Requirement already satisfied: tqdm in /usr/local/lib/python3.10/dist-packages (from nltk>=3.1->textblob) (4.65.0)\n"
          ]
        },
        {
          "output_type": "stream",
          "name": "stderr",
          "text": [
            "[nltk_data] Downloading package punkt to /root/nltk_data...\n",
            "[nltk_data]   Unzipping tokenizers/punkt.zip.\n",
            "[nltk_data] Downloading package averaged_perceptron_tagger to\n",
            "[nltk_data]     /root/nltk_data...\n",
            "[nltk_data]   Unzipping taggers/averaged_perceptron_tagger.zip.\n"
          ]
        }
      ]
    },
    {
      "cell_type": "markdown",
      "source": [
        "### Trazado y visualización"
      ],
      "metadata": {
        "id": "6gGLYp_ia3O_"
      }
    },
    {
      "cell_type": "code",
      "source": [
        "import matplotlib\n",
        "import matplotlib.pyplot as plt\n",
        "import matplotlib.patches as mpatches\n",
        "import seaborn as sns\n",
        "sns.set_theme()\n",
        "import plotly.express as px\n",
        "import plotly.graph_objects as go\n",
        "from plotly.subplots import make_subplots\n",
        "from plotly.offline import init_notebook_mode, iplot\n",
        "init_notebook_mode(connected=True)"
      ],
      "metadata": {
        "colab": {
          "base_uri": "https://localhost:8080/",
          "height": 17
        },
        "id": "lqNat-CK3Oty",
        "outputId": "43db9e86-271a-48e0-db0b-b707e3f38eda"
      },
      "execution_count": null,
      "outputs": [
        {
          "output_type": "display_data",
          "data": {
            "text/html": [
              "        <script type=\"text/javascript\">\n",
              "        window.PlotlyConfig = {MathJaxConfig: 'local'};\n",
              "        if (window.MathJax && window.MathJax.Hub && window.MathJax.Hub.Config) {window.MathJax.Hub.Config({SVG: {font: \"STIX-Web\"}});}\n",
              "        if (typeof require !== 'undefined') {\n",
              "        require.undef(\"plotly\");\n",
              "        requirejs.config({\n",
              "            paths: {\n",
              "                'plotly': ['https://cdn.plot.ly/plotly-2.18.2.min']\n",
              "            }\n",
              "        });\n",
              "        require(['plotly'], function(Plotly) {\n",
              "            window._Plotly = Plotly;\n",
              "        });\n",
              "        }\n",
              "        </script>\n",
              "        "
            ]
          },
          "metadata": {}
        }
      ]
    },
    {
      "cell_type": "markdown",
      "source": [
        "### NLP"
      ],
      "metadata": {
        "id": "Mly6bDs8bALC"
      }
    },
    {
      "cell_type": "code",
      "source": [
        "import string, re, nltk\n",
        "from string import punctuation\n",
        "from nltk.tokenize import word_tokenize, RegexpTokenizer\n",
        "from nltk.corpus import stopwords\n",
        "!pip install num2words\n",
        "from num2words import num2words\n",
        "!pip install pyspellchecker\n",
        "from spellchecker import SpellChecker\n",
        "from nltk.stem.porter import PorterStemmer\n",
        "!pip install spacy\n",
        "import spacy\n",
        "from nltk.stem import WordNetLemmatizer\n",
        "import nltk\n",
        "nltk.download('stopwords')\n",
        "nltk.download('averaged_perceptron_tagger')\n",
        "nltk.download('wordnet')\n",
        "from nltk.tokenize import RegexpTokenizer\n",
        "import re"
      ],
      "metadata": {
        "colab": {
          "base_uri": "https://localhost:8080/"
        },
        "id": "KiKG4NUPa-1M",
        "outputId": "9114e2c4-7955-45e0-9ab9-0db2bdb8fa0c"
      },
      "execution_count": null,
      "outputs": [
        {
          "output_type": "stream",
          "name": "stdout",
          "text": [
            "Looking in indexes: https://pypi.org/simple, https://us-python.pkg.dev/colab-wheels/public/simple/\n",
            "Collecting num2words\n",
            "  Downloading num2words-0.5.12-py3-none-any.whl (125 kB)\n",
            "\u001b[2K     \u001b[90m━━━━━━━━━━━━━━━━━━━━━━━━━━━━━━━━━━━━━━\u001b[0m \u001b[32m125.2/125.2 kB\u001b[0m \u001b[31m10.8 MB/s\u001b[0m eta \u001b[36m0:00:00\u001b[0m\n",
            "\u001b[?25hCollecting docopt>=0.6.2 (from num2words)\n",
            "  Downloading docopt-0.6.2.tar.gz (25 kB)\n",
            "  Preparing metadata (setup.py) ... \u001b[?25l\u001b[?25hdone\n",
            "Building wheels for collected packages: docopt\n",
            "  Building wheel for docopt (setup.py) ... \u001b[?25l\u001b[?25hdone\n",
            "  Created wheel for docopt: filename=docopt-0.6.2-py2.py3-none-any.whl size=13721 sha256=c3a2ea1131db927f0bd7906bf5968ad06baa91d601db267e3cc29a1a7f83060c\n",
            "  Stored in directory: /root/.cache/pip/wheels/fc/ab/d4/5da2067ac95b36618c629a5f93f809425700506f72c9732fac\n",
            "Successfully built docopt\n",
            "Installing collected packages: docopt, num2words\n",
            "Successfully installed docopt-0.6.2 num2words-0.5.12\n",
            "Looking in indexes: https://pypi.org/simple, https://us-python.pkg.dev/colab-wheels/public/simple/\n",
            "Collecting pyspellchecker\n",
            "  Downloading pyspellchecker-0.7.2-py3-none-any.whl (3.4 MB)\n",
            "\u001b[2K     \u001b[90m━━━━━━━━━━━━━━━━━━━━━━━━━━━━━━━━━━━━━━━━\u001b[0m \u001b[32m3.4/3.4 MB\u001b[0m \u001b[31m40.8 MB/s\u001b[0m eta \u001b[36m0:00:00\u001b[0m\n",
            "\u001b[?25hInstalling collected packages: pyspellchecker\n",
            "Successfully installed pyspellchecker-0.7.2\n",
            "Looking in indexes: https://pypi.org/simple, https://us-python.pkg.dev/colab-wheels/public/simple/\n",
            "Requirement already satisfied: spacy in /usr/local/lib/python3.10/dist-packages (3.5.2)\n",
            "Requirement already satisfied: spacy-legacy<3.1.0,>=3.0.11 in /usr/local/lib/python3.10/dist-packages (from spacy) (3.0.12)\n",
            "Requirement already satisfied: spacy-loggers<2.0.0,>=1.0.0 in /usr/local/lib/python3.10/dist-packages (from spacy) (1.0.4)\n",
            "Requirement already satisfied: murmurhash<1.1.0,>=0.28.0 in /usr/local/lib/python3.10/dist-packages (from spacy) (1.0.9)\n",
            "Requirement already satisfied: cymem<2.1.0,>=2.0.2 in /usr/local/lib/python3.10/dist-packages (from spacy) (2.0.7)\n",
            "Requirement already satisfied: preshed<3.1.0,>=3.0.2 in /usr/local/lib/python3.10/dist-packages (from spacy) (3.0.8)\n",
            "Requirement already satisfied: thinc<8.2.0,>=8.1.8 in /usr/local/lib/python3.10/dist-packages (from spacy) (8.1.9)\n",
            "Requirement already satisfied: wasabi<1.2.0,>=0.9.1 in /usr/local/lib/python3.10/dist-packages (from spacy) (1.1.1)\n",
            "Requirement already satisfied: srsly<3.0.0,>=2.4.3 in /usr/local/lib/python3.10/dist-packages (from spacy) (2.4.6)\n",
            "Requirement already satisfied: catalogue<2.1.0,>=2.0.6 in /usr/local/lib/python3.10/dist-packages (from spacy) (2.0.8)\n",
            "Requirement already satisfied: typer<0.8.0,>=0.3.0 in /usr/local/lib/python3.10/dist-packages (from spacy) (0.7.0)\n",
            "Requirement already satisfied: pathy>=0.10.0 in /usr/local/lib/python3.10/dist-packages (from spacy) (0.10.1)\n",
            "Requirement already satisfied: smart-open<7.0.0,>=5.2.1 in /usr/local/lib/python3.10/dist-packages (from spacy) (6.3.0)\n",
            "Requirement already satisfied: tqdm<5.0.0,>=4.38.0 in /usr/local/lib/python3.10/dist-packages (from spacy) (4.65.0)\n",
            "Requirement already satisfied: numpy>=1.15.0 in /usr/local/lib/python3.10/dist-packages (from spacy) (1.22.4)\n",
            "Requirement already satisfied: requests<3.0.0,>=2.13.0 in /usr/local/lib/python3.10/dist-packages (from spacy) (2.27.1)\n",
            "Requirement already satisfied: pydantic!=1.8,!=1.8.1,<1.11.0,>=1.7.4 in /usr/local/lib/python3.10/dist-packages (from spacy) (1.10.7)\n",
            "Requirement already satisfied: jinja2 in /usr/local/lib/python3.10/dist-packages (from spacy) (3.1.2)\n",
            "Requirement already satisfied: setuptools in /usr/local/lib/python3.10/dist-packages (from spacy) (67.7.2)\n",
            "Requirement already satisfied: packaging>=20.0 in /usr/local/lib/python3.10/dist-packages (from spacy) (23.1)\n",
            "Requirement already satisfied: langcodes<4.0.0,>=3.2.0 in /usr/local/lib/python3.10/dist-packages (from spacy) (3.3.0)\n",
            "Requirement already satisfied: typing-extensions>=4.2.0 in /usr/local/lib/python3.10/dist-packages (from pydantic!=1.8,!=1.8.1,<1.11.0,>=1.7.4->spacy) (4.5.0)\n",
            "Requirement already satisfied: urllib3<1.27,>=1.21.1 in /usr/local/lib/python3.10/dist-packages (from requests<3.0.0,>=2.13.0->spacy) (1.26.15)\n",
            "Requirement already satisfied: certifi>=2017.4.17 in /usr/local/lib/python3.10/dist-packages (from requests<3.0.0,>=2.13.0->spacy) (2022.12.7)\n",
            "Requirement already satisfied: charset-normalizer~=2.0.0 in /usr/local/lib/python3.10/dist-packages (from requests<3.0.0,>=2.13.0->spacy) (2.0.12)\n",
            "Requirement already satisfied: idna<4,>=2.5 in /usr/local/lib/python3.10/dist-packages (from requests<3.0.0,>=2.13.0->spacy) (3.4)\n",
            "Requirement already satisfied: blis<0.8.0,>=0.7.8 in /usr/local/lib/python3.10/dist-packages (from thinc<8.2.0,>=8.1.8->spacy) (0.7.9)\n",
            "Requirement already satisfied: confection<1.0.0,>=0.0.1 in /usr/local/lib/python3.10/dist-packages (from thinc<8.2.0,>=8.1.8->spacy) (0.0.4)\n",
            "Requirement already satisfied: click<9.0.0,>=7.1.1 in /usr/local/lib/python3.10/dist-packages (from typer<0.8.0,>=0.3.0->spacy) (8.1.3)\n",
            "Requirement already satisfied: MarkupSafe>=2.0 in /usr/local/lib/python3.10/dist-packages (from jinja2->spacy) (2.1.2)\n"
          ]
        },
        {
          "output_type": "stream",
          "name": "stderr",
          "text": [
            "[nltk_data] Downloading package stopwords to /root/nltk_data...\n",
            "[nltk_data]   Unzipping corpora/stopwords.zip.\n",
            "[nltk_data] Downloading package averaged_perceptron_tagger to\n",
            "[nltk_data]     /root/nltk_data...\n",
            "[nltk_data]   Package averaged_perceptron_tagger is already up-to-\n",
            "[nltk_data]       date!\n",
            "[nltk_data] Downloading package wordnet to /root/nltk_data...\n"
          ]
        }
      ]
    },
    {
      "cell_type": "markdown",
      "source": [
        "\n",
        "### TF-IDF"
      ],
      "metadata": {
        "id": "mmOHJKuMbImv"
      }
    },
    {
      "cell_type": "code",
      "source": [
        "from sklearn.feature_extraction.text import TfidfVectorizer\n",
        "import re\n"
      ],
      "metadata": {
        "id": "2mrc67TZbGaU"
      },
      "execution_count": null,
      "outputs": []
    },
    {
      "cell_type": "markdown",
      "source": [
        "### Scipy"
      ],
      "metadata": {
        "id": "v-iz5h85bOf0"
      }
    },
    {
      "cell_type": "code",
      "source": [
        "import scipy\n",
        "from scipy import sparse\n",
        "from scipy.sparse import csr_matrix"
      ],
      "metadata": {
        "id": "YOY_8K2cbNRp"
      },
      "execution_count": null,
      "outputs": []
    },
    {
      "cell_type": "markdown",
      "source": [
        "### División entrenamiento-prueba y validación cruzada"
      ],
      "metadata": {
        "id": "L_7Wnwa3bU7O"
      }
    },
    {
      "cell_type": "code",
      "source": [
        "from sklearn.model_selection import train_test_split, ParameterGrid\n",
        "from sklearn.model_selection import train_test_split"
      ],
      "metadata": {
        "id": "hWJ9_vwKbT7d"
      },
      "execution_count": null,
      "outputs": []
    },
    {
      "cell_type": "markdown",
      "source": [
        "### Clasificadores"
      ],
      "metadata": {
        "id": "N5KeMkjabmQp"
      }
    },
    {
      "cell_type": "code",
      "source": [
        "from sklearn.linear_model import LogisticRegression\n",
        "from sklearn.neighbors import KNeighborsClassifier\n",
        "from sklearn.tree import DecisionTreeClassifier\n",
        "from sklearn import svm\n",
        "from sklearn.ensemble import RandomForestClassifier\n",
        "from sklearn.linear_model import SGDClassifier\n",
        "from sklearn.linear_model import RidgeClassifier\n",
        "from xgboost import XGBClassifier\n",
        "from sklearn.ensemble import AdaBoostClassifier\n",
        "from sklearn.feature_extraction.text import TfidfVectorizer"
      ],
      "metadata": {
        "id": "awgTlBfGbldA"
      },
      "execution_count": null,
      "outputs": []
    },
    {
      "cell_type": "markdown",
      "source": [
        "\n",
        "### Evaluación de modelo"
      ],
      "metadata": {
        "id": "kjrdDdfLbs6-"
      }
    },
    {
      "cell_type": "code",
      "source": [
        "!pip install xgboost==<version>\n",
        "!pip install xgboost==<version>\n",
        "from sklearn import metrics\n",
        "from sklearn.metrics import accuracy_score\n",
        "!pip install mplcursors\n",
        "!pip install --upgrade scikit-learn\n",
        "from wordcloud import WordCloud,STOPWORDS\n",
        "import nltk\n",
        "from sklearn.metrics import confusion_matrix\n",
        "from nltk.tokenize import word_tokenize\n",
        "from nltk.sentiment import SentimentIntensityAnalyzer"
      ],
      "metadata": {
        "colab": {
          "base_uri": "https://localhost:8080/"
        },
        "id": "6L8B1OAjbrkS",
        "outputId": "81b0ab4f-b952-4919-833f-b2913b7692e4"
      },
      "execution_count": null,
      "outputs": [
        {
          "output_type": "stream",
          "name": "stdout",
          "text": [
            "/bin/bash: -c: line 0: syntax error near unexpected token `newline'\n",
            "/bin/bash: -c: line 0: `pip install xgboost==<version>'\n",
            "/bin/bash: -c: line 0: syntax error near unexpected token `newline'\n",
            "/bin/bash: -c: line 0: `pip install xgboost==<version>'\n",
            "Looking in indexes: https://pypi.org/simple, https://us-python.pkg.dev/colab-wheels/public/simple/\n",
            "Collecting mplcursors\n",
            "  Downloading mplcursors-0.5.2.tar.gz (89 kB)\n",
            "\u001b[2K     \u001b[90m━━━━━━━━━━━━━━━━━━━━━━━━━━━━━━━━━━━━━━━━\u001b[0m \u001b[32m89.0/89.0 kB\u001b[0m \u001b[31m8.9 MB/s\u001b[0m eta \u001b[36m0:00:00\u001b[0m\n",
            "\u001b[?25h  Preparing metadata (setup.py) ... \u001b[?25l\u001b[?25hdone\n",
            "Requirement already satisfied: matplotlib>=3.1 in /usr/local/lib/python3.10/dist-packages (from mplcursors) (3.7.1)\n",
            "Requirement already satisfied: contourpy>=1.0.1 in /usr/local/lib/python3.10/dist-packages (from matplotlib>=3.1->mplcursors) (1.0.7)\n",
            "Requirement already satisfied: cycler>=0.10 in /usr/local/lib/python3.10/dist-packages (from matplotlib>=3.1->mplcursors) (0.11.0)\n",
            "Requirement already satisfied: fonttools>=4.22.0 in /usr/local/lib/python3.10/dist-packages (from matplotlib>=3.1->mplcursors) (4.39.3)\n",
            "Requirement already satisfied: kiwisolver>=1.0.1 in /usr/local/lib/python3.10/dist-packages (from matplotlib>=3.1->mplcursors) (1.4.4)\n",
            "Requirement already satisfied: numpy>=1.20 in /usr/local/lib/python3.10/dist-packages (from matplotlib>=3.1->mplcursors) (1.22.4)\n",
            "Requirement already satisfied: packaging>=20.0 in /usr/local/lib/python3.10/dist-packages (from matplotlib>=3.1->mplcursors) (23.1)\n",
            "Requirement already satisfied: pillow>=6.2.0 in /usr/local/lib/python3.10/dist-packages (from matplotlib>=3.1->mplcursors) (8.4.0)\n",
            "Requirement already satisfied: pyparsing>=2.3.1 in /usr/local/lib/python3.10/dist-packages (from matplotlib>=3.1->mplcursors) (3.0.9)\n",
            "Requirement already satisfied: python-dateutil>=2.7 in /usr/local/lib/python3.10/dist-packages (from matplotlib>=3.1->mplcursors) (2.8.2)\n",
            "Requirement already satisfied: six>=1.5 in /usr/local/lib/python3.10/dist-packages (from python-dateutil>=2.7->matplotlib>=3.1->mplcursors) (1.16.0)\n",
            "Building wheels for collected packages: mplcursors\n",
            "  Building wheel for mplcursors (setup.py) ... \u001b[?25l\u001b[?25hdone\n",
            "  Created wheel for mplcursors: filename=mplcursors-0.5.2-py3-none-any.whl size=21071 sha256=95e2841a96d195d7ab075d7abfa386332b49684ef1aac5c5de0009276fc4bc15\n",
            "  Stored in directory: /root/.cache/pip/wheels/b5/5b/fb/aed35cc15262c380536820fa3cb2e2d41fb52450de918a6785\n",
            "Successfully built mplcursors\n",
            "Installing collected packages: mplcursors\n",
            "Successfully installed mplcursors-0.5.2\n",
            "Looking in indexes: https://pypi.org/simple, https://us-python.pkg.dev/colab-wheels/public/simple/\n",
            "Requirement already satisfied: scikit-learn in /usr/local/lib/python3.10/dist-packages (1.2.2)\n",
            "Requirement already satisfied: numpy>=1.17.3 in /usr/local/lib/python3.10/dist-packages (from scikit-learn) (1.22.4)\n",
            "Requirement already satisfied: scipy>=1.3.2 in /usr/local/lib/python3.10/dist-packages (from scikit-learn) (1.10.1)\n",
            "Requirement already satisfied: joblib>=1.1.1 in /usr/local/lib/python3.10/dist-packages (from scikit-learn) (1.2.0)\n",
            "Requirement already satisfied: threadpoolctl>=2.0.0 in /usr/local/lib/python3.10/dist-packages (from scikit-learn) (3.1.0)\n"
          ]
        }
      ]
    },
    {
      "cell_type": "markdown",
      "source": [
        "### Redes neuronales"
      ],
      "metadata": {
        "id": "zaThgGx4byT2"
      }
    },
    {
      "cell_type": "code",
      "source": [
        "!pip install keras --upgrade\n",
        "import tensorflow as tf\n",
        "!pip install my_module\n",
        "import my_module\n",
        "import scipy.sparse"
      ],
      "metadata": {
        "colab": {
          "base_uri": "https://localhost:8080/"
        },
        "id": "u6CD5qdfbxrl",
        "outputId": "3f4d2f59-b070-4d03-d25b-5c97ce75f59d"
      },
      "execution_count": null,
      "outputs": [
        {
          "output_type": "stream",
          "name": "stdout",
          "text": [
            "Looking in indexes: https://pypi.org/simple, https://us-python.pkg.dev/colab-wheels/public/simple/\n",
            "Requirement already satisfied: keras in /usr/local/lib/python3.10/dist-packages (2.12.0)\n",
            "Looking in indexes: https://pypi.org/simple, https://us-python.pkg.dev/colab-wheels/public/simple/\n",
            "Collecting my_module\n",
            "  Downloading my_module-1.6.2.zip (967 bytes)\n",
            "  Preparing metadata (setup.py) ... \u001b[?25l\u001b[?25hdone\n",
            "Building wheels for collected packages: my_module\n",
            "  Building wheel for my_module (setup.py) ... \u001b[?25l\u001b[?25hdone\n",
            "  Created wheel for my_module: filename=my_module-1.6.2-py3-none-any.whl size=1428 sha256=3ac30f5913ee7b8746f93404357d0d796f76a381b7d5950786216310a54f6f42\n",
            "  Stored in directory: /root/.cache/pip/wheels/ea/6f/99/8a43d4d21ab49e14293e432ea3587ec33b41e6685c86f82a88\n",
            "Successfully built my_module\n",
            "Installing collected packages: my_module\n",
            "Successfully installed my_module-1.6.2\n"
          ]
        }
      ]
    },
    {
      "cell_type": "markdown",
      "source": [
        "### Autenticar y crear el cliente PyDrive."
      ],
      "metadata": {
        "id": "M42JrE4Zb4Xn"
      }
    },
    {
      "cell_type": "code",
      "source": [
        "!pip install pydrive google-auth\n",
        "from pydrive.auth import GoogleAuth\n",
        "from pydrive.drive import GoogleDrive\n",
        "from google.colab import auth\n",
        "from oauth2client.client import GoogleCredentials"
      ],
      "metadata": {
        "colab": {
          "base_uri": "https://localhost:8080/"
        },
        "id": "3cc_s1N8b70J",
        "outputId": "75a37209-bfc3-4baf-f975-9339c879020a"
      },
      "execution_count": null,
      "outputs": [
        {
          "output_type": "stream",
          "name": "stdout",
          "text": [
            "Looking in indexes: https://pypi.org/simple, https://us-python.pkg.dev/colab-wheels/public/simple/\n",
            "Requirement already satisfied: pydrive in /usr/local/lib/python3.10/dist-packages (1.3.1)\n",
            "Requirement already satisfied: google-auth in /usr/local/lib/python3.10/dist-packages (2.17.3)\n",
            "Requirement already satisfied: google-api-python-client>=1.2 in /usr/local/lib/python3.10/dist-packages (from pydrive) (2.84.0)\n",
            "Requirement already satisfied: oauth2client>=4.0.0 in /usr/local/lib/python3.10/dist-packages (from pydrive) (4.1.3)\n",
            "Requirement already satisfied: PyYAML>=3.0 in /usr/local/lib/python3.10/dist-packages (from pydrive) (6.0)\n",
            "Requirement already satisfied: cachetools<6.0,>=2.0.0 in /usr/local/lib/python3.10/dist-packages (from google-auth) (5.3.0)\n",
            "Requirement already satisfied: pyasn1-modules>=0.2.1 in /usr/local/lib/python3.10/dist-packages (from google-auth) (0.3.0)\n",
            "Requirement already satisfied: six>=1.9.0 in /usr/local/lib/python3.10/dist-packages (from google-auth) (1.16.0)\n",
            "Requirement already satisfied: rsa<5,>=3.1.4 in /usr/local/lib/python3.10/dist-packages (from google-auth) (4.9)\n",
            "Requirement already satisfied: httplib2<1dev,>=0.15.0 in /usr/local/lib/python3.10/dist-packages (from google-api-python-client>=1.2->pydrive) (0.21.0)\n",
            "Requirement already satisfied: google-auth-httplib2>=0.1.0 in /usr/local/lib/python3.10/dist-packages (from google-api-python-client>=1.2->pydrive) (0.1.0)\n",
            "Requirement already satisfied: google-api-core!=2.0.*,!=2.1.*,!=2.2.*,!=2.3.0,<3.0.0dev,>=1.31.5 in /usr/local/lib/python3.10/dist-packages (from google-api-python-client>=1.2->pydrive) (2.11.0)\n",
            "Requirement already satisfied: uritemplate<5,>=3.0.1 in /usr/local/lib/python3.10/dist-packages (from google-api-python-client>=1.2->pydrive) (4.1.1)\n",
            "Requirement already satisfied: pyasn1>=0.1.7 in /usr/local/lib/python3.10/dist-packages (from oauth2client>=4.0.0->pydrive) (0.5.0)\n",
            "Requirement already satisfied: googleapis-common-protos<2.0dev,>=1.56.2 in /usr/local/lib/python3.10/dist-packages (from google-api-core!=2.0.*,!=2.1.*,!=2.2.*,!=2.3.0,<3.0.0dev,>=1.31.5->google-api-python-client>=1.2->pydrive) (1.59.0)\n",
            "Requirement already satisfied: protobuf!=3.20.0,!=3.20.1,!=4.21.0,!=4.21.1,!=4.21.2,!=4.21.3,!=4.21.4,!=4.21.5,<5.0.0dev,>=3.19.5 in /usr/local/lib/python3.10/dist-packages (from google-api-core!=2.0.*,!=2.1.*,!=2.2.*,!=2.3.0,<3.0.0dev,>=1.31.5->google-api-python-client>=1.2->pydrive) (3.20.3)\n",
            "Requirement already satisfied: requests<3.0.0dev,>=2.18.0 in /usr/local/lib/python3.10/dist-packages (from google-api-core!=2.0.*,!=2.1.*,!=2.2.*,!=2.3.0,<3.0.0dev,>=1.31.5->google-api-python-client>=1.2->pydrive) (2.27.1)\n",
            "Requirement already satisfied: pyparsing!=3.0.0,!=3.0.1,!=3.0.2,!=3.0.3,<4,>=2.4.2 in /usr/local/lib/python3.10/dist-packages (from httplib2<1dev,>=0.15.0->google-api-python-client>=1.2->pydrive) (3.0.9)\n",
            "Requirement already satisfied: urllib3<1.27,>=1.21.1 in /usr/local/lib/python3.10/dist-packages (from requests<3.0.0dev,>=2.18.0->google-api-core!=2.0.*,!=2.1.*,!=2.2.*,!=2.3.0,<3.0.0dev,>=1.31.5->google-api-python-client>=1.2->pydrive) (1.26.15)\n",
            "Requirement already satisfied: certifi>=2017.4.17 in /usr/local/lib/python3.10/dist-packages (from requests<3.0.0dev,>=2.18.0->google-api-core!=2.0.*,!=2.1.*,!=2.2.*,!=2.3.0,<3.0.0dev,>=1.31.5->google-api-python-client>=1.2->pydrive) (2022.12.7)\n",
            "Requirement already satisfied: charset-normalizer~=2.0.0 in /usr/local/lib/python3.10/dist-packages (from requests<3.0.0dev,>=2.18.0->google-api-core!=2.0.*,!=2.1.*,!=2.2.*,!=2.3.0,<3.0.0dev,>=1.31.5->google-api-python-client>=1.2->pydrive) (2.0.12)\n",
            "Requirement already satisfied: idna<4,>=2.5 in /usr/local/lib/python3.10/dist-packages (from requests<3.0.0dev,>=2.18.0->google-api-core!=2.0.*,!=2.1.*,!=2.2.*,!=2.3.0,<3.0.0dev,>=1.31.5->google-api-python-client>=1.2->pydrive) (3.4)\n"
          ]
        }
      ]
    },
    {
      "cell_type": "markdown",
      "source": [
        "### Otros"
      ],
      "metadata": {
        "id": "Z0B3US4sb96i"
      }
    },
    {
      "cell_type": "code",
      "source": [
        "import json\n",
        "import gensim\n",
        "from sklearn.decomposition import TruncatedSVD\n"
      ],
      "metadata": {
        "id": "wdhMfxukb3WQ"
      },
      "execution_count": null,
      "outputs": []
    },
    {
      "cell_type": "markdown",
      "source": [
        "---\n",
        "# **2. Base de datos**\n",
        "\n",
        "---"
      ],
      "metadata": {
        "id": "JKMcrZGURJqs"
      }
    },
    {
      "cell_type": "markdown",
      "source": [
        "### 2.1  Importación"
      ],
      "metadata": {
        "id": "ZMEtpTRMROxx"
      }
    },
    {
      "cell_type": "code",
      "source": [
        "# Importar\n",
        "df_V1 = pd.read_excel(\"/content/B.xlsx\")\n",
        "\n",
        "# Imprimir los primeros registros del DataFrame\n",
        "print(\"\\033[43m\\033[30m\\033[1mRespuesta:\\033[0m\")\n",
        "df_V1.head(10).round(2)\n",
        "\n"
      ],
      "metadata": {
        "colab": {
          "base_uri": "https://localhost:8080/",
          "height": 965
        },
        "id": "a5g5RW65RR-u",
        "outputId": "0da7cd1c-9ac1-409b-f0fb-2c4951f7190d"
      },
      "execution_count": null,
      "outputs": [
        {
          "output_type": "stream",
          "name": "stdout",
          "text": [
            "\u001b[43m\u001b[30m\u001b[1mRespuesta:\u001b[0m\n"
          ]
        },
        {
          "output_type": "execute_result",
          "data": {
            "text/plain": [
              "       tweet_id airline_sentiment  airline_sentiment_confidence  \\\n",
              "0  5.693620e+22          negative                          1.00   \n",
              "1  5.693440e+22          negative                          1.00   \n",
              "2  5.689940e+22           neutral                          0.34   \n",
              "3  5.689920e+22          negative                          0.66   \n",
              "4  5.688870e+22           neutral                          0.72   \n",
              "5  5.680880e+22           neutral                          1.00   \n",
              "6  5.698740e+22           neutral                          1.00   \n",
              "7  5.698740e+22           neutral                          1.00   \n",
              "8  5.698760e+22           neutral                          0.68   \n",
              "9  5.687710e+22           neutral                          1.00   \n",
              "\n",
              "            negativereason  negativereason_confidence         airline  \\\n",
              "0              Late Flight                       0.66      US Airways   \n",
              "1   Customer Service Issue                       0.68      US Airways   \n",
              "2                      NaN                       0.00           Delta   \n",
              "3  Flight Booking Problems                       0.66           Delta   \n",
              "4                      NaN                        NaN          United   \n",
              "5                      NaN                        NaN  Virgin America   \n",
              "6                      NaN                        NaN          United   \n",
              "7                      NaN                        NaN          United   \n",
              "8                      NaN                       0.00          United   \n",
              "9                      NaN                        NaN          United   \n",
              "\n",
              "  airline_sentiment_gold           name negativereason_gold  retweet_count  \\\n",
              "0                    NaN       OP_Rahul                 NaN              0   \n",
              "1                    NaN       OP_Rahul                 NaN              0   \n",
              "2                    NaN  KoolieAshSays                 NaN              0   \n",
              "3                    NaN  KoolieAshSays                 NaN              0   \n",
              "4                    NaN   KeldaPharris                 NaN              1   \n",
              "5                    NaN   AlMehairiAUH                 NaN              0   \n",
              "6                    NaN   AlMehairiAUH                 NaN              0   \n",
              "7                    NaN   AlMehairiAUH                 NaN              0   \n",
              "8                    NaN   AlMehairiAUH                 NaN              0   \n",
              "9                    NaN   AlMehairiAUH                 NaN              0   \n",
              "\n",
              "                                                text  \\\n",
              "0  @USAirways actually it landed in BWI 30 minute...   \n",
              "1  @USAirways is flt 680 en route to DCA or BWI a...   \n",
              "2                  @JetBlue oh. Makes sense. My bad.   \n",
              "3  @JetBlue why won't the site let me book ticket...   \n",
              "4  @united blood services, make your appt. today!...   \n",
              "5  @VirginAmerica to start 5xweekly #A319 flights...   \n",
              "6  @United to start daily #B777-200ER flights fro...   \n",
              "7  @United to start daily #B777-200ER flights fro...   \n",
              "8  @United to operated #B767-300ER from #Newark t...   \n",
              "9  @United to start 3xdaily @EmbraerSA #ERJ145 fl...   \n",
              "\n",
              "                   tweet_coord       tweet_created tweet_location  \\\n",
              "0                          NaN 2015-02-21 21:04:00         Hawaii   \n",
              "1                          NaN 2015-02-21 19:51:00         Hawaii   \n",
              "2    [40.88529232, -73.856635] 2015-02-20 20:41:00         Hawaii   \n",
              "3  [40.88539964, -73.85658056] 2015-02-20 20:35:00         Hawaii   \n",
              "4                          NaN 2015-02-20 13:37:00       Aberdeen   \n",
              "5                          NaN 2015-02-18 08:43:00      Abu Dhabi   \n",
              "6                          NaN 2015-02-23 06:58:00      Abu Dhabi   \n",
              "7                          NaN 2015-02-23 06:59:00      Abu Dhabi   \n",
              "8                          NaN 2015-02-23 07:05:00      Abu Dhabi   \n",
              "9                          NaN 2015-02-20 05:55:00      Abu Dhabi   \n",
              "\n",
              "                user_timezone  \n",
              "0                         NaN  \n",
              "1                         NaN  \n",
              "2  Pacific Time (US & Canada)  \n",
              "3  Pacific Time (US & Canada)  \n",
              "4  Central Time (US & Canada)  \n",
              "5                   Abu Dhabi  \n",
              "6                   Abu Dhabi  \n",
              "7                   Abu Dhabi  \n",
              "8                   Abu Dhabi  \n",
              "9                   Abu Dhabi  "
            ],
            "text/html": [
              "\n",
              "  <div id=\"df-9ce02175-8e4a-47d4-a12c-9af25baac51b\">\n",
              "    <div class=\"colab-df-container\">\n",
              "      <div>\n",
              "<style scoped>\n",
              "    .dataframe tbody tr th:only-of-type {\n",
              "        vertical-align: middle;\n",
              "    }\n",
              "\n",
              "    .dataframe tbody tr th {\n",
              "        vertical-align: top;\n",
              "    }\n",
              "\n",
              "    .dataframe thead th {\n",
              "        text-align: right;\n",
              "    }\n",
              "</style>\n",
              "<table border=\"1\" class=\"dataframe\">\n",
              "  <thead>\n",
              "    <tr style=\"text-align: right;\">\n",
              "      <th></th>\n",
              "      <th>tweet_id</th>\n",
              "      <th>airline_sentiment</th>\n",
              "      <th>airline_sentiment_confidence</th>\n",
              "      <th>negativereason</th>\n",
              "      <th>negativereason_confidence</th>\n",
              "      <th>airline</th>\n",
              "      <th>airline_sentiment_gold</th>\n",
              "      <th>name</th>\n",
              "      <th>negativereason_gold</th>\n",
              "      <th>retweet_count</th>\n",
              "      <th>text</th>\n",
              "      <th>tweet_coord</th>\n",
              "      <th>tweet_created</th>\n",
              "      <th>tweet_location</th>\n",
              "      <th>user_timezone</th>\n",
              "    </tr>\n",
              "  </thead>\n",
              "  <tbody>\n",
              "    <tr>\n",
              "      <th>0</th>\n",
              "      <td>5.693620e+22</td>\n",
              "      <td>negative</td>\n",
              "      <td>1.00</td>\n",
              "      <td>Late Flight</td>\n",
              "      <td>0.66</td>\n",
              "      <td>US Airways</td>\n",
              "      <td>NaN</td>\n",
              "      <td>OP_Rahul</td>\n",
              "      <td>NaN</td>\n",
              "      <td>0</td>\n",
              "      <td>@USAirways actually it landed in BWI 30 minute...</td>\n",
              "      <td>NaN</td>\n",
              "      <td>2015-02-21 21:04:00</td>\n",
              "      <td>Hawaii</td>\n",
              "      <td>NaN</td>\n",
              "    </tr>\n",
              "    <tr>\n",
              "      <th>1</th>\n",
              "      <td>5.693440e+22</td>\n",
              "      <td>negative</td>\n",
              "      <td>1.00</td>\n",
              "      <td>Customer Service Issue</td>\n",
              "      <td>0.68</td>\n",
              "      <td>US Airways</td>\n",
              "      <td>NaN</td>\n",
              "      <td>OP_Rahul</td>\n",
              "      <td>NaN</td>\n",
              "      <td>0</td>\n",
              "      <td>@USAirways is flt 680 en route to DCA or BWI a...</td>\n",
              "      <td>NaN</td>\n",
              "      <td>2015-02-21 19:51:00</td>\n",
              "      <td>Hawaii</td>\n",
              "      <td>NaN</td>\n",
              "    </tr>\n",
              "    <tr>\n",
              "      <th>2</th>\n",
              "      <td>5.689940e+22</td>\n",
              "      <td>neutral</td>\n",
              "      <td>0.34</td>\n",
              "      <td>NaN</td>\n",
              "      <td>0.00</td>\n",
              "      <td>Delta</td>\n",
              "      <td>NaN</td>\n",
              "      <td>KoolieAshSays</td>\n",
              "      <td>NaN</td>\n",
              "      <td>0</td>\n",
              "      <td>@JetBlue oh. Makes sense. My bad.</td>\n",
              "      <td>[40.88529232, -73.856635]</td>\n",
              "      <td>2015-02-20 20:41:00</td>\n",
              "      <td>Hawaii</td>\n",
              "      <td>Pacific Time (US &amp; Canada)</td>\n",
              "    </tr>\n",
              "    <tr>\n",
              "      <th>3</th>\n",
              "      <td>5.689920e+22</td>\n",
              "      <td>negative</td>\n",
              "      <td>0.66</td>\n",
              "      <td>Flight Booking Problems</td>\n",
              "      <td>0.66</td>\n",
              "      <td>Delta</td>\n",
              "      <td>NaN</td>\n",
              "      <td>KoolieAshSays</td>\n",
              "      <td>NaN</td>\n",
              "      <td>0</td>\n",
              "      <td>@JetBlue why won't the site let me book ticket...</td>\n",
              "      <td>[40.88539964, -73.85658056]</td>\n",
              "      <td>2015-02-20 20:35:00</td>\n",
              "      <td>Hawaii</td>\n",
              "      <td>Pacific Time (US &amp; Canada)</td>\n",
              "    </tr>\n",
              "    <tr>\n",
              "      <th>4</th>\n",
              "      <td>5.688870e+22</td>\n",
              "      <td>neutral</td>\n",
              "      <td>0.72</td>\n",
              "      <td>NaN</td>\n",
              "      <td>NaN</td>\n",
              "      <td>United</td>\n",
              "      <td>NaN</td>\n",
              "      <td>KeldaPharris</td>\n",
              "      <td>NaN</td>\n",
              "      <td>1</td>\n",
              "      <td>@united blood services, make your appt. today!...</td>\n",
              "      <td>NaN</td>\n",
              "      <td>2015-02-20 13:37:00</td>\n",
              "      <td>Aberdeen</td>\n",
              "      <td>Central Time (US &amp; Canada)</td>\n",
              "    </tr>\n",
              "    <tr>\n",
              "      <th>5</th>\n",
              "      <td>5.680880e+22</td>\n",
              "      <td>neutral</td>\n",
              "      <td>1.00</td>\n",
              "      <td>NaN</td>\n",
              "      <td>NaN</td>\n",
              "      <td>Virgin America</td>\n",
              "      <td>NaN</td>\n",
              "      <td>AlMehairiAUH</td>\n",
              "      <td>NaN</td>\n",
              "      <td>0</td>\n",
              "      <td>@VirginAmerica to start 5xweekly #A319 flights...</td>\n",
              "      <td>NaN</td>\n",
              "      <td>2015-02-18 08:43:00</td>\n",
              "      <td>Abu Dhabi</td>\n",
              "      <td>Abu Dhabi</td>\n",
              "    </tr>\n",
              "    <tr>\n",
              "      <th>6</th>\n",
              "      <td>5.698740e+22</td>\n",
              "      <td>neutral</td>\n",
              "      <td>1.00</td>\n",
              "      <td>NaN</td>\n",
              "      <td>NaN</td>\n",
              "      <td>United</td>\n",
              "      <td>NaN</td>\n",
              "      <td>AlMehairiAUH</td>\n",
              "      <td>NaN</td>\n",
              "      <td>0</td>\n",
              "      <td>@United to start daily #B777-200ER flights fro...</td>\n",
              "      <td>NaN</td>\n",
              "      <td>2015-02-23 06:58:00</td>\n",
              "      <td>Abu Dhabi</td>\n",
              "      <td>Abu Dhabi</td>\n",
              "    </tr>\n",
              "    <tr>\n",
              "      <th>7</th>\n",
              "      <td>5.698740e+22</td>\n",
              "      <td>neutral</td>\n",
              "      <td>1.00</td>\n",
              "      <td>NaN</td>\n",
              "      <td>NaN</td>\n",
              "      <td>United</td>\n",
              "      <td>NaN</td>\n",
              "      <td>AlMehairiAUH</td>\n",
              "      <td>NaN</td>\n",
              "      <td>0</td>\n",
              "      <td>@United to start daily #B777-200ER flights fro...</td>\n",
              "      <td>NaN</td>\n",
              "      <td>2015-02-23 06:59:00</td>\n",
              "      <td>Abu Dhabi</td>\n",
              "      <td>Abu Dhabi</td>\n",
              "    </tr>\n",
              "    <tr>\n",
              "      <th>8</th>\n",
              "      <td>5.698760e+22</td>\n",
              "      <td>neutral</td>\n",
              "      <td>0.68</td>\n",
              "      <td>NaN</td>\n",
              "      <td>0.00</td>\n",
              "      <td>United</td>\n",
              "      <td>NaN</td>\n",
              "      <td>AlMehairiAUH</td>\n",
              "      <td>NaN</td>\n",
              "      <td>0</td>\n",
              "      <td>@United to operated #B767-300ER from #Newark t...</td>\n",
              "      <td>NaN</td>\n",
              "      <td>2015-02-23 07:05:00</td>\n",
              "      <td>Abu Dhabi</td>\n",
              "      <td>Abu Dhabi</td>\n",
              "    </tr>\n",
              "    <tr>\n",
              "      <th>9</th>\n",
              "      <td>5.687710e+22</td>\n",
              "      <td>neutral</td>\n",
              "      <td>1.00</td>\n",
              "      <td>NaN</td>\n",
              "      <td>NaN</td>\n",
              "      <td>United</td>\n",
              "      <td>NaN</td>\n",
              "      <td>AlMehairiAUH</td>\n",
              "      <td>NaN</td>\n",
              "      <td>0</td>\n",
              "      <td>@United to start 3xdaily @EmbraerSA #ERJ145 fl...</td>\n",
              "      <td>NaN</td>\n",
              "      <td>2015-02-20 05:55:00</td>\n",
              "      <td>Abu Dhabi</td>\n",
              "      <td>Abu Dhabi</td>\n",
              "    </tr>\n",
              "  </tbody>\n",
              "</table>\n",
              "</div>\n",
              "      <button class=\"colab-df-convert\" onclick=\"convertToInteractive('df-9ce02175-8e4a-47d4-a12c-9af25baac51b')\"\n",
              "              title=\"Convert this dataframe to an interactive table.\"\n",
              "              style=\"display:none;\">\n",
              "        \n",
              "  <svg xmlns=\"http://www.w3.org/2000/svg\" height=\"24px\"viewBox=\"0 0 24 24\"\n",
              "       width=\"24px\">\n",
              "    <path d=\"M0 0h24v24H0V0z\" fill=\"none\"/>\n",
              "    <path d=\"M18.56 5.44l.94 2.06.94-2.06 2.06-.94-2.06-.94-.94-2.06-.94 2.06-2.06.94zm-11 1L8.5 8.5l.94-2.06 2.06-.94-2.06-.94L8.5 2.5l-.94 2.06-2.06.94zm10 10l.94 2.06.94-2.06 2.06-.94-2.06-.94-.94-2.06-.94 2.06-2.06.94z\"/><path d=\"M17.41 7.96l-1.37-1.37c-.4-.4-.92-.59-1.43-.59-.52 0-1.04.2-1.43.59L10.3 9.45l-7.72 7.72c-.78.78-.78 2.05 0 2.83L4 21.41c.39.39.9.59 1.41.59.51 0 1.02-.2 1.41-.59l7.78-7.78 2.81-2.81c.8-.78.8-2.07 0-2.86zM5.41 20L4 18.59l7.72-7.72 1.47 1.35L5.41 20z\"/>\n",
              "  </svg>\n",
              "      </button>\n",
              "      \n",
              "  <style>\n",
              "    .colab-df-container {\n",
              "      display:flex;\n",
              "      flex-wrap:wrap;\n",
              "      gap: 12px;\n",
              "    }\n",
              "\n",
              "    .colab-df-convert {\n",
              "      background-color: #E8F0FE;\n",
              "      border: none;\n",
              "      border-radius: 50%;\n",
              "      cursor: pointer;\n",
              "      display: none;\n",
              "      fill: #1967D2;\n",
              "      height: 32px;\n",
              "      padding: 0 0 0 0;\n",
              "      width: 32px;\n",
              "    }\n",
              "\n",
              "    .colab-df-convert:hover {\n",
              "      background-color: #E2EBFA;\n",
              "      box-shadow: 0px 1px 2px rgba(60, 64, 67, 0.3), 0px 1px 3px 1px rgba(60, 64, 67, 0.15);\n",
              "      fill: #174EA6;\n",
              "    }\n",
              "\n",
              "    [theme=dark] .colab-df-convert {\n",
              "      background-color: #3B4455;\n",
              "      fill: #D2E3FC;\n",
              "    }\n",
              "\n",
              "    [theme=dark] .colab-df-convert:hover {\n",
              "      background-color: #434B5C;\n",
              "      box-shadow: 0px 1px 3px 1px rgba(0, 0, 0, 0.15);\n",
              "      filter: drop-shadow(0px 1px 2px rgba(0, 0, 0, 0.3));\n",
              "      fill: #FFFFFF;\n",
              "    }\n",
              "  </style>\n",
              "\n",
              "      <script>\n",
              "        const buttonEl =\n",
              "          document.querySelector('#df-9ce02175-8e4a-47d4-a12c-9af25baac51b button.colab-df-convert');\n",
              "        buttonEl.style.display =\n",
              "          google.colab.kernel.accessAllowed ? 'block' : 'none';\n",
              "\n",
              "        async function convertToInteractive(key) {\n",
              "          const element = document.querySelector('#df-9ce02175-8e4a-47d4-a12c-9af25baac51b');\n",
              "          const dataTable =\n",
              "            await google.colab.kernel.invokeFunction('convertToInteractive',\n",
              "                                                     [key], {});\n",
              "          if (!dataTable) return;\n",
              "\n",
              "          const docLinkHtml = 'Like what you see? Visit the ' +\n",
              "            '<a target=\"_blank\" href=https://colab.research.google.com/notebooks/data_table.ipynb>data table notebook</a>'\n",
              "            + ' to learn more about interactive tables.';\n",
              "          element.innerHTML = '';\n",
              "          dataTable['output_type'] = 'display_data';\n",
              "          await google.colab.output.renderOutput(dataTable, element);\n",
              "          const docLink = document.createElement('div');\n",
              "          docLink.innerHTML = docLinkHtml;\n",
              "          element.appendChild(docLink);\n",
              "        }\n",
              "      </script>\n",
              "    </div>\n",
              "  </div>\n",
              "  "
            ]
          },
          "metadata": {},
          "execution_count": 20
        }
      ]
    },
    {
      "cell_type": "markdown",
      "source": [
        "---\n",
        "# **3. Análisis exploratorio**\n",
        "\n",
        "---"
      ],
      "metadata": {
        "id": "hx37Jt3fSw51"
      }
    },
    {
      "cell_type": "markdown",
      "source": [
        "### 3.1  Estructura de la Matriz"
      ],
      "metadata": {
        "id": "ZbltsBR8S2jQ"
      }
    },
    {
      "cell_type": "code",
      "source": [
        "df_V1.shape\n",
        "print(\"\\033[43m\\033[30m\\033[1mRespuesta:\\033[0m\")\n",
        "print(\"Existen -\", df_V1.shape[0], \"-  filas que se carcateriza por  -\", df_V1.shape[1], \"-  variables.\")"
      ],
      "metadata": {
        "colab": {
          "base_uri": "https://localhost:8080/"
        },
        "id": "rR9M1g3RS7P4",
        "outputId": "94deaaad-6480-48d3-c7dd-b06b42b0f207"
      },
      "execution_count": null,
      "outputs": [
        {
          "output_type": "stream",
          "name": "stdout",
          "text": [
            "\u001b[43m\u001b[30m\u001b[1mRespuesta:\u001b[0m\n",
            "Existen - 14510 -  filas que se carcateriza por  - 15 -  variables.\n"
          ]
        }
      ]
    },
    {
      "cell_type": "markdown",
      "source": [
        "### 3.2  Identificación Dtype por variable"
      ],
      "metadata": {
        "id": "cIbY-D-pTGNS"
      }
    },
    {
      "cell_type": "code",
      "source": [
        "import pandas as pd\n",
        "import math\n",
        "\n",
        "# Obtener la lista de nombres de variables\n",
        "feature_names = list(df_V1.columns)\n",
        "\n",
        "# Clasificar las variables en categóricas o numéricas\n",
        "categorical_features = []\n",
        "numerical_features = []\n",
        "\n",
        "# Crear listas vacías para guardar los resultados de cada variable\n",
        "total_values = []\n",
        "missing_values = []\n",
        "numeric_values = []\n",
        "categorical_values = []\n",
        "comma_values = []\n",
        "dot_values = []\n",
        "\n",
        "# Iterar sobre cada variable del dataframe\n",
        "for feature in feature_names:\n",
        "    # Obtener los valores de la variable\n",
        "    values = df_V1[feature]\n",
        "    \n",
        "    # Contar el número de valores totales\n",
        "    total = len(values)\n",
        "    total_values.append(total)\n",
        "    \n",
        "    # Contar el número de valores faltantes\n",
        "    missing = values.isna().sum()\n",
        "    missing_values.append(missing)\n",
        "    \n",
        "    # Contar el número de valores numéricos y categóricos\n",
        "    numeric = 0\n",
        "    categorical = 0\n",
        "    commas = 0\n",
        "    dots = 0\n",
        "    for value in values:\n",
        "        if isinstance(value, (int, float)):\n",
        "            numeric += 1\n",
        "            if isinstance(value, float):\n",
        "                if math.isnan(value):\n",
        "                    missing += 1\n",
        "                else:\n",
        "                    string_value = str(value)\n",
        "                    commas += string_value.count(\",\")\n",
        "                    dots += string_value.count(\".\")\n",
        "        elif isinstance(value, str):\n",
        "            categorical += 1\n",
        "            commas += value.count(\",\")\n",
        "            dots += value.count(\".\")\n",
        "            \n",
        "    numeric_values.append(numeric)\n",
        "    categorical_values.append(categorical)\n",
        "    comma_values.append(commas)\n",
        "    dot_values.append(dots)\n",
        "    \n",
        "    # Clasificar las variables en numéricas o categóricas\n",
        "    if categorical > 0:\n",
        "        categorical_features.append(feature)\n",
        "    else:\n",
        "        numerical_features.append(feature)\n",
        "    \n",
        "# Crear un dataframe con los resultados\n",
        "resultados = pd.DataFrame({\n",
        "    \"Variable\": feature_names,\n",
        "    \"Total\": total_values,\n",
        "    \"Celdas Vacías\": missing_values,\n",
        "    \"Numéricos\": numeric_values,\n",
        "    \"Categóricos\": categorical_values,\n",
        "    \"Comas\": comma_values,\n",
        "    \"Puntos\": dot_values\n",
        "})\n",
        "\n",
        "# Configurar la salida para mostrar todas las filas y columnas\n",
        "pd.set_option(\"display.max_rows\", None, \"display.max_columns\", None)\n",
        "\n",
        "# Imprimir los resultados sin el índice de fila\n",
        "print(\"\\033[43m\\033[30m\\033[1mRespuesta:\\033[0m\")\n",
        "print(resultados.to_string(index=False))\n",
        "\n",
        "\n"
      ],
      "metadata": {
        "colab": {
          "base_uri": "https://localhost:8080/"
        },
        "id": "5SBMZ-Yzta3Z",
        "outputId": "64522472-1024-4606-c8b8-cf1d73f97b2f"
      },
      "execution_count": null,
      "outputs": [
        {
          "output_type": "stream",
          "name": "stdout",
          "text": [
            "\u001b[43m\u001b[30m\u001b[1mRespuesta:\u001b[0m\n",
            "                    Variable  Total  Celdas Vacías  Numéricos  Categóricos  Comas  Puntos\n",
            "                    tweet_id  14510              0      14510            0      0   14510\n",
            "           airline_sentiment  14510              0          0        14510      0       0\n",
            "airline_sentiment_confidence  14510              0      14510            0      0   14510\n",
            "              negativereason  14510           5414       5414         9096      0       0\n",
            "   negativereason_confidence  14510           4078      14510            0      0   10432\n",
            "                     airline  14510              0          0        14510      0       0\n",
            "      airline_sentiment_gold  14510          14462      14462           48      1       0\n",
            "                        name  14510              0          2        14508      0       0\n",
            "         negativereason_gold  14510          14478      14478           32      0       0\n",
            "               retweet_count  14510              0      14510            0      0       0\n",
            "                        text  14510              0          0        14510   4023   18023\n",
            "                 tweet_coord  14510          13571      13571          939    939    1878\n",
            "               tweet_created  14510            868          0            0      0       0\n",
            "              tweet_location  14510              0          0        14510      1       5\n",
            "               user_timezone  14510           5371       5371         9139      0       1\n"
          ]
        }
      ]
    },
    {
      "cell_type": "code",
      "source": [
        "#Visualización de valores faltantes\n",
        "plt.figure(figsize=(12,7))\n",
        "sns.heatmap(df_V1.isnull(), cmap = \"Blues\")                       \n",
        "plt.title(\"Valores Faltantes\", fontsize = 15)\n",
        "print(\"\\033[43m\\033[30m\\033[1mRespuesta:\\033[0m\")\n",
        "plt.show()"
      ],
      "metadata": {
        "colab": {
          "base_uri": "https://localhost:8080/",
          "height": 855
        },
        "id": "tvs-ydqz0TnA",
        "outputId": "e9efe2c9-d262-493e-fea1-db4483a65c89"
      },
      "execution_count": null,
      "outputs": [
        {
          "output_type": "stream",
          "name": "stdout",
          "text": [
            "\u001b[43m\u001b[30m\u001b[1mRespuesta:\u001b[0m\n"
          ]
        },
        {
          "output_type": "display_data",
          "data": {
            "text/plain": [
              "<Figure size 1200x700 with 2 Axes>"
            ],
            "image/png": "[encoded data removed]"
          },
          "metadata": {}
        }
      ]
    },
    {
      "cell_type": "code",
      "source": [
        "# Calcular el porcentaje de valores nulos o faltantes en cada columna\n",
        "percent_null_or_na = df_V1.isna().sum() / len(df_V1) * 100\n",
        "\n",
        "# Imprimir el porcentaje de valores nulos o faltantes en cada columna\n",
        "print(\"\\033[43m\\033[30m\\033[1mRespuesta:\\033[0m\")\n",
        "print(\"Porcentaje de valores nulos o faltantes en cada columna:\")\n",
        "for column, percent in percent_null_or_na.iteritems():\n",
        "    print(f\"{column}: {percent:.2f}%\")\n"
      ],
      "metadata": {
        "colab": {
          "base_uri": "https://localhost:8080/"
        },
        "id": "lg2Gd_EjAAgT",
        "outputId": "f10e1e12-55c8-408e-d8ad-beedd795d0c1"
      },
      "execution_count": null,
      "outputs": [
        {
          "output_type": "stream",
          "name": "stdout",
          "text": [
            "\u001b[43m\u001b[30m\u001b[1mRespuesta:\u001b[0m\n",
            "Porcentaje de valores nulos o faltantes en cada columna:\n",
            "tweet_id: 0.00%\n",
            "airline_sentiment: 0.00%\n",
            "airline_sentiment_confidence: 0.00%\n",
            "negativereason: 37.31%\n",
            "negativereason_confidence: 28.10%\n",
            "airline: 0.00%\n",
            "airline_sentiment_gold: 99.67%\n",
            "name: 0.00%\n",
            "negativereason_gold: 99.78%\n",
            "retweet_count: 0.00%\n",
            "text: 0.00%\n",
            "tweet_coord: 93.53%\n",
            "tweet_created: 5.98%\n",
            "tweet_location: 0.00%\n",
            "user_timezone: 37.02%\n"
          ]
        }
      ]
    },
    {
      "cell_type": "markdown",
      "source": [
        "### 3.3  Clasificación de variables"
      ],
      "metadata": {
        "id": "X_PSOZMixeIB"
      }
    },
    {
      "cell_type": "code",
      "source": [
        "# Obtener los nombres de las variables del dataframe\n",
        "feature_names = df_V1.columns.values\n",
        "\n",
        "# Clasificación de categorías\n",
        "categorical_features = []\n",
        "numerical_features = []\n",
        "\n",
        "for feature in df_V1.columns.values:\n",
        "    if np.issubdtype(df_V1[feature].dtype, np.number):\n",
        "        numerical_features.append(feature)\n",
        "    else:\n",
        "        categorical_features.append(feature)\n",
        "\n",
        "#Imprimir\n",
        "print(\"\\033[43m\\033[30m\\033[1mRespuesta:\\033[0m\")\n",
        "\n",
        "print(\"1. Nombres de características:\", feature_names)\n",
        "print(\"2.  Características categóricas:\", categorical_features)\n",
        "print(\"3.  Características numéricas:\", numerical_features)\n"
      ],
      "metadata": {
        "colab": {
          "base_uri": "https://localhost:8080/"
        },
        "id": "BoTR_kRKWJwt",
        "outputId": "a2963488-3229-46e6-a57d-3959bc7bc8fb"
      },
      "execution_count": null,
      "outputs": [
        {
          "output_type": "stream",
          "name": "stdout",
          "text": [
            "\u001b[43m\u001b[30m\u001b[1mRespuesta:\u001b[0m\n",
            "1. Nombres de características: ['tweet_id' 'airline_sentiment' 'airline_sentiment_confidence'\n",
            " 'negativereason' 'negativereason_confidence' 'airline'\n",
            " 'airline_sentiment_gold' 'name' 'negativereason_gold' 'retweet_count'\n",
            " 'text' 'tweet_coord' 'tweet_created' 'tweet_location' 'user_timezone']\n",
            "2.  Características categóricas: ['airline_sentiment', 'negativereason', 'airline', 'airline_sentiment_gold', 'name', 'negativereason_gold', 'text', 'tweet_coord', 'tweet_created', 'tweet_location', 'user_timezone']\n",
            "3.  Características numéricas: ['tweet_id', 'airline_sentiment_confidence', 'negativereason_confidence', 'retweet_count']\n"
          ]
        }
      ]
    },
    {
      "cell_type": "markdown",
      "source": [
        "### 3.4  Identificación de duplicados"
      ],
      "metadata": {
        "id": "439s61v2YlBZ"
      }
    },
    {
      "cell_type": "markdown",
      "source": [
        "### 3.4.1  Entre variables"
      ],
      "metadata": {
        "id": "0h3Up902at11"
      }
    },
    {
      "cell_type": "code",
      "source": [
        "# Convertir todos los nombres a minúsculas para compararlos\n",
        "df_V1 = df_V1.apply(lambda x: x.astype(str).str.lower())\n",
        "\n",
        "# Crear un diccionario para almacenar nombres parecidos\n",
        "similar_names = {}\n",
        "\n",
        "# Comparar cada par de nombres de columnas y guardar los nombres parecidos\n",
        "for col1 in df_V1.columns:\n",
        "    for col2 in df_V1.columns:\n",
        "        if col1 != col2:\n",
        "            similarity = fuzz.token_sort_ratio(col1, col2)\n",
        "            if similarity > 80:\n",
        "                if col1 in similar_names:\n",
        "                    similar_names[col1].append(col2)\n",
        "                else:\n",
        "                    similar_names[col1] = [col2]\n",
        "\n",
        "# Ordenar los nombres de columnas alfabéticamente\n",
        "sorted_columns = sorted(df_V1.columns)\n",
        "\n",
        "# Mostrar los nombres parecidos\n",
        "print(\"\\033[43m\\033[30m\\033[1mRespuesta:\\033[0m\")\n",
        "print(\"Nombres parecidos:\")\n",
        "for col in sorted_columns:\n",
        "    if col in similar_names:\n",
        "        print(\"{}: {}\".format(col, similar_names[col]))\n",
        "    else:\n",
        "        print(\"{}: Ninguno\".format(col))\n"
      ],
      "metadata": {
        "colab": {
          "base_uri": "https://localhost:8080/"
        },
        "id": "2Yns807qvrw6",
        "outputId": "8338d05f-9df5-4813-a9a1-7b6dca8ecc9e"
      },
      "execution_count": null,
      "outputs": [
        {
          "output_type": "stream",
          "name": "stdout",
          "text": [
            "\u001b[43m\u001b[30m\u001b[1mRespuesta:\u001b[0m\n",
            "Nombres parecidos:\n",
            "airline: Ninguno\n",
            "airline_sentiment: ['airline_sentiment_gold']\n",
            "airline_sentiment_confidence: Ninguno\n",
            "airline_sentiment_gold: ['airline_sentiment']\n",
            "name: Ninguno\n",
            "negativereason: ['negativereason_gold']\n",
            "negativereason_confidence: Ninguno\n",
            "negativereason_gold: ['negativereason']\n",
            "retweet_count: Ninguno\n",
            "text: Ninguno\n",
            "tweet_coord: Ninguno\n",
            "tweet_created: Ninguno\n",
            "tweet_id: Ninguno\n",
            "tweet_location: Ninguno\n",
            "user_timezone: Ninguno\n"
          ]
        }
      ]
    },
    {
      "cell_type": "markdown",
      "source": [
        "### 3.5 ---> Punto de Control"
      ],
      "metadata": {
        "id": "X9CJkFLZfD1h"
      }
    },
    {
      "cell_type": "code",
      "source": [
        "# Generar una copia del DataFrame con otro nombre\n",
        "df_V2_copy = df_V1.copy()\n",
        "# Guardar el DataFrame modificado en un archivo Excel con un nuevo nombre y extensión\n",
        "df_V2_copy.to_excel(\"/content/B_V2.xlsx\", index=False)\n",
        "\n",
        "\n",
        "# Importar el archivo CSV\n",
        "df_V2 = pd.read_excel(\"/content/B_V2.xlsx\")\n",
        "print(\"\\033[43m\\033[30m\\033[1mCOPIA GENERADA\\033[0m\")"
      ],
      "metadata": {
        "id": "-A2dOcedGEvG",
        "colab": {
          "base_uri": "https://localhost:8080/"
        },
        "outputId": "44f1fbb1-bfb2-43b7-c9dd-3b956f00421c"
      },
      "execution_count": null,
      "outputs": [
        {
          "output_type": "stream",
          "name": "stdout",
          "text": [
            "\u001b[43m\u001b[30m\u001b[1mCOPIA GENERADA\u001b[0m\n"
          ]
        }
      ]
    },
    {
      "cell_type": "markdown",
      "source": [
        "---\n",
        "# **4. Limpieza de Base de Datos**\n",
        "\n",
        "---\n"
      ],
      "metadata": {
        "id": "NotPpjxoOWn1"
      }
    },
    {
      "cell_type": "markdown",
      "source": [
        "### 4.1 Eliminar columnass con mas del 99% de celdas vacias"
      ],
      "metadata": {
        "id": "watIUR4fOaa9"
      }
    },
    {
      "cell_type": "code",
      "source": [
        "# Eliminar columnas \"airline_sentiment_gold\" y \"negativereason_gold\"\n",
        "df_V2 = df_V2.drop([\"airline_sentiment_gold\", \"negativereason_gold\"], axis=1)\n",
        "\n",
        "# Guardar cambios en el archivo de Excel\n",
        "df_V2.to_excel(\"/content/B_V2.xlsx\", index=False)\n",
        "\n",
        "print(\"\\033[43m\\033[30m\\033[1mEJECUTADO\\033[0m\")"
      ],
      "metadata": {
        "id": "pKU9Wfa6RNqu",
        "colab": {
          "base_uri": "https://localhost:8080/"
        },
        "outputId": "835e28c3-2473-469e-c857-3dde9a01f26d"
      },
      "execution_count": null,
      "outputs": [
        {
          "output_type": "stream",
          "name": "stdout",
          "text": [
            "\u001b[43m\u001b[30m\u001b[1mEJECUTADO\u001b[0m\n"
          ]
        }
      ]
    },
    {
      "cell_type": "markdown",
      "source": [
        "### 4.2 ---> Punto de Control"
      ],
      "metadata": {
        "id": "CclzZXEJSpUH"
      }
    },
    {
      "cell_type": "code",
      "source": [
        "# Generar una copia del DataFrame con otro nombre\n",
        "df_V3_copy = df_V2.copy()\n",
        "# Guardar el DataFrame modificado en un archivo Excel con un nuevo nombre y extensión\n",
        "df_V3_copy.to_excel(\"/content/B_V3.xlsx\", index=False)\n",
        "\n",
        "# Importar el archivo CSV\n",
        "df_V3 = pd.read_excel(\"/content/B_V3.xlsx\")\n",
        "print(\"\\033[43m\\033[30m\\033[1mCOPIA GENERADA\\033[0m\")"
      ],
      "metadata": {
        "id": "Y7r_6yyHSvJo",
        "colab": {
          "base_uri": "https://localhost:8080/"
        },
        "outputId": "bf6df742-9c16-476c-e424-b648a93a3e71"
      },
      "execution_count": null,
      "outputs": [
        {
          "output_type": "stream",
          "name": "stdout",
          "text": [
            "\u001b[43m\u001b[30m\u001b[1mCOPIA GENERADA\u001b[0m\n"
          ]
        }
      ]
    },
    {
      "cell_type": "markdown",
      "source": [
        "### 4.3 Inferencia de datos\n"
      ],
      "metadata": {
        "id": "A6cAf0XC6QKd"
      }
    },
    {
      "cell_type": "markdown",
      "source": [
        "### 4.3.1 Variable negativereason"
      ],
      "metadata": {
        "id": "c8l8fcPpVL_h"
      }
    },
    {
      "cell_type": "code",
      "source": [
        "# Identificar filas donde el valor en la columna \"negativereason\" es \"nothing\"\n",
        "idx = df_V3.loc[df_V3[\"negativereason\"] == \"nothing\"].index\n",
        "\n",
        "# Llenar el valor en la columna \"negativereason_confidence\" con 0.0\n",
        "df_V3.loc[idx, \"negativereason_confidence\"] = 0.0\n",
        "\n",
        "# Guardar cambios en el archivo de Excel\n",
        "df_V3.to_excel(\"/content/B_V3.xlsx\", index=False)\n",
        "print(\"\\033[43m\\033[30m\\033[1mEJECUTADO\\033[0m\")"
      ],
      "metadata": {
        "id": "SY1PqPkyZMxf",
        "colab": {
          "base_uri": "https://localhost:8080/"
        },
        "outputId": "9b01d907-6399-409d-f66e-8cd4c814bfd8"
      },
      "execution_count": null,
      "outputs": [
        {
          "output_type": "stream",
          "name": "stdout",
          "text": [
            "\u001b[43m\u001b[30m\u001b[1mEJECUTADO\u001b[0m\n"
          ]
        }
      ]
    },
    {
      "cell_type": "markdown",
      "source": [
        "### 4.3.3 Variable tweet_coord"
      ],
      "metadata": {
        "id": "_WaJgpZNbclw"
      }
    },
    {
      "cell_type": "code",
      "source": [
        "from geopy.geocoders import Nominatim\n",
        "\n",
        "# Definir función para obtener el nombre de la localización a partir de las coordenadas\n",
        "geolocator = Nominatim(user_agent=\"my-awesome-project\")\n",
        "\n",
        "\n",
        "def get_location_name(coords):\n",
        "    try:\n",
        "        location = geolocator.reverse(coords, exactly_one=True, timeout=10)\n",
        "        return location.address\n",
        "    except:\n",
        "        return None\n",
        "\n",
        "# Leer el archivo Excel en un DataFrame\n",
        "df_V3 = pd.read_excel(\"/content/B_V3.xlsx\")\n",
        "\n",
        "# Aplicar la función a la columna \"tweet_coord\"\n",
        "df_V3[\"location\"] = df_V3[\"tweet_coord\"].apply(get_location_name)\n",
        "\n",
        "# Guardar cambios en el archivo de Excel\n",
        "df_V3.to_excel(\"/content/B_V3.xlsx\", index=False)\n",
        "print(\"\\033[43m\\033[30m\\033[1mEJECUTADO\\033[0m\")"
      ],
      "metadata": {
        "id": "EUdZq9N1cWcT",
        "colab": {
          "base_uri": "https://localhost:8080/"
        },
        "outputId": "2255ca2d-85ec-492a-ed64-0349a4b5b8ff"
      },
      "execution_count": null,
      "outputs": [
        {
          "output_type": "stream",
          "name": "stdout",
          "text": [
            "\u001b[43m\u001b[30m\u001b[1mEJECUTADO\u001b[0m\n"
          ]
        }
      ]
    },
    {
      "cell_type": "markdown",
      "source": [
        "### 4.3.4 Variable tweet_created"
      ],
      "metadata": {
        "id": "3vwnFFex8c_H"
      }
    },
    {
      "cell_type": "code",
      "source": [
        "# Ordenar el DataFrame por la columna \"tweet_id\"\n",
        "df_V3 = df_V3.sort_values('tweet_id')\n",
        "\n",
        "# Utilizar forward-fill para rellenar las celdas vacías en la columna \"tweet_created\"\n",
        "df_V3['tweet_created'] = df_V3['tweet_created'].fillna(method='ffill')\n",
        "\n",
        "# Verificar si hay celdas vacías en la columna \"tweet_created\"\n",
        "print(df_V3['tweet_created'].isnull().sum())\n",
        "\n",
        "# Guardar cambios en el archivo de Excel\n",
        "df_V3.to_excel(\"/content/B_V3.xlsx\", index=False)\n",
        "print(\"\\033[43m\\033[30m\\033[1mEJECUTADO\\033[0m\")\n"
      ],
      "metadata": {
        "colab": {
          "base_uri": "https://localhost:8080/"
        },
        "id": "2h34WWiu4YFG",
        "outputId": "69f01930-ea32-48cd-bbbc-dbd06749e1d8"
      },
      "execution_count": null,
      "outputs": [
        {
          "output_type": "stream",
          "name": "stdout",
          "text": [
            "0\n",
            "\u001b[43m\u001b[30m\u001b[1mEJECUTADO\u001b[0m\n"
          ]
        }
      ]
    },
    {
      "cell_type": "markdown",
      "source": [
        "### 4.3.5 Variable user_timezone"
      ],
      "metadata": {
        "id": "rYphd2_Cce56"
      }
    },
    {
      "cell_type": "code",
      "source": [
        "# Crear una función para obtener el time zone correspondiente a una ubicación\n",
        "def get_timezone(location):\n",
        "    if isinstance(location, str) and ',' in location:\n",
        "        lat, lon = location.split(',')\n",
        "        tz = timezone(pytz.country_timezones['us'][0])  # Asignar por defecto el time zone de Estados Unidos\n",
        "        try:\n",
        "            tz = timezone(pytz.timezone(rg.search((lat, lon))[0]['timeZone']))\n",
        "        except:\n",
        "            pass\n",
        "        return str(tz)\n",
        "    else:\n",
        "        return location\n",
        "\n",
        "# Aplicar la función a la columna \"user_timezone\"\n",
        "df_V3['user_timezone'] = df_V3['user_timezone'].fillna(df_V3['tweet_location'].apply(get_timezone))\n",
        "\n",
        "# Guardar cambios en el archivo de Excel\n",
        "df_V3.to_excel(\"/content/B_V3.xlsx\", index=False)\n",
        "print(\"\\033[43m\\033[30m\\033[1mEJECUTADO\\033[0m\")"
      ],
      "metadata": {
        "id": "4wsRnfx2euvb",
        "colab": {
          "base_uri": "https://localhost:8080/"
        },
        "outputId": "4554c8fd-585f-4545-f3ff-94965fbb919d"
      },
      "execution_count": null,
      "outputs": [
        {
          "output_type": "stream",
          "name": "stdout",
          "text": [
            "Loading formatted geocoded file...\n",
            "\u001b[43m\u001b[30m\u001b[1mEJECUTADO\u001b[0m\n"
          ]
        }
      ]
    },
    {
      "cell_type": "code",
      "source": [
        "df_V3 = df_V3.drop('location', axis=1)\n",
        "# Guardar cambios en el archivo de Excel\n",
        "df_V3.to_excel(\"/content/B_V3.xlsx\", index=False)\n",
        "print(\"\\033[43m\\033[30m\\033[1mEJECUTADO\\033[0m\")"
      ],
      "metadata": {
        "colab": {
          "base_uri": "https://localhost:8080/"
        },
        "id": "aEe1cN01Jr6S",
        "outputId": "b1c30693-9581-4bd7-91f7-3ae1e7eddd36"
      },
      "execution_count": null,
      "outputs": [
        {
          "output_type": "stream",
          "name": "stdout",
          "text": [
            "\u001b[43m\u001b[30m\u001b[1mEJECUTADO\u001b[0m\n"
          ]
        }
      ]
    },
    {
      "cell_type": "markdown",
      "source": [
        "### 4.4 ---> Punto de Control"
      ],
      "metadata": {
        "id": "xZro_fMgA5Ql"
      }
    },
    {
      "cell_type": "code",
      "source": [
        "# Generar una copia del DataFrame con otro nombre\n",
        "df_V4_copy = df_V3.copy()\n",
        "# Guardar el DataFrame modificado en un archivo Excel con un nuevo nombre y extensión\n",
        "df_V4_copy.to_excel(\"/content/B_V4.xlsx\", index=False)\n",
        "\n",
        "# Importar el archivo \n",
        "df_V4 = pd.read_excel(\"/content/B_V4.xlsx\")\n",
        "print(\"\\033[43m\\033[30m\\033[1mCOPIA GENERADA\\033[0m\")"
      ],
      "metadata": {
        "id": "IabzaHtZA5Ql",
        "colab": {
          "base_uri": "https://localhost:8080/"
        },
        "outputId": "4760f3bd-6747-4e05-bd65-0642a0d32396"
      },
      "execution_count": null,
      "outputs": [
        {
          "output_type": "stream",
          "name": "stdout",
          "text": [
            "\u001b[43m\u001b[30m\u001b[1mCOPIA GENERADA\u001b[0m\n"
          ]
        }
      ]
    },
    {
      "cell_type": "markdown",
      "source": [
        "---\n",
        "# **5. Reestructuración de bases de datos**\n",
        "\n",
        "---\n"
      ],
      "metadata": {
        "id": "sYApaROz7G9A"
      }
    },
    {
      "cell_type": "markdown",
      "source": [
        "### 5.1 Dividir la columna tweet_created en date_created y hour_created"
      ],
      "metadata": {
        "id": "06lCG_omlUXc"
      }
    },
    {
      "cell_type": "code",
      "source": [
        "# Convertir la columna tweet_created a tipo datetime\n",
        "df_V4[\"tweet_created\"] = pd.to_datetime(df_V4[\"tweet_created\"])\n",
        "\n",
        "# Separar fecha y hora en columnas distintas\n",
        "df_V4['date_created'] = df_V4['tweet_created'].dt.date\n",
        "df_V4['hour_created'] = df_V4['tweet_created'].dt.time\n",
        "\n",
        "# Eliminar columna original tweet_created\n",
        "df_V4.drop('tweet_created', axis=1, inplace=True)\n",
        "\n",
        "# Guardar el DataFrame modificado\n",
        "df_V4.to_excel(\"/content/B_V4.xlsx\", index=False)\n",
        "print(\"\\033[43m\\033[30m\\033[1mEJECUTADO\\033[0m\")"
      ],
      "metadata": {
        "id": "UfL1LqSL6VhK",
        "colab": {
          "base_uri": "https://localhost:8080/"
        },
        "outputId": "51edbc95-075f-4879-caf1-7608693c8797"
      },
      "execution_count": null,
      "outputs": [
        {
          "output_type": "stream",
          "name": "stdout",
          "text": [
            "\u001b[43m\u001b[30m\u001b[1mEJECUTADO\u001b[0m\n"
          ]
        }
      ]
    },
    {
      "cell_type": "markdown",
      "source": [
        "### 5.2 Extraer en un nueva columna \"Hastag\""
      ],
      "metadata": {
        "id": "I7qgsIF5lefg"
      }
    },
    {
      "cell_type": "code",
      "source": [
        "# Definir una función para buscar hashtags en el texto del tweet\n",
        "def find_hashtags(tweet):\n",
        "    hashtags = re.findall(r'\\#\\w+', tweet)\n",
        "    return hashtags\n",
        "\n",
        "# Aplicar la función a la columna \"text\" del dataframe y agregar los resultados a una nueva columna \"Hashtag\"\n",
        "df_V4[\"Hashtag\"] = df_V4[\"text\"].apply(find_hashtags)\n",
        "\n",
        "# Guardar el DataFrame modificado\n",
        "df_V4.to_excel(\"/content/B_V4.xlsx\", index=False)\n",
        "print(\"\\033[43m\\033[30m\\033[1mEJECUTADO\\033[0m\")\n"
      ],
      "metadata": {
        "id": "BIgS6BgHinu2",
        "colab": {
          "base_uri": "https://localhost:8080/"
        },
        "outputId": "97b9cee2-ebf1-42b1-9741-87f59b67ddd1"
      },
      "execution_count": null,
      "outputs": [
        {
          "output_type": "stream",
          "name": "stdout",
          "text": [
            "\u001b[43m\u001b[30m\u001b[1mEJECUTADO\u001b[0m\n"
          ]
        }
      ]
    },
    {
      "cell_type": "markdown",
      "source": [
        "### 5.3 Extraer en un nueva columna \"Temas tratados\""
      ],
      "metadata": {
        "id": "MWQuy8a4wVkr"
      }
    },
    {
      "cell_type": "code",
      "source": [
        "# Definir una función para analizar la temática del tweet\n",
        "def analyze_theme(tweet):\n",
        "    stop_words = set(stopwords.words('english'))  # Lista de stop words en inglés\n",
        "    tokens = word_tokenize(tweet)  # Tokenizar el tweet\n",
        "    filtered_tokens = [word.lower() for word in tokens if word.isalpha() and word.lower() not in stop_words]  # Filtrar por palabras alfabéticas y no stop words\n",
        "    tagged_tokens = nltk.pos_tag(filtered_tokens)  # Identificar las partes de discurso de los tokens\n",
        "    nouns = [word for word, pos in tagged_tokens if pos.startswith(\"N\")]  # Seleccionar los sustantivos (nouns)\n",
        "    return nouns\n",
        "\n",
        "# Aplicar la función a la columna \"text\" del dataframe y agregar los resultados a una nueva columna \"Temas\"\n",
        "df_V4[\"Temas\"] = df_V4[\"text\"].apply(analyze_theme)\n",
        "\n",
        "# Guardar el DataFrame modificado\n",
        "df_V4.to_excel(\"/content/B_V4.xlsx\", index=False)\n",
        "print(\"\\033[43m\\033[30m\\033[1mEJECUTADO\\033[0m\")"
      ],
      "metadata": {
        "colab": {
          "base_uri": "https://localhost:8080/"
        },
        "id": "mVcoosCnvHXR",
        "outputId": "b1acd8e5-b456-44e2-a905-cfc6750f30f7"
      },
      "execution_count": null,
      "outputs": [
        {
          "output_type": "stream",
          "name": "stdout",
          "text": [
            "\u001b[43m\u001b[30m\u001b[1mEJECUTADO\u001b[0m\n"
          ]
        }
      ]
    },
    {
      "cell_type": "markdown",
      "source": [
        "### 5.4 Extraer en un nueva columna \"Audiencia\""
      ],
      "metadata": {
        "id": "If0ubWblwfxD"
      }
    },
    {
      "cell_type": "code",
      "source": [
        "# Definir una función para analizar la audiencia del tweet\n",
        "\n",
        "def analyze_audience(tweet):\n",
        "    audience = \"General\"  # Audiencia por defecto es general\n",
        "    keywords = [\"@\"]  # Palabras clave para buscar audiencia específica\n",
        "    tokens = nltk.word_tokenize(tweet)  # Dividir el tweet en tokens\n",
        "    for token in tokens:\n",
        "        if token.startswith(\"@\"):\n",
        "            audience = \"Individual\"  # Audiencia específica si se menciona a un usuario en particular\n",
        "            break\n",
        "        elif token in keywords:\n",
        "            audience = \"Grupo\"  # Audiencia específica si se utilizan palabras clave\n",
        "            break\n",
        "    return audience\n",
        "\n",
        "# Aplicar la función a la columna \"text\" del dataframe y agregar los resultados a una nueva columna \"Audiencia\"\n",
        "df_V4[\"Audiencia\"] = df_V4[\"text\"].apply(analyze_audience)\n",
        "\n",
        "# Guardar el DataFrame modificado\n",
        "df_V4.to_excel(\"/content/B_V4.xlsx\", index=False)\n",
        "print(\"\\033[43m\\033[30m\\033[1mEJECUTADO\\033[0m\")"
      ],
      "metadata": {
        "id": "jSzbHByKuyuN",
        "colab": {
          "base_uri": "https://localhost:8080/"
        },
        "outputId": "6731b89d-ed6e-43ef-c325-1cf1066aae8e"
      },
      "execution_count": null,
      "outputs": [
        {
          "output_type": "stream",
          "name": "stdout",
          "text": [
            "\u001b[43m\u001b[30m\u001b[1mEJECUTADO\u001b[0m\n"
          ]
        }
      ]
    },
    {
      "cell_type": "markdown",
      "source": [
        "### 5.5 Resumen nuevo grupo de variables"
      ],
      "metadata": {
        "id": "m8PGVoOewlFw"
      }
    },
    {
      "cell_type": "code",
      "source": [
        "print(\"\\033[43m\\033[30m\\033[1mRespuesta:\\033[0m\")\n",
        "df_V4.info()"
      ],
      "metadata": {
        "colab": {
          "base_uri": "https://localhost:8080/"
        },
        "id": "GLZJk2BrM3oz",
        "outputId": "5360752b-9189-45d7-ecfc-52761ae34bdd"
      },
      "execution_count": null,
      "outputs": [
        {
          "output_type": "stream",
          "name": "stdout",
          "text": [
            "\u001b[43m\u001b[30m\u001b[1mRespuesta:\u001b[0m\n",
            "<class 'pandas.core.frame.DataFrame'>\n",
            "RangeIndex: 14510 entries, 0 to 14509\n",
            "Data columns (total 17 columns):\n",
            " #   Column                        Non-Null Count  Dtype  \n",
            "---  ------                        --------------  -----  \n",
            " 0   tweet_id                      14510 non-null  float64\n",
            " 1   airline_sentiment             14510 non-null  object \n",
            " 2   airline_sentiment_confidence  14510 non-null  float64\n",
            " 3   negativereason                9096 non-null   object \n",
            " 4   negativereason_confidence     10432 non-null  float64\n",
            " 5   airline                       14510 non-null  object \n",
            " 6   name                          14510 non-null  object \n",
            " 7   retweet_count                 14510 non-null  int64  \n",
            " 8   text                          14510 non-null  object \n",
            " 9   tweet_coord                   939 non-null    object \n",
            " 10  tweet_location                14510 non-null  object \n",
            " 11  user_timezone                 14510 non-null  object \n",
            " 12  date_created                  13642 non-null  object \n",
            " 13  hour_created                  13642 non-null  object \n",
            " 14  Hashtag                       14510 non-null  object \n",
            " 15  Temas                         14510 non-null  object \n",
            " 16  Audiencia                     14510 non-null  object \n",
            "dtypes: float64(3), int64(1), object(13)\n",
            "memory usage: 1.9+ MB\n"
          ]
        }
      ]
    },
    {
      "cell_type": "markdown",
      "source": [
        "### 5.6 ---> Punto de Control"
      ],
      "metadata": {
        "id": "6u9ghHXQLwnZ"
      }
    },
    {
      "cell_type": "code",
      "source": [
        "# Generar una copia del DataFrame con otro nombre\n",
        "df_V5_copy = df_V4.copy()\n",
        "# Guardar el DataFrame modificado en un archivo Excel con un nuevo nombre y extensión\n",
        "df_V5_copy.to_excel(\"/content/B_V5.xlsx\", index=False)\n",
        "\n",
        "# Importar el archivo \n",
        "df_V5 = pd.read_excel(\"/content/B_V5.xlsx\")\n",
        "print(\"\\033[43m\\033[30m\\033[1mCOPIA GENERADA\\033[0m\")"
      ],
      "metadata": {
        "colab": {
          "base_uri": "https://localhost:8080/"
        },
        "id": "cEmQJ7X8Lwna",
        "outputId": "5fb88cb3-14f8-458d-bf8d-060f8575f3ff"
      },
      "execution_count": null,
      "outputs": [
        {
          "output_type": "stream",
          "name": "stdout",
          "text": [
            "\u001b[43m\u001b[30m\u001b[1mCOPIA GENERADA\u001b[0m\n"
          ]
        }
      ]
    },
    {
      "cell_type": "markdown",
      "source": [
        "---\n",
        "# **6. Analisis descriptivo**\n",
        "\n",
        "---"
      ],
      "metadata": {
        "id": "_p3O8FLAjKrB"
      }
    },
    {
      "cell_type": "code",
      "source": [
        "print(\"\\033[43m\\033[30m\\033[1mRespuesta:\\033[0m\")\n",
        "plt.figure(figsize=(4,3),dpi=180)\n",
        "sns.countplot(x=df_V5['airline_sentiment'])"
      ],
      "metadata": {
        "colab": {
          "base_uri": "https://localhost:8080/",
          "height": 596
        },
        "id": "Gtgz2SDoPloz",
        "outputId": "36764896-c893-4dcb-8124-5737e2014798"
      },
      "execution_count": null,
      "outputs": [
        {
          "output_type": "stream",
          "name": "stdout",
          "text": [
            "\u001b[43m\u001b[30m\u001b[1mRespuesta:\u001b[0m\n"
          ]
        },
        {
          "output_type": "execute_result",
          "data": {
            "text/plain": [
              "<Axes: xlabel='airline_sentiment', ylabel='count'>"
            ]
          },
          "metadata": {},
          "execution_count": 33
        },
        {
          "output_type": "display_data",
          "data": {
            "text/plain": [
              "<Figure size 720x540 with 1 Axes>"
            ],
            "image/png": "[encoded data removed]"
          },
          "metadata": {}
        }
      ]
    },
    {
      "cell_type": "code",
      "source": [
        "#get the number of negative reasons\n",
        "df_V2['negativereason'].nunique()\n",
        "\n",
        "NR_Count=dict(df_V2['negativereason'].value_counts(sort=False))\n",
        "def NR_Count(airline):\n",
        "    if airline=='All':\n",
        "        a=df_V2\n",
        "    else:\n",
        "        a=df_V2[df_V2['airline']==airline]\n",
        "    count=dict(a['negativereason'].value_counts())\n",
        "    Unique_reason=list(df_V2['negativereason'].unique())\n",
        "    Unique_reason=[x for x in Unique_reason if str(x) != 'nan']\n",
        "    Reason_frame=pd.DataFrame({'Reasons':Unique_reason})\n",
        "    Reason_frame['count']=Reason_frame['Reasons'].apply(lambda x: count[x])\n",
        "    return Reason_frame\n",
        "def plot_reason(airline):\n",
        "    \n",
        "    a=NR_Count(airline)\n",
        "    count=a['count']\n",
        "    Index = range(1,(len(a)+1))\n",
        "    plt.bar(Index,count, color=['red','yellow','blue','green','black','brown','gray','cyan','purple','orange'])\n",
        "    plt.xticks(Index,a['Reasons'],rotation=90)\n",
        "    plt.ylabel('Count')\n",
        "    plt.xlabel('Reason')\n",
        "    plt.title('Count of Reasons for '+airline)\n",
        "   \n",
        "airline_counts = df_V2['airline'].value_counts()\n",
        "print(airline_counts)\n",
        "\n"
      ],
      "metadata": {
        "colab": {
          "base_uri": "https://localhost:8080/"
        },
        "id": "gVkIbCk1ZXKx",
        "outputId": "18c0f2c6-44b4-4ae4-a955-3c2392471078"
      },
      "execution_count": null,
      "outputs": [
        {
          "output_type": "stream",
          "name": "stdout",
          "text": [
            "united            3761\n",
            "us airways        2910\n",
            "american          2753\n",
            "southwest         2417\n",
            "delta             2220\n",
            "virgin america     449\n",
            "Name: airline, dtype: int64\n"
          ]
        }
      ]
    },
    {
      "cell_type": "code",
      "source": [
        "import matplotlib.pyplot as plt\n",
        "\n",
        "# create a dictionary of counts by airline\n",
        "airline_counts = df_V2.groupby('airline')['negativereason'].count().to_dict()\n",
        "\n",
        "# create a bar plot\n",
        "plt.bar(range(len(airline_counts)), list(airline_counts.values()), align='center', color=['red', 'green', 'blue','yellow','purple','orange'])\n",
        "plt.xticks(range(len(airline_counts)), list(airline_counts.keys()))\n",
        "\n",
        "# set plot labels\n",
        "plt.xlabel('Airline')\n",
        "plt.ylabel('Count of Negative Reasons')\n",
        "plt.title('Total Negative Reasons by Airline')\n",
        "\n",
        "# show plot\n",
        "plt.show()\n"
      ],
      "metadata": {
        "colab": {
          "base_uri": "https://localhost:8080/",
          "height": 472
        },
        "id": "0aOHoeiybH2E",
        "outputId": "0fa74ee1-bf14-45a1-b3bd-714d7935900c"
      },
      "execution_count": null,
      "outputs": [
        {
          "output_type": "display_data",
          "data": {
            "text/plain": [
              "<Figure size 640x480 with 1 Axes>"
            ],
            "image/png": "[encoded data removed]"
          },
          "metadata": {}
        }
      ]
    },
    {
      "cell_type": "code",
      "source": [
        "df_V5['airline_sentiment'].value_counts()"
      ],
      "metadata": {
        "colab": {
          "base_uri": "https://localhost:8080/"
        },
        "id": "9vblNfFNP6eK",
        "outputId": "d25eacf2-579c-4fd0-ad31-123a8e45eed0"
      },
      "execution_count": null,
      "outputs": [
        {
          "output_type": "execute_result",
          "data": {
            "text/plain": [
              "negative    9096\n",
              "neutral     3074\n",
              "positive    2340\n",
              "Name: airline_sentiment, dtype: int64"
            ]
          },
          "metadata": {},
          "execution_count": 162
        }
      ]
    },
    {
      "cell_type": "code",
      "source": [
        "import plotly.graph_objects as go\n",
        "crosstab_sentiments=pd.crosstab(df_V2.airline, df_V2.airline_sentiment)\n",
        "companies=list(crosstab_sentiments.index)\n",
        "\n",
        "fig = go.Figure(data=[\n",
        "    go.Bar(name=col_name, x=companies, y=list(crosstab_sentiments[col_name]))\n",
        "for col_name in list(crosstab_sentiments.columns)])\n",
        "# Change the bar mode\n",
        "fig.update_layout(barmode='stack',\n",
        "                  title='Percepción de atención por compañía',\n",
        "                  yaxis=dict(title='Frecuencia'),\n",
        "                 xaxis=dict(title='Aerolineas'))\n",
        "fig.show()"
      ],
      "metadata": {
        "colab": {
          "base_uri": "https://localhost:8080/",
          "height": 542
        },
        "id": "5Nv3PXidbTPs",
        "outputId": "16cb389f-5d4c-44d4-ab0d-31eb77f55e60"
      },
      "execution_count": null,
      "outputs": [
        {
          "output_type": "display_data",
          "data": {
            "text/html": [
              "<html>\n",
              "<head><meta charset=\"utf-8\" /></head>\n",
              "<body>\n",
              "    <div>            <script src=\"https://cdnjs.cloudflare.com/ajax/libs/mathjax/2.7.5/MathJax.js?config=TeX-AMS-MML_SVG\"></script><script type=\"text/javascript\">if (window.MathJax && window.MathJax.Hub && window.MathJax.Hub.Config) {window.MathJax.Hub.Config({SVG: {font: \"STIX-Web\"}});}</script>                <script type=\"text/javascript\">window.PlotlyConfig = {MathJaxConfig: 'local'};</script>\n",
              "        <script src=\"https://cdn.plot.ly/plotly-2.18.2.min.js\"></script>                <div id=\"45a43968-bcca-48af-8630-13963955ce7c\" class=\"plotly-graph-div\" style=\"height:525px; width:100%;\"></div>            <script type=\"text/javascript\">                                    window.PLOTLYENV=window.PLOTLYENV || {};                                    if (document.getElementById(\"45a43968-bcca-48af-8630-13963955ce7c\")) {                    Plotly.newPlot(                        \"45a43968-bcca-48af-8630-13963955ce7c\",                        [{\"name\":\"negative\",\"x\":[\"american\",\"delta\",\"southwest\",\"united\",\"us airways\",\"virgin america\"],\"y\":[1954,953,1184,2581,2262,162],\"type\":\"bar\"},{\"name\":\"neutral\",\"x\":[\"american\",\"delta\",\"southwest\",\"united\",\"us airways\",\"virgin america\"],\"y\":[463,723,664,692,379,153],\"type\":\"bar\"},{\"name\":\"positive\",\"x\":[\"american\",\"delta\",\"southwest\",\"united\",\"us airways\",\"virgin america\"],\"y\":[336,544,569,488,269,134],\"type\":\"bar\"}],                        {\"template\":{\"data\":{\"histogram2dcontour\":[{\"type\":\"histogram2dcontour\",\"colorbar\":{\"outlinewidth\":0,\"ticks\":\"\"},\"colorscale\":[[0.0,\"#0d0887\"],[0.1111111111111111,\"#46039f\"],[0.2222222222222222,\"#7201a8\"],[0.3333333333333333,\"#9c179e\"],[0.4444444444444444,\"#bd3786\"],[0.5555555555555556,\"#d8576b\"],[0.6666666666666666,\"#ed7953\"],[0.7777777777777778,\"#fb9f3a\"],[0.8888888888888888,\"#fdca26\"],[1.0,\"#f0f921\"]]}],\"choropleth\":[{\"type\":\"choropleth\",\"colorbar\":{\"outlinewidth\":0,\"ticks\":\"\"}}],\"histogram2d\":[{\"type\":\"histogram2d\",\"colorbar\":{\"outlinewidth\":0,\"ticks\":\"\"},\"colorscale\":[[0.0,\"#0d0887\"],[0.1111111111111111,\"#46039f\"],[0.2222222222222222,\"#7201a8\"],[0.3333333333333333,\"#9c179e\"],[0.4444444444444444,\"#bd3786\"],[0.5555555555555556,\"#d8576b\"],[0.6666666666666666,\"#ed7953\"],[0.7777777777777778,\"#fb9f3a\"],[0.8888888888888888,\"#fdca26\"],[1.0,\"#f0f921\"]]}],\"heatmap\":[{\"type\":\"heatmap\",\"colorbar\":{\"outlinewidth\":0,\"ticks\":\"\"},\"colorscale\":[[0.0,\"#0d0887\"],[0.1111111111111111,\"#46039f\"],[0.2222222222222222,\"#7201a8\"],[0.3333333333333333,\"#9c179e\"],[0.4444444444444444,\"#bd3786\"],[0.5555555555555556,\"#d8576b\"],[0.6666666666666666,\"#ed7953\"],[0.7777777777777778,\"#fb9f3a\"],[0.8888888888888888,\"#fdca26\"],[1.0,\"#f0f921\"]]}],\"heatmapgl\":[{\"type\":\"heatmapgl\",\"colorbar\":{\"outlinewidth\":0,\"ticks\":\"\"},\"colorscale\":[[0.0,\"#0d0887\"],[0.1111111111111111,\"#46039f\"],[0.2222222222222222,\"#7201a8\"],[0.3333333333333333,\"#9c179e\"],[0.4444444444444444,\"#bd3786\"],[0.5555555555555556,\"#d8576b\"],[0.6666666666666666,\"#ed7953\"],[0.7777777777777778,\"#fb9f3a\"],[0.8888888888888888,\"#fdca26\"],[1.0,\"#f0f921\"]]}],\"contourcarpet\":[{\"type\":\"contourcarpet\",\"colorbar\":{\"outlinewidth\":0,\"ticks\":\"\"}}],\"contour\":[{\"type\":\"contour\",\"colorbar\":{\"outlinewidth\":0,\"ticks\":\"\"},\"colorscale\":[[0.0,\"#0d0887\"],[0.1111111111111111,\"#46039f\"],[0.2222222222222222,\"#7201a8\"],[0.3333333333333333,\"#9c179e\"],[0.4444444444444444,\"#bd3786\"],[0.5555555555555556,\"#d8576b\"],[0.6666666666666666,\"#ed7953\"],[0.7777777777777778,\"#fb9f3a\"],[0.8888888888888888,\"#fdca26\"],[1.0,\"#f0f921\"]]}],\"surface\":[{\"type\":\"surface\",\"colorbar\":{\"outlinewidth\":0,\"ticks\":\"\"},\"colorscale\":[[0.0,\"#0d0887\"],[0.1111111111111111,\"#46039f\"],[0.2222222222222222,\"#7201a8\"],[0.3333333333333333,\"#9c179e\"],[0.4444444444444444,\"#bd3786\"],[0.5555555555555556,\"#d8576b\"],[0.6666666666666666,\"#ed7953\"],[0.7777777777777778,\"#fb9f3a\"],[0.8888888888888888,\"#fdca26\"],[1.0,\"#f0f921\"]]}],\"mesh3d\":[{\"type\":\"mesh3d\",\"colorbar\":{\"outlinewidth\":0,\"ticks\":\"\"}}],\"scatter\":[{\"fillpattern\":{\"fillmode\":\"overlay\",\"size\":10,\"solidity\":0.2},\"type\":\"scatter\"}],\"parcoords\":[{\"type\":\"parcoords\",\"line\":{\"colorbar\":{\"outlinewidth\":0,\"ticks\":\"\"}}}],\"scatterpolargl\":[{\"type\":\"scatterpolargl\",\"marker\":{\"colorbar\":{\"outlinewidth\":0,\"ticks\":\"\"}}}],\"bar\":[{\"error_x\":{\"color\":\"#2a3f5f\"},\"error_y\":{\"color\":\"#2a3f5f\"},\"marker\":{\"line\":{\"color\":\"#E5ECF6\",\"width\":0.5},\"pattern\":{\"fillmode\":\"overlay\",\"size\":10,\"solidity\":0.2}},\"type\":\"bar\"}],\"scattergeo\":[{\"type\":\"scattergeo\",\"marker\":{\"colorbar\":{\"outlinewidth\":0,\"ticks\":\"\"}}}],\"scatterpolar\":[{\"type\":\"scatterpolar\",\"marker\":{\"colorbar\":{\"outlinewidth\":0,\"ticks\":\"\"}}}],\"histogram\":[{\"marker\":{\"pattern\":{\"fillmode\":\"overlay\",\"size\":10,\"solidity\":0.2}},\"type\":\"histogram\"}],\"scattergl\":[{\"type\":\"scattergl\",\"marker\":{\"colorbar\":{\"outlinewidth\":0,\"ticks\":\"\"}}}],\"scatter3d\":[{\"type\":\"scatter3d\",\"line\":{\"colorbar\":{\"outlinewidth\":0,\"ticks\":\"\"}},\"marker\":{\"colorbar\":{\"outlinewidth\":0,\"ticks\":\"\"}}}],\"scattermapbox\":[{\"type\":\"scattermapbox\",\"marker\":{\"colorbar\":{\"outlinewidth\":0,\"ticks\":\"\"}}}],\"scatterternary\":[{\"type\":\"scatterternary\",\"marker\":{\"colorbar\":{\"outlinewidth\":0,\"ticks\":\"\"}}}],\"scattercarpet\":[{\"type\":\"scattercarpet\",\"marker\":{\"colorbar\":{\"outlinewidth\":0,\"ticks\":\"\"}}}],\"carpet\":[{\"aaxis\":{\"endlinecolor\":\"#2a3f5f\",\"gridcolor\":\"white\",\"linecolor\":\"white\",\"minorgridcolor\":\"white\",\"startlinecolor\":\"#2a3f5f\"},\"baxis\":{\"endlinecolor\":\"#2a3f5f\",\"gridcolor\":\"white\",\"linecolor\":\"white\",\"minorgridcolor\":\"white\",\"startlinecolor\":\"#2a3f5f\"},\"type\":\"carpet\"}],\"table\":[{\"cells\":{\"fill\":{\"color\":\"#EBF0F8\"},\"line\":{\"color\":\"white\"}},\"header\":{\"fill\":{\"color\":\"#C8D4E3\"},\"line\":{\"color\":\"white\"}},\"type\":\"table\"}],\"barpolar\":[{\"marker\":{\"line\":{\"color\":\"#E5ECF6\",\"width\":0.5},\"pattern\":{\"fillmode\":\"overlay\",\"size\":10,\"solidity\":0.2}},\"type\":\"barpolar\"}],\"pie\":[{\"automargin\":true,\"type\":\"pie\"}]},\"layout\":{\"autotypenumbers\":\"strict\",\"colorway\":[\"#636efa\",\"#EF553B\",\"#00cc96\",\"#ab63fa\",\"#FFA15A\",\"#19d3f3\",\"#FF6692\",\"#B6E880\",\"#FF97FF\",\"#FECB52\"],\"font\":{\"color\":\"#2a3f5f\"},\"hovermode\":\"closest\",\"hoverlabel\":{\"align\":\"left\"},\"paper_bgcolor\":\"white\",\"plot_bgcolor\":\"#E5ECF6\",\"polar\":{\"bgcolor\":\"#E5ECF6\",\"angularaxis\":{\"gridcolor\":\"white\",\"linecolor\":\"white\",\"ticks\":\"\"},\"radialaxis\":{\"gridcolor\":\"white\",\"linecolor\":\"white\",\"ticks\":\"\"}},\"ternary\":{\"bgcolor\":\"#E5ECF6\",\"aaxis\":{\"gridcolor\":\"white\",\"linecolor\":\"white\",\"ticks\":\"\"},\"baxis\":{\"gridcolor\":\"white\",\"linecolor\":\"white\",\"ticks\":\"\"},\"caxis\":{\"gridcolor\":\"white\",\"linecolor\":\"white\",\"ticks\":\"\"}},\"coloraxis\":{\"colorbar\":{\"outlinewidth\":0,\"ticks\":\"\"}},\"colorscale\":{\"sequential\":[[0.0,\"#0d0887\"],[0.1111111111111111,\"#46039f\"],[0.2222222222222222,\"#7201a8\"],[0.3333333333333333,\"#9c179e\"],[0.4444444444444444,\"#bd3786\"],[0.5555555555555556,\"#d8576b\"],[0.6666666666666666,\"#ed7953\"],[0.7777777777777778,\"#fb9f3a\"],[0.8888888888888888,\"#fdca26\"],[1.0,\"#f0f921\"]],\"sequentialminus\":[[0.0,\"#0d0887\"],[0.1111111111111111,\"#46039f\"],[0.2222222222222222,\"#7201a8\"],[0.3333333333333333,\"#9c179e\"],[0.4444444444444444,\"#bd3786\"],[0.5555555555555556,\"#d8576b\"],[0.6666666666666666,\"#ed7953\"],[0.7777777777777778,\"#fb9f3a\"],[0.8888888888888888,\"#fdca26\"],[1.0,\"#f0f921\"]],\"diverging\":[[0,\"#8e0152\"],[0.1,\"#c51b7d\"],[0.2,\"#de77ae\"],[0.3,\"#f1b6da\"],[0.4,\"#fde0ef\"],[0.5,\"#f7f7f7\"],[0.6,\"#e6f5d0\"],[0.7,\"#b8e186\"],[0.8,\"#7fbc41\"],[0.9,\"#4d9221\"],[1,\"#276419\"]]},\"xaxis\":{\"gridcolor\":\"white\",\"linecolor\":\"white\",\"ticks\":\"\",\"title\":{\"standoff\":15},\"zerolinecolor\":\"white\",\"automargin\":true,\"zerolinewidth\":2},\"yaxis\":{\"gridcolor\":\"white\",\"linecolor\":\"white\",\"ticks\":\"\",\"title\":{\"standoff\":15},\"zerolinecolor\":\"white\",\"automargin\":true,\"zerolinewidth\":2},\"scene\":{\"xaxis\":{\"backgroundcolor\":\"#E5ECF6\",\"gridcolor\":\"white\",\"linecolor\":\"white\",\"showbackground\":true,\"ticks\":\"\",\"zerolinecolor\":\"white\",\"gridwidth\":2},\"yaxis\":{\"backgroundcolor\":\"#E5ECF6\",\"gridcolor\":\"white\",\"linecolor\":\"white\",\"showbackground\":true,\"ticks\":\"\",\"zerolinecolor\":\"white\",\"gridwidth\":2},\"zaxis\":{\"backgroundcolor\":\"#E5ECF6\",\"gridcolor\":\"white\",\"linecolor\":\"white\",\"showbackground\":true,\"ticks\":\"\",\"zerolinecolor\":\"white\",\"gridwidth\":2}},\"shapedefaults\":{\"line\":{\"color\":\"#2a3f5f\"}},\"annotationdefaults\":{\"arrowcolor\":\"#2a3f5f\",\"arrowhead\":0,\"arrowwidth\":1},\"geo\":{\"bgcolor\":\"white\",\"landcolor\":\"#E5ECF6\",\"subunitcolor\":\"white\",\"showland\":true,\"showlakes\":true,\"lakecolor\":\"white\"},\"title\":{\"x\":0.05},\"mapbox\":{\"style\":\"light\"}}},\"barmode\":\"stack\",\"title\":{\"text\":\"Percepci\\u00f3n de atenci\\u00f3n por compa\\u00f1\\u00eda\"},\"yaxis\":{\"title\":{\"text\":\"Frecuencia\"}},\"xaxis\":{\"title\":{\"text\":\"Aerolineas\"}}},                        {\"responsive\": true}                    ).then(function(){\n",
              "                            \n",
              "var gd = document.getElementById('45a43968-bcca-48af-8630-13963955ce7c');\n",
              "var x = new MutationObserver(function (mutations, observer) {{\n",
              "        var display = window.getComputedStyle(gd).display;\n",
              "        if (!display || display === 'none') {{\n",
              "            console.log([gd, 'removed!']);\n",
              "            Plotly.purge(gd);\n",
              "            observer.disconnect();\n",
              "        }}\n",
              "}});\n",
              "\n",
              "// Listen for the removal of the full notebook cells\n",
              "var notebookContainer = gd.closest('#notebook-container');\n",
              "if (notebookContainer) {{\n",
              "    x.observe(notebookContainer, {childList: true});\n",
              "}}\n",
              "\n",
              "// Listen for the clearing of the current output cell\n",
              "var outputEl = gd.closest('.output');\n",
              "if (outputEl) {{\n",
              "    x.observe(outputEl, {childList: true});\n",
              "}}\n",
              "\n",
              "                        })                };                            </script>        </div>\n",
              "</body>\n",
              "</html>"
            ]
          },
          "metadata": {}
        }
      ]
    },
    {
      "cell_type": "code",
      "source": [
        "print(figure_2)"
      ],
      "metadata": {
        "colab": {
          "base_uri": "https://localhost:8080/"
        },
        "id": "xJabXeJsVoWv",
        "outputId": "d089ed8e-17f0-457a-a20f-555d7f82c5f9"
      },
      "execution_count": null,
      "outputs": [
        {
          "output_type": "stream",
          "name": "stdout",
          "text": [
            "airline         airline_sentiment\n",
            "american        negative             1954\n",
            "                neutral               463\n",
            "                positive              336\n",
            "delta           negative              953\n",
            "                neutral               723\n",
            "                positive              544\n",
            "southwest       negative             1184\n",
            "                neutral               664\n",
            "                positive              569\n",
            "united          negative             2581\n",
            "                neutral               692\n",
            "                positive              488\n",
            "us airways      negative             2262\n",
            "                neutral               379\n",
            "                positive              269\n",
            "virgin america  negative              162\n",
            "                neutral               153\n",
            "                positive              134\n",
            "dtype: int64\n"
          ]
        }
      ]
    },
    {
      "cell_type": "code",
      "source": [
        "date = df_V2.reset_index()\n",
        "#convert the Date column to pandas datetime\n",
        "date.tweet_created = pd.to_datetime(date.tweet_created)\n",
        "#Reduce the dates in the date column to only the date and no time stamp using the 'dt.date' method\n",
        "date.tweet_created = date.tweet_created.dt.date\n",
        "date.tweet_created.head()\n",
        "df = date\n",
        "day_df = df.groupby(['tweet_created','airline','airline_sentiment']).size()\n",
        "# day_df = day_df.reset_index()\n",
        "print(day_df.head(6))\n"
      ],
      "metadata": {
        "colab": {
          "base_uri": "https://localhost:8080/"
        },
        "id": "hARygKjUYMea",
        "outputId": "814aa3bc-e914-4dd8-d0d5-96ef965a6c59"
      },
      "execution_count": null,
      "outputs": [
        {
          "output_type": "stream",
          "name": "stdout",
          "text": [
            "tweet_created  airline  airline_sentiment\n",
            "2015-02-16     delta    negative              1\n",
            "                        neutral               1\n",
            "               united   negative              2\n",
            "2015-02-17     delta    negative             96\n",
            "                        neutral              85\n",
            "                        positive             65\n",
            "dtype: int64\n"
          ]
        }
      ]
    },
    {
      "cell_type": "code",
      "source": [
        "day_df = day_df.loc(axis=0)[:,:,'negative']\n",
        "\n",
        "#groupby and plot data\n",
        "ax2 = day_df.groupby(['tweet_created','airline']).sum().unstack().plot(kind = 'bar', color=['red', 'green', 'blue','yellow','purple','orange'], figsize = (15,6), rot = 70)\n",
        "labels = ['American','Delta','Southwest','US Airways','United','Virgin America']\n",
        "ax2.legend(labels = labels)\n",
        "ax2.set_xlabel('Date')\n",
        "ax2.set_ylabel('Negative Tweets')\n",
        "plt.show()"
      ],
      "metadata": {
        "colab": {
          "base_uri": "https://localhost:8080/",
          "height": 608
        },
        "id": "__Zpqy2fWu96",
        "outputId": "415e53a4-c1b8-4941-9954-8b3954164d85"
      },
      "execution_count": null,
      "outputs": [
        {
          "output_type": "display_data",
          "data": {
            "text/plain": [
              "<Figure size 1500x600 with 1 Axes>"
            ],
            "image/png": "[encoded data removed]"
          },
          "metadata": {}
        }
      ]
    },
    {
      "cell_type": "code",
      "source": [
        "negative_reasons = df_V4.groupby('airline')['negativereason'].value_counts(ascending=True)\n",
        "negative_reasons.groupby(['airline','negativereason']).sum().unstack().plot(kind='bar',figsize=(22,12))\n",
        "plt.xlabel('Airline Company')\n",
        "plt.ylabel('Number of Negative reasons')\n",
        "plt.title(\"The number of the count of negative reasons for airlines\")\n",
        "plt.show()"
      ],
      "metadata": {
        "colab": {
          "base_uri": "https://localhost:8080/",
          "height": 779
        },
        "id": "gOzPzxBoWH0W",
        "outputId": "6cdd200e-3778-4644-9166-acd5ebc62d28"
      },
      "execution_count": null,
      "outputs": [
        {
          "output_type": "display_data",
          "data": {
            "text/plain": [
              "<Figure size 2200x1200 with 1 Axes>"
            ],
            "image/png": "[encoded data removed]"
          },
          "metadata": {}
        }
      ]
    },
    {
      "cell_type": "code",
      "source": [
        "neg_tweets = df_V5.groupby(['airline','airline_sentiment']).count().iloc[:,0]\n",
        "total_tweets = df_V5.groupby(['airline'])['airline_sentiment'].count()\n",
        "\n",
        "my_dict = {'American':neg_tweets[0] / total_tweets[0],'Delta':neg_tweets[3] / total_tweets[1],'Southwest': neg_tweets[6] / total_tweets[2],\n",
        "'US Airways': neg_tweets[9] / total_tweets[3],'United': neg_tweets[12] / total_tweets[4],'Virgin': neg_tweets[15] / total_tweets[5]}\n",
        "perc = pd.DataFrame.from_dict(my_dict, orient = 'index')\n",
        "perc.columns = ['% Negativo']\n",
        "print(perc)\n",
        "ax = perc.plot(kind = 'bar', rot=0, colormap = 'Greens_r', figsize = (15,6))\n",
        "ax.set_xlabel('Airlines')\n",
        "ax.set_ylabel('Porcentaje de tweets negativos')\n",
        "plt.show()"
      ],
      "metadata": {
        "colab": {
          "base_uri": "https://localhost:8080/",
          "height": 670
        },
        "id": "QVUTFJe-Ueza",
        "outputId": "87dbaf0a-c436-4d96-f8fb-c323a6682e99"
      },
      "execution_count": null,
      "outputs": [
        {
          "output_type": "stream",
          "name": "stdout",
          "text": [
            "            % Negativo\n",
            "American      0.709771\n",
            "Delta         0.429279\n",
            "Southwest     0.489863\n",
            "US Airways    0.686254\n",
            "United        0.777320\n",
            "Virgin        0.360802\n"
          ]
        },
        {
          "output_type": "display_data",
          "data": {
            "text/plain": [
              "<Figure size 1500x600 with 1 Axes>"
            ],
            "image/png": "[encoded data removed]"
          },
          "metadata": {}
        }
      ]
    },
    {
      "cell_type": "code",
      "source": [
        "freq = df_V5.groupby('negativereason').size()\n",
        "freq"
      ],
      "metadata": {
        "id": "IjrtzKRuBUIW",
        "colab": {
          "base_uri": "https://localhost:8080/"
        },
        "outputId": "7c6b8cf6-ff94-43ce-fda0-d023980d34d7"
      },
      "execution_count": null,
      "outputs": [
        {
          "output_type": "execute_result",
          "data": {
            "text/plain": [
              "negativereason\n",
              "bad flight                      573\n",
              "can't tell                     1181\n",
              "cancelled flight                842\n",
              "customer service issue         2891\n",
              "damaged luggage                  74\n",
              "flight attendant complaints     479\n",
              "flight booking problems         523\n",
              "late flight                    1649\n",
              "longlines                       176\n",
              "lost luggage                    708\n",
              "dtype: int64"
            ]
          },
          "metadata": {},
          "execution_count": 164
        }
      ]
    },
    {
      "cell_type": "markdown",
      "source": [
        "---\n",
        "# **7. Preparación del modelo**\n",
        "\n",
        "---"
      ],
      "metadata": {
        "id": "qhkMJko9z3cg"
      }
    },
    {
      "cell_type": "markdown",
      "source": [
        "### 7.1 Prepración de tabla con variables priorizadas"
      ],
      "metadata": {
        "id": "t2kmuDv25LmC"
      }
    },
    {
      "cell_type": "code",
      "source": [
        "#Dropping unwanted columns\n",
        "df_V5=df_V5.drop([\"tweet_id\",\"airline_sentiment_confidence\",\"negativereason\" , \"Hashtag\", \"Temas\", \"Audiencia\", \"negativereason_confidence\" ,\"date_created\",\"hour_created\", \"name\", \"retweet_count\", \"tweet_coord\" , \"tweet_location\", \"user_timezone\"], axis=1)\n",
        "print(\"\\033[43m\\033[30m\\033[1mEJECUTADO\\033[0m\")"
      ],
      "metadata": {
        "colab": {
          "base_uri": "https://localhost:8080/"
        },
        "id": "x4Wi082oRqCG",
        "outputId": "e65e472b-a1aa-4481-e468-474ad771252d"
      },
      "execution_count": null,
      "outputs": [
        {
          "output_type": "stream",
          "name": "stdout",
          "text": [
            "\u001b[43m\u001b[30m\u001b[1mEJECUTADO\u001b[0m\n"
          ]
        }
      ]
    },
    {
      "cell_type": "code",
      "source": [
        "df_V5['airline_sentiment'].replace({'negative': 0, 'neutral': 1, 'positive': 2}, inplace=True)\n",
        "# Guardar el DataFrame modificado\n",
        "df_V5.to_excel(\"/content/B_V5.xlsx\", index=False)\n",
        "print(\"\\033[43m\\033[30m\\033[1mEJECUTADO\\033[0m\")"
      ],
      "metadata": {
        "colab": {
          "base_uri": "https://localhost:8080/"
        },
        "id": "LJv5AyNMKvBw",
        "outputId": "615daf47-f73d-4d29-cd15-bae29f24fe86"
      },
      "execution_count": null,
      "outputs": [
        {
          "output_type": "stream",
          "name": "stdout",
          "text": [
            "\u001b[43m\u001b[30m\u001b[1mEJECUTADO\u001b[0m\n"
          ]
        }
      ]
    },
    {
      "cell_type": "code",
      "source": [
        "print(\"\\033[43m\\033[30m\\033[1mRespuesta:\\033[0m\")\n",
        "df_V5.head()"
      ],
      "metadata": {
        "colab": {
          "base_uri": "https://localhost:8080/",
          "height": 224
        },
        "id": "GwgxqElvR_QH",
        "outputId": "a184090d-0145-4b15-c6ec-45b70748b29f"
      },
      "execution_count": null,
      "outputs": [
        {
          "output_type": "stream",
          "name": "stdout",
          "text": [
            "\u001b[43m\u001b[30m\u001b[1mRespuesta:\u001b[0m\n"
          ]
        },
        {
          "output_type": "execute_result",
          "data": {
            "text/plain": [
              "   airline_sentiment     airline  \\\n",
              "0                  1      united   \n",
              "1                  0  us airways   \n",
              "2                  0  us airways   \n",
              "3                  0  us airways   \n",
              "4                  0      united   \n",
              "\n",
              "                                                text  \n",
              "0  @united hi, i am flying domestic first from se...  \n",
              "1  @usairways i'm glad you're sorry that i'm home...  \n",
              "2  @usairways it says to call. before connecting,...  \n",
              "3  @usairways really? tried that already-got mess...  \n",
              "4  @united sure, but 8 different texts changing t...  "
            ],
            "text/html": [
              "\n",
              "  <div id=\"df-be46d5c7-5263-49c5-9d92-14f41ef6a4e9\">\n",
              "    <div class=\"colab-df-container\">\n",
              "      <div>\n",
              "<style scoped>\n",
              "    .dataframe tbody tr th:only-of-type {\n",
              "        vertical-align: middle;\n",
              "    }\n",
              "\n",
              "    .dataframe tbody tr th {\n",
              "        vertical-align: top;\n",
              "    }\n",
              "\n",
              "    .dataframe thead th {\n",
              "        text-align: right;\n",
              "    }\n",
              "</style>\n",
              "<table border=\"1\" class=\"dataframe\">\n",
              "  <thead>\n",
              "    <tr style=\"text-align: right;\">\n",
              "      <th></th>\n",
              "      <th>airline_sentiment</th>\n",
              "      <th>airline</th>\n",
              "      <th>text</th>\n",
              "    </tr>\n",
              "  </thead>\n",
              "  <tbody>\n",
              "    <tr>\n",
              "      <th>0</th>\n",
              "      <td>1</td>\n",
              "      <td>united</td>\n",
              "      <td>@united hi, i am flying domestic first from se...</td>\n",
              "    </tr>\n",
              "    <tr>\n",
              "      <th>1</th>\n",
              "      <td>0</td>\n",
              "      <td>us airways</td>\n",
              "      <td>@usairways i'm glad you're sorry that i'm home...</td>\n",
              "    </tr>\n",
              "    <tr>\n",
              "      <th>2</th>\n",
              "      <td>0</td>\n",
              "      <td>us airways</td>\n",
              "      <td>@usairways it says to call. before connecting,...</td>\n",
              "    </tr>\n",
              "    <tr>\n",
              "      <th>3</th>\n",
              "      <td>0</td>\n",
              "      <td>us airways</td>\n",
              "      <td>@usairways really? tried that already-got mess...</td>\n",
              "    </tr>\n",
              "    <tr>\n",
              "      <th>4</th>\n",
              "      <td>0</td>\n",
              "      <td>united</td>\n",
              "      <td>@united sure, but 8 different texts changing t...</td>\n",
              "    </tr>\n",
              "  </tbody>\n",
              "</table>\n",
              "</div>\n",
              "      <button class=\"colab-df-convert\" onclick=\"convertToInteractive('df-be46d5c7-5263-49c5-9d92-14f41ef6a4e9')\"\n",
              "              title=\"Convert this dataframe to an interactive table.\"\n",
              "              style=\"display:none;\">\n",
              "        \n",
              "  <svg xmlns=\"http://www.w3.org/2000/svg\" height=\"24px\"viewBox=\"0 0 24 24\"\n",
              "       width=\"24px\">\n",
              "    <path d=\"M0 0h24v24H0V0z\" fill=\"none\"/>\n",
              "    <path d=\"M18.56 5.44l.94 2.06.94-2.06 2.06-.94-2.06-.94-.94-2.06-.94 2.06-2.06.94zm-11 1L8.5 8.5l.94-2.06 2.06-.94-2.06-.94L8.5 2.5l-.94 2.06-2.06.94zm10 10l.94 2.06.94-2.06 2.06-.94-2.06-.94-.94-2.06-.94 2.06-2.06.94z\"/><path d=\"M17.41 7.96l-1.37-1.37c-.4-.4-.92-.59-1.43-.59-.52 0-1.04.2-1.43.59L10.3 9.45l-7.72 7.72c-.78.78-.78 2.05 0 2.83L4 21.41c.39.39.9.59 1.41.59.51 0 1.02-.2 1.41-.59l7.78-7.78 2.81-2.81c.8-.78.8-2.07 0-2.86zM5.41 20L4 18.59l7.72-7.72 1.47 1.35L5.41 20z\"/>\n",
              "  </svg>\n",
              "      </button>\n",
              "      \n",
              "  <style>\n",
              "    .colab-df-container {\n",
              "      display:flex;\n",
              "      flex-wrap:wrap;\n",
              "      gap: 12px;\n",
              "    }\n",
              "\n",
              "    .colab-df-convert {\n",
              "      background-color: #E8F0FE;\n",
              "      border: none;\n",
              "      border-radius: 50%;\n",
              "      cursor: pointer;\n",
              "      display: none;\n",
              "      fill: #1967D2;\n",
              "      height: 32px;\n",
              "      padding: 0 0 0 0;\n",
              "      width: 32px;\n",
              "    }\n",
              "\n",
              "    .colab-df-convert:hover {\n",
              "      background-color: #E2EBFA;\n",
              "      box-shadow: 0px 1px 2px rgba(60, 64, 67, 0.3), 0px 1px 3px 1px rgba(60, 64, 67, 0.15);\n",
              "      fill: #174EA6;\n",
              "    }\n",
              "\n",
              "    [theme=dark] .colab-df-convert {\n",
              "      background-color: #3B4455;\n",
              "      fill: #D2E3FC;\n",
              "    }\n",
              "\n",
              "    [theme=dark] .colab-df-convert:hover {\n",
              "      background-color: #434B5C;\n",
              "      box-shadow: 0px 1px 3px 1px rgba(0, 0, 0, 0.15);\n",
              "      filter: drop-shadow(0px 1px 2px rgba(0, 0, 0, 0.3));\n",
              "      fill: #FFFFFF;\n",
              "    }\n",
              "  </style>\n",
              "\n",
              "      <script>\n",
              "        const buttonEl =\n",
              "          document.querySelector('#df-be46d5c7-5263-49c5-9d92-14f41ef6a4e9 button.colab-df-convert');\n",
              "        buttonEl.style.display =\n",
              "          google.colab.kernel.accessAllowed ? 'block' : 'none';\n",
              "\n",
              "        async function convertToInteractive(key) {\n",
              "          const element = document.querySelector('#df-be46d5c7-5263-49c5-9d92-14f41ef6a4e9');\n",
              "          const dataTable =\n",
              "            await google.colab.kernel.invokeFunction('convertToInteractive',\n",
              "                                                     [key], {});\n",
              "          if (!dataTable) return;\n",
              "\n",
              "          const docLinkHtml = 'Like what you see? Visit the ' +\n",
              "            '<a target=\"_blank\" href=https://colab.research.google.com/notebooks/data_table.ipynb>data table notebook</a>'\n",
              "            + ' to learn more about interactive tables.';\n",
              "          element.innerHTML = '';\n",
              "          dataTable['output_type'] = 'display_data';\n",
              "          await google.colab.output.renderOutput(dataTable, element);\n",
              "          const docLink = document.createElement('div');\n",
              "          docLink.innerHTML = docLinkHtml;\n",
              "          element.appendChild(docLink);\n",
              "        }\n",
              "      </script>\n",
              "    </div>\n",
              "  </div>\n",
              "  "
            ]
          },
          "metadata": {},
          "execution_count": 46
        }
      ]
    },
    {
      "cell_type": "markdown",
      "source": [
        "### 7.2 Train-Validation-Test Split"
      ],
      "metadata": {
        "id": "GUn3fAsT5Zkw"
      }
    },
    {
      "cell_type": "code",
      "source": [
        "# División entre características y objetivos\n",
        "X, y = df_V5.drop('airline_sentiment', axis = 1), df_V5['airline_sentiment']\n",
        "\n",
        "# Train-test split\n",
        "X_train, X_test, y_train, y_test = train_test_split(X, y, test_size = 0.2, random_state = 40)\n",
        "data_train = pd.concat([X_train, y_train], axis = 1)\n",
        "\n",
        "# Validación-test split\n",
        "X_val, X_test, y_val, y_test = train_test_split(X_test, y_test, test_size = 0.5, random_state = 40)\n",
        "data_val, data_test = pd.concat([X_val, y_val], axis = 1), pd.concat([X_test, y_test], axis = 1)\n",
        "\n",
        "# Comparación de los tamaños del conjunto de entrenamiento, el conjunto de validación y el conjunto de prueba\n",
        "values = np.array([len(data_train), len(data_val), len(data_test)])\n",
        "labels = ['Training set', 'Validation Set', 'Test set']\n",
        "fig = go.Figure(data = [go.Pie(values = values, labels = labels, hole = 0.5, textinfo = 'percent', title = \" \")])\n",
        "text_title = \"Comparison of sizes of training set, validation set and test set\"\n",
        "fig.update_layout(height = 500, width = 800, showlegend = True, title = dict(text = text_title, x = 0.5, y = 0.95)) \n",
        "print(\"\\033[43m\\033[30m\\033[1mEJECUTADA\\033[0m\")\n"
      ],
      "metadata": {
        "colab": {
          "base_uri": "https://localhost:8080/"
        },
        "id": "AyLpvC0o9uLb",
        "outputId": "dd6e749b-afa1-47dc-c1da-1a6abfb893a7"
      },
      "execution_count": 107,
      "outputs": [
        {
          "output_type": "stream",
          "name": "stdout",
          "text": [
            "\u001b[43m\u001b[30m\u001b[1mEJECUTADA\u001b[0m\n"
          ]
        }
      ]
    },
    {
      "cell_type": "code",
      "source": [
        "# RegexpTokenizer\n",
        "regexp = RegexpTokenizer(\"[\\w']+\")"
      ],
      "metadata": {
        "id": "sDvKKWjkvsYM"
      },
      "execution_count": null,
      "outputs": []
    },
    {
      "cell_type": "markdown",
      "source": [
        "### 7.3 Pulir base datos \"text\" de tweeter"
      ],
      "metadata": {
        "id": "zmI80XGx55kY"
      }
    },
    {
      "cell_type": "markdown",
      "source": [
        "### 7.3.1 Convertir a minúsculas"
      ],
      "metadata": {
        "id": "pSiSonFm8ejk"
      }
    },
    {
      "cell_type": "code",
      "source": [
        "# Converting to lowercase\n",
        "def convert_to_lowercase(text):\n",
        "    return text.lower()\n",
        "print(\"\\033[43m\\033[30m\\033[1mRespuesta:\\033[0m\")\n",
        "text = \"This is a FUNCTION that CoNvErTs a Text to lowercase\"\n",
        "print(\"Input: {}\".format(text))\n",
        "print(\"Output: {}\".format(convert_to_lowercase(text)))"
      ],
      "metadata": {
        "colab": {
          "base_uri": "https://localhost:8080/"
        },
        "id": "Xm7X1dWNz8ug",
        "outputId": "964c461f-e845-405b-d7ff-ce64e838cb62"
      },
      "execution_count": 108,
      "outputs": [
        {
          "output_type": "stream",
          "name": "stdout",
          "text": [
            "\u001b[43m\u001b[30m\u001b[1mRespuesta:\u001b[0m\n",
            "Input: This is a FUNCTION that CoNvErTs a Text to lowercase\n",
            "Output: this is a function that converts a text to lowercase\n"
          ]
        }
      ]
    },
    {
      "cell_type": "markdown",
      "source": [
        "### 7.3.2 Eliminar espacios vacíos"
      ],
      "metadata": {
        "id": "h3xeOesq8kcu"
      }
    },
    {
      "cell_type": "code",
      "source": [
        "# Removing whitespaces\n",
        "def remove_whitespace(text):\n",
        "    return text.strip()\n",
        "print(\"\\033[43m\\033[30m\\033[1mRespuesta:\\033[0m\")\n",
        "text = \" \\t This is a string \\t \"\n",
        "print(\"Input: {}\".format(text))\n",
        "print(\"Output: {}\".format(remove_whitespace(text)))"
      ],
      "metadata": {
        "colab": {
          "base_uri": "https://localhost:8080/"
        },
        "id": "KgxN2d460Fkd",
        "outputId": "9b1662ee-09bc-4c90-bf30-92a09b2ab8b1"
      },
      "execution_count": 109,
      "outputs": [
        {
          "output_type": "stream",
          "name": "stdout",
          "text": [
            "\u001b[43m\u001b[30m\u001b[1mRespuesta:\u001b[0m\n",
            "Input:  \t This is a string \t \n",
            "Output: This is a string\n"
          ]
        }
      ]
    },
    {
      "cell_type": "markdown",
      "source": [
        "### 7.3.3. Remover puntuaciones"
      ],
      "metadata": {
        "id": "1CX2tRsd8pSg"
      }
    },
    {
      "cell_type": "code",
      "source": [
        "# Removing punctuations\n",
        "def remove_punctuation(text):\n",
        "    punct_str = string.punctuation\n",
        "    punct_str = punct_str.replace(\"'\", \"\") # discarding apostrophe from the string to keep the contractions intact\n",
        "    return text.translate(str.maketrans(\"\", \"\", punct_str))\n",
        "print(\"\\033[43m\\033[30m\\033[1mRespuesta:\\033[0m\")\n",
        "text = \"Here's [an] example? {of} &a string. with.? punctuations!!!!\"\n",
        "print(\"Input: {}\".format(text))\n",
        "print(\"Output: {}\".format(remove_punctuation(text)))"
      ],
      "metadata": {
        "colab": {
          "base_uri": "https://localhost:8080/"
        },
        "id": "-0reexC20IhV",
        "outputId": "12dd8e35-8793-4717-96c0-4d42c0b0122c"
      },
      "execution_count": 110,
      "outputs": [
        {
          "output_type": "stream",
          "name": "stdout",
          "text": [
            "\u001b[43m\u001b[30m\u001b[1mRespuesta:\u001b[0m\n",
            "Input: Here's [an] example? {of} &a string. with.? punctuations!!!!\n",
            "Output: Here's an example of a string with punctuations\n"
          ]
        }
      ]
    },
    {
      "cell_type": "markdown",
      "source": [
        "### 7.3.4 Eliminar etiquetas HTML"
      ],
      "metadata": {
        "id": "ZTCsASYy8srw"
      }
    },
    {
      "cell_type": "code",
      "source": [
        "# Removing HTML tags\n",
        "def remove_html(text):\n",
        "    html = re.compile(r'<.*?>')\n",
        "    return html.sub(r'', text)\n",
        "print(\"\\033[43m\\033[30m\\033[1mRespuesta:\\033[0m\")\n",
        "text = '<a href = \"https://www.kaggle.com/datasets/saurabhshahane/ecommerce-text-classification\"> Ecommerce Text Classification </a>'\n",
        "print(\"Input: {}\".format(text))\n",
        "print(\"Output: {}\".format(remove_html(text)))"
      ],
      "metadata": {
        "colab": {
          "base_uri": "https://localhost:8080/"
        },
        "id": "3_iWyIq90fFj",
        "outputId": "61df1535-8b6a-4284-ea8c-da91ea8925c0"
      },
      "execution_count": 111,
      "outputs": [
        {
          "output_type": "stream",
          "name": "stdout",
          "text": [
            "\u001b[43m\u001b[30m\u001b[1mRespuesta:\u001b[0m\n",
            "Input: <a href = \"https://www.kaggle.com/datasets/saurabhshahane/ecommerce-text-classification\"> Ecommerce Text Classification </a>\n",
            "Output:  Ecommerce Text Classification \n"
          ]
        }
      ]
    },
    {
      "cell_type": "markdown",
      "source": [
        "### 7.3.5 Eliminar emojis, simbolos cartograficos"
      ],
      "metadata": {
        "id": "DEcZepfN8yWn"
      }
    },
    {
      "cell_type": "code",
      "source": [
        "# Removing emojis\n",
        "def remove_emoji(text):\n",
        "    emoji_pattern = re.compile(\"[\"\n",
        "                           u\"\\U0001F600-\\U0001F64F\"  # emoticons\n",
        "                           u\"\\U0001F300-\\U0001F5FF\"  # symbols & pictographs\n",
        "                           u\"\\U0001F680-\\U0001F6FF\"  # transport & map symbols\n",
        "                           u\"\\U0001F1E0-\\U0001F1FF\"  # flags (iOS)\n",
        "                           u\"\\U00002702-\\U000027B0\"\n",
        "                           u\"\\U000024C2-\\U0001F251\"\n",
        "                           \"]+\", flags = re.UNICODE)\n",
        "    return emoji_pattern.sub(r'', text)\n",
        "print(\"\\033[43m\\033[30m\\033[1mRespuesta:\\033[0m\")\n",
        "text = \"This innovative hd printing technique results in durable and spectacular looking prints 😊\"\n",
        "print(\"Input: {}\".format(text))\n",
        "print(\"Output: {}\".format(remove_emoji(text)))"
      ],
      "metadata": {
        "colab": {
          "base_uri": "https://localhost:8080/"
        },
        "id": "yepIMKc203rj",
        "outputId": "24e82d28-a045-4909-acd8-8b50b905babb"
      },
      "execution_count": 112,
      "outputs": [
        {
          "output_type": "stream",
          "name": "stdout",
          "text": [
            "\u001b[43m\u001b[30m\u001b[1mRespuesta:\u001b[0m\n",
            "Input: This innovative hd printing technique results in durable and spectacular looking prints 😊\n",
            "Output: This innovative hd printing technique results in durable and spectacular looking prints \n"
          ]
        }
      ]
    },
    {
      "cell_type": "markdown",
      "source": [
        "### 7.3.6 Eliminar carcateres unicode"
      ],
      "metadata": {
        "id": "QY6c65zE86OK"
      }
    },
    {
      "cell_type": "code",
      "source": [
        "# Removing other unicode characters\n",
        "def remove_http(text):\n",
        "    http = \"https?://\\S+|www\\.\\S+\" # matching strings beginning with http (but not just \"http\")\n",
        "    pattern = r\"({})\".format(http) # creating pattern\n",
        "    return re.sub(pattern, \"\", text)\n",
        "print(\"\\033[43m\\033[30m\\033[1mRespuesta:\\033[0m\")\n",
        "text = \"It's a function that removes links starting with http: or https such as https://en.wikipedia.org/wiki/Unicode_symbols\"\n",
        "print(\"Input: {}\".format(text))\n",
        "print(\"Output: {}\".format(remove_http(text)))"
      ],
      "metadata": {
        "colab": {
          "base_uri": "https://localhost:8080/"
        },
        "id": "n2JPflmj07YG",
        "outputId": "82e83c5e-baf7-4ef1-d38a-8c4ec7dacd6a"
      },
      "execution_count": 113,
      "outputs": [
        {
          "output_type": "stream",
          "name": "stdout",
          "text": [
            "\u001b[43m\u001b[30m\u001b[1mRespuesta:\u001b[0m\n",
            "Input: It's a function that removes links starting with http: or https such as https://en.wikipedia.org/wiki/Unicode_symbols\n",
            "Output: It's a function that removes links starting with http: or https such as \n"
          ]
        }
      ]
    },
    {
      "cell_type": "markdown",
      "source": [
        "### 7.3.7 Transformar acronimos"
      ],
      "metadata": {
        "id": "e6gBvAni8_Gb"
      }
    },
    {
      "cell_type": "code",
      "source": [
        "# Dictionary of acronyms\n",
        "acronyms_url = 'https://raw.githubusercontent.com/sugatagh/E-commerce-Text-Classification/main/JSON/english_acronyms.json'\n",
        "acronyms_dict = pd.read_json(acronyms_url, typ = 'series')\n",
        "print(\"\\033[43m\\033[30m\\033[1mRespuesta:\\033[0m\")\n",
        "print(\"Example: Original form of the acronym 'fyi' is '{}'\".format(acronyms_dict['fyi']))"
      ],
      "metadata": {
        "colab": {
          "base_uri": "https://localhost:8080/"
        },
        "id": "LWuRIREp1Adb",
        "outputId": "31094dec-9911-45fa-8fbc-677d07834184"
      },
      "execution_count": 114,
      "outputs": [
        {
          "output_type": "stream",
          "name": "stdout",
          "text": [
            "\u001b[43m\u001b[30m\u001b[1mRespuesta:\u001b[0m\n",
            "Example: Original form of the acronym 'fyi' is 'for your information'\n"
          ]
        }
      ]
    },
    {
      "cell_type": "code",
      "source": [
        "# Dataframe of acronyms\n",
        "print(\"\\033[43m\\033[30m\\033[1mRespuesta:\\033[0m\")\n",
        "pd.DataFrame(acronyms_dict.items(), columns = ['acronym', 'original']).head()"
      ],
      "metadata": {
        "colab": {
          "base_uri": "https://localhost:8080/",
          "height": 224
        },
        "id": "j6binjpT1T39",
        "outputId": "3cfd4c8d-6b0b-4235-ec25-ef336c92b2b3"
      },
      "execution_count": 115,
      "outputs": [
        {
          "output_type": "stream",
          "name": "stdout",
          "text": [
            "\u001b[43m\u001b[30m\u001b[1mRespuesta:\u001b[0m\n"
          ]
        },
        {
          "output_type": "execute_result",
          "data": {
            "text/plain": [
              "  acronym             original\n",
              "0     aka        also known as\n",
              "1    asap  as soon as possible\n",
              "2     brb        be right back\n",
              "3     btw           by the way\n",
              "4     dob        date of birth"
            ],
            "text/html": [
              "\n",
              "  <div id=\"df-bc43af31-2c6c-4128-93f8-5b557fbb7217\">\n",
              "    <div class=\"colab-df-container\">\n",
              "      <div>\n",
              "<style scoped>\n",
              "    .dataframe tbody tr th:only-of-type {\n",
              "        vertical-align: middle;\n",
              "    }\n",
              "\n",
              "    .dataframe tbody tr th {\n",
              "        vertical-align: top;\n",
              "    }\n",
              "\n",
              "    .dataframe thead th {\n",
              "        text-align: right;\n",
              "    }\n",
              "</style>\n",
              "<table border=\"1\" class=\"dataframe\">\n",
              "  <thead>\n",
              "    <tr style=\"text-align: right;\">\n",
              "      <th></th>\n",
              "      <th>acronym</th>\n",
              "      <th>original</th>\n",
              "    </tr>\n",
              "  </thead>\n",
              "  <tbody>\n",
              "    <tr>\n",
              "      <th>0</th>\n",
              "      <td>aka</td>\n",
              "      <td>also known as</td>\n",
              "    </tr>\n",
              "    <tr>\n",
              "      <th>1</th>\n",
              "      <td>asap</td>\n",
              "      <td>as soon as possible</td>\n",
              "    </tr>\n",
              "    <tr>\n",
              "      <th>2</th>\n",
              "      <td>brb</td>\n",
              "      <td>be right back</td>\n",
              "    </tr>\n",
              "    <tr>\n",
              "      <th>3</th>\n",
              "      <td>btw</td>\n",
              "      <td>by the way</td>\n",
              "    </tr>\n",
              "    <tr>\n",
              "      <th>4</th>\n",
              "      <td>dob</td>\n",
              "      <td>date of birth</td>\n",
              "    </tr>\n",
              "  </tbody>\n",
              "</table>\n",
              "</div>\n",
              "      <button class=\"colab-df-convert\" onclick=\"convertToInteractive('df-bc43af31-2c6c-4128-93f8-5b557fbb7217')\"\n",
              "              title=\"Convert this dataframe to an interactive table.\"\n",
              "              style=\"display:none;\">\n",
              "        \n",
              "  <svg xmlns=\"http://www.w3.org/2000/svg\" height=\"24px\"viewBox=\"0 0 24 24\"\n",
              "       width=\"24px\">\n",
              "    <path d=\"M0 0h24v24H0V0z\" fill=\"none\"/>\n",
              "    <path d=\"M18.56 5.44l.94 2.06.94-2.06 2.06-.94-2.06-.94-.94-2.06-.94 2.06-2.06.94zm-11 1L8.5 8.5l.94-2.06 2.06-.94-2.06-.94L8.5 2.5l-.94 2.06-2.06.94zm10 10l.94 2.06.94-2.06 2.06-.94-2.06-.94-.94-2.06-.94 2.06-2.06.94z\"/><path d=\"M17.41 7.96l-1.37-1.37c-.4-.4-.92-.59-1.43-.59-.52 0-1.04.2-1.43.59L10.3 9.45l-7.72 7.72c-.78.78-.78 2.05 0 2.83L4 21.41c.39.39.9.59 1.41.59.51 0 1.02-.2 1.41-.59l7.78-7.78 2.81-2.81c.8-.78.8-2.07 0-2.86zM5.41 20L4 18.59l7.72-7.72 1.47 1.35L5.41 20z\"/>\n",
              "  </svg>\n",
              "      </button>\n",
              "      \n",
              "  <style>\n",
              "    .colab-df-container {\n",
              "      display:flex;\n",
              "      flex-wrap:wrap;\n",
              "      gap: 12px;\n",
              "    }\n",
              "\n",
              "    .colab-df-convert {\n",
              "      background-color: #E8F0FE;\n",
              "      border: none;\n",
              "      border-radius: 50%;\n",
              "      cursor: pointer;\n",
              "      display: none;\n",
              "      fill: #1967D2;\n",
              "      height: 32px;\n",
              "      padding: 0 0 0 0;\n",
              "      width: 32px;\n",
              "    }\n",
              "\n",
              "    .colab-df-convert:hover {\n",
              "      background-color: #E2EBFA;\n",
              "      box-shadow: 0px 1px 2px rgba(60, 64, 67, 0.3), 0px 1px 3px 1px rgba(60, 64, 67, 0.15);\n",
              "      fill: #174EA6;\n",
              "    }\n",
              "\n",
              "    [theme=dark] .colab-df-convert {\n",
              "      background-color: #3B4455;\n",
              "      fill: #D2E3FC;\n",
              "    }\n",
              "\n",
              "    [theme=dark] .colab-df-convert:hover {\n",
              "      background-color: #434B5C;\n",
              "      box-shadow: 0px 1px 3px 1px rgba(0, 0, 0, 0.15);\n",
              "      filter: drop-shadow(0px 1px 2px rgba(0, 0, 0, 0.3));\n",
              "      fill: #FFFFFF;\n",
              "    }\n",
              "  </style>\n",
              "\n",
              "      <script>\n",
              "        const buttonEl =\n",
              "          document.querySelector('#df-bc43af31-2c6c-4128-93f8-5b557fbb7217 button.colab-df-convert');\n",
              "        buttonEl.style.display =\n",
              "          google.colab.kernel.accessAllowed ? 'block' : 'none';\n",
              "\n",
              "        async function convertToInteractive(key) {\n",
              "          const element = document.querySelector('#df-bc43af31-2c6c-4128-93f8-5b557fbb7217');\n",
              "          const dataTable =\n",
              "            await google.colab.kernel.invokeFunction('convertToInteractive',\n",
              "                                                     [key], {});\n",
              "          if (!dataTable) return;\n",
              "\n",
              "          const docLinkHtml = 'Like what you see? Visit the ' +\n",
              "            '<a target=\"_blank\" href=https://colab.research.google.com/notebooks/data_table.ipynb>data table notebook</a>'\n",
              "            + ' to learn more about interactive tables.';\n",
              "          element.innerHTML = '';\n",
              "          dataTable['output_type'] = 'display_data';\n",
              "          await google.colab.output.renderOutput(dataTable, element);\n",
              "          const docLink = document.createElement('div');\n",
              "          docLink.innerHTML = docLinkHtml;\n",
              "          element.appendChild(docLink);\n",
              "        }\n",
              "      </script>\n",
              "    </div>\n",
              "  </div>\n",
              "  "
            ]
          },
          "metadata": {},
          "execution_count": 115
        }
      ]
    },
    {
      "cell_type": "code",
      "source": [
        "# List of acronyms\n",
        "\n",
        "acronyms_list = list(acronyms_dict.keys())\n",
        "print(\"\\033[43m\\033[30m\\033[1mEJECUTADO\\033[0m\")"
      ],
      "metadata": {
        "colab": {
          "base_uri": "https://localhost:8080/"
        },
        "id": "8TCa99Ge1YLS",
        "outputId": "70ebb824-342c-4999-b2cf-958d16aa4d56"
      },
      "execution_count": 116,
      "outputs": [
        {
          "output_type": "stream",
          "name": "stdout",
          "text": [
            "\u001b[43m\u001b[30m\u001b[1mEJECUTADO\u001b[0m\n"
          ]
        }
      ]
    },
    {
      "cell_type": "code",
      "source": [
        "# Function to convert contractions in a text\n",
        "def convert_acronyms(text):\n",
        "    words = []\n",
        "    for word in regexp.tokenize(text):\n",
        "        if word in acronyms_list:\n",
        "            words = words + acronyms_dict[word].split()\n",
        "        else:\n",
        "            words = words + word.split()\n",
        "    \n",
        "    text_converted = \" \".join(words)\n",
        "    return text_converted\n",
        "print(\"\\033[43m\\033[30m\\033[1mRespuesta:\\033[0m\")\n",
        "text = \"btw you've to fill in the details including dob\"\n",
        "print(\"Input: {}\".format(text))\n",
        "print(\"Output: {}\".format(convert_acronyms(text)))\n"
      ],
      "metadata": {
        "colab": {
          "base_uri": "https://localhost:8080/"
        },
        "id": "r89XEpdF1amf",
        "outputId": "891147be-1ef2-4472-ae2c-8da5fe0dfc84"
      },
      "execution_count": 117,
      "outputs": [
        {
          "output_type": "stream",
          "name": "stdout",
          "text": [
            "\u001b[43m\u001b[30m\u001b[1mRespuesta:\u001b[0m\n",
            "Input: btw you've to fill in the details including dob\n",
            "Output: by the way you've to fill in the details including date of birth\n"
          ]
        }
      ]
    },
    {
      "cell_type": "markdown",
      "source": [
        "### 7.3.8 Trasnformar palabras con contracciones"
      ],
      "metadata": {
        "id": "RHAUHiV89FBf"
      }
    },
    {
      "cell_type": "code",
      "source": [
        "# Diccionario de contracciones\n",
        "# Dictionary of contractions\n",
        "contractions_url = 'https://raw.githubusercontent.com/sugatagh/E-commerce-Text-Classification/main/JSON/english_contractions.json'\n",
        "contractions_dict = pd.read_json(contractions_url, typ = 'series')\n",
        "print(\"\\033[43m\\033[30m\\033[1mRespuesta:\\033[0m\")\n",
        "print(\"Example: Original form of the contraction 'aren't' is '{}'\".format(contractions_dict[\"aren't\"]))"
      ],
      "metadata": {
        "colab": {
          "base_uri": "https://localhost:8080/"
        },
        "id": "Buyk6KqY12HG",
        "outputId": "e90d4bdd-4896-40c7-968a-0408cd6d8dc8"
      },
      "execution_count": 118,
      "outputs": [
        {
          "output_type": "stream",
          "name": "stdout",
          "text": [
            "\u001b[43m\u001b[30m\u001b[1mRespuesta:\u001b[0m\n",
            "Example: Original form of the contraction 'aren't' is 'are not'\n"
          ]
        }
      ]
    },
    {
      "cell_type": "code",
      "source": [
        "# Dataframe of contractions\n",
        "print(\"\\033[43m\\033[30m\\033[1mRespuesta:\\033[0m\")\n",
        "pd.DataFrame(contractions_dict.items(), columns = ['contraction', 'original']).head()"
      ],
      "metadata": {
        "colab": {
          "base_uri": "https://localhost:8080/",
          "height": 224
        },
        "id": "ZRsi45HW15UE",
        "outputId": "15874c3f-829a-4c71-a8f4-f9578855ce81"
      },
      "execution_count": 119,
      "outputs": [
        {
          "output_type": "stream",
          "name": "stdout",
          "text": [
            "\u001b[43m\u001b[30m\u001b[1mRespuesta:\u001b[0m\n"
          ]
        },
        {
          "output_type": "execute_result",
          "data": {
            "text/plain": [
              "  contraction     original\n",
              "0      'aight      alright\n",
              "1       ain't      are not\n",
              "2       amn't       am not\n",
              "3     arencha  are not you\n",
              "4      aren't      are not"
            ],
            "text/html": [
              "\n",
              "  <div id=\"df-dbc772df-48ec-4b75-be66-923012575b99\">\n",
              "    <div class=\"colab-df-container\">\n",
              "      <div>\n",
              "<style scoped>\n",
              "    .dataframe tbody tr th:only-of-type {\n",
              "        vertical-align: middle;\n",
              "    }\n",
              "\n",
              "    .dataframe tbody tr th {\n",
              "        vertical-align: top;\n",
              "    }\n",
              "\n",
              "    .dataframe thead th {\n",
              "        text-align: right;\n",
              "    }\n",
              "</style>\n",
              "<table border=\"1\" class=\"dataframe\">\n",
              "  <thead>\n",
              "    <tr style=\"text-align: right;\">\n",
              "      <th></th>\n",
              "      <th>contraction</th>\n",
              "      <th>original</th>\n",
              "    </tr>\n",
              "  </thead>\n",
              "  <tbody>\n",
              "    <tr>\n",
              "      <th>0</th>\n",
              "      <td>'aight</td>\n",
              "      <td>alright</td>\n",
              "    </tr>\n",
              "    <tr>\n",
              "      <th>1</th>\n",
              "      <td>ain't</td>\n",
              "      <td>are not</td>\n",
              "    </tr>\n",
              "    <tr>\n",
              "      <th>2</th>\n",
              "      <td>amn't</td>\n",
              "      <td>am not</td>\n",
              "    </tr>\n",
              "    <tr>\n",
              "      <th>3</th>\n",
              "      <td>arencha</td>\n",
              "      <td>are not you</td>\n",
              "    </tr>\n",
              "    <tr>\n",
              "      <th>4</th>\n",
              "      <td>aren't</td>\n",
              "      <td>are not</td>\n",
              "    </tr>\n",
              "  </tbody>\n",
              "</table>\n",
              "</div>\n",
              "      <button class=\"colab-df-convert\" onclick=\"convertToInteractive('df-dbc772df-48ec-4b75-be66-923012575b99')\"\n",
              "              title=\"Convert this dataframe to an interactive table.\"\n",
              "              style=\"display:none;\">\n",
              "        \n",
              "  <svg xmlns=\"http://www.w3.org/2000/svg\" height=\"24px\"viewBox=\"0 0 24 24\"\n",
              "       width=\"24px\">\n",
              "    <path d=\"M0 0h24v24H0V0z\" fill=\"none\"/>\n",
              "    <path d=\"M18.56 5.44l.94 2.06.94-2.06 2.06-.94-2.06-.94-.94-2.06-.94 2.06-2.06.94zm-11 1L8.5 8.5l.94-2.06 2.06-.94-2.06-.94L8.5 2.5l-.94 2.06-2.06.94zm10 10l.94 2.06.94-2.06 2.06-.94-2.06-.94-.94-2.06-.94 2.06-2.06.94z\"/><path d=\"M17.41 7.96l-1.37-1.37c-.4-.4-.92-.59-1.43-.59-.52 0-1.04.2-1.43.59L10.3 9.45l-7.72 7.72c-.78.78-.78 2.05 0 2.83L4 21.41c.39.39.9.59 1.41.59.51 0 1.02-.2 1.41-.59l7.78-7.78 2.81-2.81c.8-.78.8-2.07 0-2.86zM5.41 20L4 18.59l7.72-7.72 1.47 1.35L5.41 20z\"/>\n",
              "  </svg>\n",
              "      </button>\n",
              "      \n",
              "  <style>\n",
              "    .colab-df-container {\n",
              "      display:flex;\n",
              "      flex-wrap:wrap;\n",
              "      gap: 12px;\n",
              "    }\n",
              "\n",
              "    .colab-df-convert {\n",
              "      background-color: #E8F0FE;\n",
              "      border: none;\n",
              "      border-radius: 50%;\n",
              "      cursor: pointer;\n",
              "      display: none;\n",
              "      fill: #1967D2;\n",
              "      height: 32px;\n",
              "      padding: 0 0 0 0;\n",
              "      width: 32px;\n",
              "    }\n",
              "\n",
              "    .colab-df-convert:hover {\n",
              "      background-color: #E2EBFA;\n",
              "      box-shadow: 0px 1px 2px rgba(60, 64, 67, 0.3), 0px 1px 3px 1px rgba(60, 64, 67, 0.15);\n",
              "      fill: #174EA6;\n",
              "    }\n",
              "\n",
              "    [theme=dark] .colab-df-convert {\n",
              "      background-color: #3B4455;\n",
              "      fill: #D2E3FC;\n",
              "    }\n",
              "\n",
              "    [theme=dark] .colab-df-convert:hover {\n",
              "      background-color: #434B5C;\n",
              "      box-shadow: 0px 1px 3px 1px rgba(0, 0, 0, 0.15);\n",
              "      filter: drop-shadow(0px 1px 2px rgba(0, 0, 0, 0.3));\n",
              "      fill: #FFFFFF;\n",
              "    }\n",
              "  </style>\n",
              "\n",
              "      <script>\n",
              "        const buttonEl =\n",
              "          document.querySelector('#df-dbc772df-48ec-4b75-be66-923012575b99 button.colab-df-convert');\n",
              "        buttonEl.style.display =\n",
              "          google.colab.kernel.accessAllowed ? 'block' : 'none';\n",
              "\n",
              "        async function convertToInteractive(key) {\n",
              "          const element = document.querySelector('#df-dbc772df-48ec-4b75-be66-923012575b99');\n",
              "          const dataTable =\n",
              "            await google.colab.kernel.invokeFunction('convertToInteractive',\n",
              "                                                     [key], {});\n",
              "          if (!dataTable) return;\n",
              "\n",
              "          const docLinkHtml = 'Like what you see? Visit the ' +\n",
              "            '<a target=\"_blank\" href=https://colab.research.google.com/notebooks/data_table.ipynb>data table notebook</a>'\n",
              "            + ' to learn more about interactive tables.';\n",
              "          element.innerHTML = '';\n",
              "          dataTable['output_type'] = 'display_data';\n",
              "          await google.colab.output.renderOutput(dataTable, element);\n",
              "          const docLink = document.createElement('div');\n",
              "          docLink.innerHTML = docLinkHtml;\n",
              "          element.appendChild(docLink);\n",
              "        }\n",
              "      </script>\n",
              "    </div>\n",
              "  </div>\n",
              "  "
            ]
          },
          "metadata": {},
          "execution_count": 119
        }
      ]
    },
    {
      "cell_type": "code",
      "source": [
        "# List of contractions\n",
        "contractions_list = list(contractions_dict.keys())"
      ],
      "metadata": {
        "id": "1HpLMGVb1-0y"
      },
      "execution_count": 120,
      "outputs": []
    },
    {
      "cell_type": "code",
      "source": [
        "# Function to convert contractions in a text\n",
        "def convert_contractions(text):\n",
        "    words = []\n",
        "    for word in regexp.tokenize(text):\n",
        "        if word in contractions_list:\n",
        "            words = words + contractions_dict[word].split()\n",
        "        else:\n",
        "            words = words + word.split()\n",
        "    \n",
        "    text_converted = \" \".join(words)\n",
        "    return text_converted\n",
        "print(\"\\033[43m\\033[30m\\033[1mRespuesta:\\033[0m\")\n",
        "text = \"he's doin' fine\"\n",
        "print(\"Input: {}\".format(text))\n",
        "print(\"Output: {}\".format(convert_contractions(text)))"
      ],
      "metadata": {
        "colab": {
          "base_uri": "https://localhost:8080/"
        },
        "id": "BuJIiewH1_zH",
        "outputId": "1d34da06-53b7-40d8-8fc8-4f4c3434f574"
      },
      "execution_count": 121,
      "outputs": [
        {
          "output_type": "stream",
          "name": "stdout",
          "text": [
            "\u001b[43m\u001b[30m\u001b[1mRespuesta:\u001b[0m\n",
            "Input: he's doin' fine\n",
            "Output: he is doing fine\n"
          ]
        }
      ]
    },
    {
      "cell_type": "markdown",
      "source": [
        "### 7.3.9 Eliminar stopworks"
      ],
      "metadata": {
        "id": "rYkPiU0D9LLy"
      }
    },
    {
      "cell_type": "code",
      "source": [
        "# Stopwords\n",
        "stops = stopwords.words(\"english\") # stopwords\n",
        "addstops = [\"among\", \"onto\", \"shall\", \"thrice\", \"thus\", \"twice\", \"unto\", \"us\", \"would\"] # additional stopwords\n",
        "allstops = stops + addstops\n",
        "print(\"\\033[43m\\033[30m\\033[1mRespuesta:\\033[0m\")\n",
        "print(allstops)"
      ],
      "metadata": {
        "colab": {
          "base_uri": "https://localhost:8080/"
        },
        "id": "V1V43iMF2fqj",
        "outputId": "4d4fb422-a825-40dc-f805-aac05a9cdfe3"
      },
      "execution_count": 122,
      "outputs": [
        {
          "output_type": "stream",
          "name": "stdout",
          "text": [
            "\u001b[43m\u001b[30m\u001b[1mRespuesta:\u001b[0m\n",
            "['i', 'me', 'my', 'myself', 'we', 'our', 'ours', 'ourselves', 'you', \"you're\", \"you've\", \"you'll\", \"you'd\", 'your', 'yours', 'yourself', 'yourselves', 'he', 'him', 'his', 'himself', 'she', \"she's\", 'her', 'hers', 'herself', 'it', \"it's\", 'its', 'itself', 'they', 'them', 'their', 'theirs', 'themselves', 'what', 'which', 'who', 'whom', 'this', 'that', \"that'll\", 'these', 'those', 'am', 'is', 'are', 'was', 'were', 'be', 'been', 'being', 'have', 'has', 'had', 'having', 'do', 'does', 'did', 'doing', 'a', 'an', 'the', 'and', 'but', 'if', 'or', 'because', 'as', 'until', 'while', 'of', 'at', 'by', 'for', 'with', 'about', 'against', 'between', 'into', 'through', 'during', 'before', 'after', 'above', 'below', 'to', 'from', 'up', 'down', 'in', 'out', 'on', 'off', 'over', 'under', 'again', 'further', 'then', 'once', 'here', 'there', 'when', 'where', 'why', 'how', 'all', 'any', 'both', 'each', 'few', 'more', 'most', 'other', 'some', 'such', 'no', 'nor', 'not', 'only', 'own', 'same', 'so', 'than', 'too', 'very', 's', 't', 'can', 'will', 'just', 'don', \"don't\", 'should', \"should've\", 'now', 'd', 'll', 'm', 'o', 're', 've', 'y', 'ain', 'aren', \"aren't\", 'couldn', \"couldn't\", 'didn', \"didn't\", 'doesn', \"doesn't\", 'hadn', \"hadn't\", 'hasn', \"hasn't\", 'haven', \"haven't\", 'isn', \"isn't\", 'ma', 'mightn', \"mightn't\", 'mustn', \"mustn't\", 'needn', \"needn't\", 'shan', \"shan't\", 'shouldn', \"shouldn't\", 'wasn', \"wasn't\", 'weren', \"weren't\", 'won', \"won't\", 'wouldn', \"wouldn't\", 'among', 'onto', 'shall', 'thrice', 'thus', 'twice', 'unto', 'us', 'would']\n"
          ]
        }
      ]
    },
    {
      "cell_type": "code",
      "source": [
        "# Function to remove stopwords from a list of texts\n",
        "def remove_stopwords(text):\n",
        "    return \" \".join([word for word in regexp.tokenize(text) if word not in allstops])\n",
        "print(\"\\033[43m\\033[30m\\033[1mRespuesta:\\033[0m\")\n",
        "text = \"This is a function that removes stopwords in a given text\"\n",
        "print(\"Input: {}\".format(text))\n",
        "print(\"Output: {}\".format(remove_stopwords(text)))"
      ],
      "metadata": {
        "colab": {
          "base_uri": "https://localhost:8080/"
        },
        "id": "5m4RSyUr20hc",
        "outputId": "c9b501ae-61a0-4de9-e872-9001ace2150b"
      },
      "execution_count": 123,
      "outputs": [
        {
          "output_type": "stream",
          "name": "stdout",
          "text": [
            "\u001b[43m\u001b[30m\u001b[1mRespuesta:\u001b[0m\n",
            "Input: This is a function that removes stopwords in a given text\n",
            "Output: This function removes stopwords given text\n"
          ]
        }
      ]
    },
    {
      "cell_type": "markdown",
      "source": [
        "### 7.3.10 Corregir ortografía"
      ],
      "metadata": {
        "id": "mOF269Py9P8l"
      }
    },
    {
      "cell_type": "code",
      "source": [
        "# pyspellchecker\n",
        "spell = SpellChecker()\n",
        "\n",
        "def pyspellchecker(text):\n",
        "    word_list = regexp.tokenize(text)\n",
        "    word_list_corrected = []\n",
        "    for word in word_list:\n",
        "        if word in spell.unknown(word_list):\n",
        "            word_corrected = spell.correction(word)\n",
        "            if word_corrected == None:\n",
        "                word_list_corrected.append(word)\n",
        "            else:\n",
        "                word_list_corrected.append(word_corrected)\n",
        "        else:\n",
        "            word_list_corrected.append(word)\n",
        "    text_corrected = \" \".join(word_list_corrected)\n",
        "    return text_corrected\n",
        "print(\"\\033[43m\\033[30m\\033[1mRespuesta:\\033[0m\")\n",
        "text = \"I'm goinng therre\"\n",
        "print(\"Input: {}\".format(text))\n",
        "print(\"Output: {}\".format(pyspellchecker(text)))"
      ],
      "metadata": {
        "colab": {
          "base_uri": "https://localhost:8080/"
        },
        "id": "1kgT9KHH37MJ",
        "outputId": "c8c68db8-5c1f-4268-8d0a-c57b77eadd70"
      },
      "execution_count": 124,
      "outputs": [
        {
          "output_type": "stream",
          "name": "stdout",
          "text": [
            "\u001b[43m\u001b[30m\u001b[1mRespuesta:\u001b[0m\n",
            "Input: I'm goinng therre\n",
            "Output: I'm going there\n"
          ]
        }
      ]
    },
    {
      "cell_type": "markdown",
      "source": [
        "### 7.3.11 Stemming and Lemmatization"
      ],
      "metadata": {
        "id": "a6E8c75j9y0y"
      }
    },
    {
      "cell_type": "code",
      "source": [
        "# Stemming\n",
        "stemmer = PorterStemmer()\n",
        "def text_stemmer(text):\n",
        "    text_stem = \" \".join([stemmer.stem(word) for word in regexp.tokenize(text)])\n",
        "    return text_stem\n",
        "print(\"\\033[43m\\033[30m\\033[1mRespuesta:\\033[0m\")\n",
        "text = \"Introducing lemmatization as an improvement over stemming\"\n",
        "print(\"Input: {}\".format(text))\n",
        "print(\"Output: {}\".format(text_stemmer(text)))"
      ],
      "metadata": {
        "colab": {
          "base_uri": "https://localhost:8080/"
        },
        "id": "VafZWWnH4VEQ",
        "outputId": "03ba4094-e1f9-41ab-a75a-7ffe97fbb91c"
      },
      "execution_count": 125,
      "outputs": [
        {
          "output_type": "stream",
          "name": "stdout",
          "text": [
            "\u001b[43m\u001b[30m\u001b[1mRespuesta:\u001b[0m\n",
            "Input: Introducing lemmatization as an improvement over stemming\n",
            "Output: introduc lemmat as an improv over stem\n"
          ]
        }
      ]
    },
    {
      "cell_type": "code",
      "source": [
        "# Lemmatization\n",
        "spacy_lemmatizer = spacy.load(\"en_core_web_sm\", disable = ['parser', 'ner'])\n",
        "#lemmatizer = WordNetLemmatizer()\n",
        "\n",
        "def text_lemmatizer(text):\n",
        "    text_spacy = \" \".join([token.lemma_ for token in spacy_lemmatizer(text)])\n",
        "    #text_wordnet = \" \".join([lemmatizer.lemmatize(word) for word in word_tokenize(text)]) # regexp.tokenize(text)\n",
        "    return text_spacy\n",
        "    #return text_wordnet\n",
        "print(\"\\033[43m\\033[30m\\033[1mRespuesta:\\033[0m\")\n",
        "text = \"Introducing lemmatization as an improvement over stemming\"\n",
        "print(\"Input: {}\".format(text))\n",
        "print(\"Output: {}\".format(text_lemmatizer(text)))"
      ],
      "metadata": {
        "colab": {
          "base_uri": "https://localhost:8080/"
        },
        "id": "x5k5rfNf47eD",
        "outputId": "8ac8593c-6d0b-40c1-8942-c0db95e9dc01"
      },
      "execution_count": 126,
      "outputs": [
        {
          "output_type": "stream",
          "name": "stdout",
          "text": [
            "\u001b[43m\u001b[30m\u001b[1mRespuesta:\u001b[0m\n",
            "Input: Introducing lemmatization as an improvement over stemming\n",
            "Output: introduce lemmatization as an improvement over stem\n"
          ]
        }
      ]
    },
    {
      "cell_type": "markdown",
      "source": [
        "### 7.3.12 Eliminar simbolos no alfabéticos"
      ],
      "metadata": {
        "id": "CPV4Riwb-Fut"
      }
    },
    {
      "cell_type": "code",
      "source": [
        "# Discardment of non-alphabetic words\n",
        "def discard_non_alpha(text):\n",
        "    word_list_non_alpha = [word for word in regexp.tokenize(text) if word.isalpha()]\n",
        "    text_non_alpha = \" \".join(word_list_non_alpha)\n",
        "    return text_non_alpha\n",
        "print(\"\\033[43m\\033[30m\\033[1mRespuesta:\\033[0m\")\n",
        "text = \"It is an ocean of thousands and 1000s of crowd\"\n",
        "print(\"Input: {}\".format(text))\n",
        "print(\"Output: {}\".format(discard_non_alpha(text)))"
      ],
      "metadata": {
        "colab": {
          "base_uri": "https://localhost:8080/"
        },
        "id": "6cw_vOHM4_hs",
        "outputId": "a34ae7bf-845a-4ad7-f642-3431a37bd48b"
      },
      "execution_count": 127,
      "outputs": [
        {
          "output_type": "stream",
          "name": "stdout",
          "text": [
            "\u001b[43m\u001b[30m\u001b[1mRespuesta:\u001b[0m\n",
            "Input: It is an ocean of thousands and 1000s of crowd\n",
            "Output: It is an ocean of thousands and of crowd\n"
          ]
        }
      ]
    },
    {
      "cell_type": "markdown",
      "source": [
        "### 7.3.13 Retención de partes relevantes del discurso"
      ],
      "metadata": {
        "id": "Yz54rowi-WQP"
      }
    },
    {
      "cell_type": "code",
      "source": [
        "def keep_pos(text):\n",
        "    tokens = regexp.tokenize(text)\n",
        "    tokens_tagged = nltk.pos_tag(tokens)\n",
        "    #keep_tags = ['NN', 'NNS', 'NNP', 'NNPS', 'FW']\n",
        "    keep_tags = ['NN', 'NNS', 'NNP', 'NNPS', 'FW', 'PRP', 'PRPS', 'RB', 'RBR', 'RBS', 'VB', 'VBD', 'VBG', 'VBN', 'VBP', 'VBZ', 'WDT', 'WP', 'WPS', 'WRB']\n",
        "    keep_words = [x[0] for x in tokens_tagged if x[1] in keep_tags]\n",
        "    return \" \".join(keep_words)\n",
        "print(\"\\033[43m\\033[30m\\033[1mRespuesta:\\033[0m\")\n",
        "text = \"He arrived at seven o'clock on Wednesday evening\"\n",
        "print(\"Input: {}\".format(text))\n",
        "tokens = regexp.tokenize(text)\n",
        "print(\"Tokens: {}\".format(tokens))\n",
        "tokens_tagged = nltk.pos_tag(tokens)\n",
        "print(\"Tagged Tokens: {}\".format(tokens_tagged))\n",
        "print(\"Output: {}\".format(keep_pos(text)))"
      ],
      "metadata": {
        "colab": {
          "base_uri": "https://localhost:8080/"
        },
        "id": "KFYP1GeQ5Qdy",
        "outputId": "3d5f5334-984a-472f-af37-48bde6bc00fd"
      },
      "execution_count": 128,
      "outputs": [
        {
          "output_type": "stream",
          "name": "stdout",
          "text": [
            "\u001b[43m\u001b[30m\u001b[1mRespuesta:\u001b[0m\n",
            "Input: He arrived at seven o'clock on Wednesday evening\n",
            "Tokens: ['He', 'arrived', 'at', 'seven', \"o'clock\", 'on', 'Wednesday', 'evening']\n",
            "Tagged Tokens: [('He', 'PRP'), ('arrived', 'VBD'), ('at', 'IN'), ('seven', 'CD'), (\"o'clock\", 'NN'), ('on', 'IN'), ('Wednesday', 'NNP'), ('evening', 'NN')]\n",
            "Output: He arrived o'clock Wednesday evening\n"
          ]
        }
      ]
    },
    {
      "cell_type": "markdown",
      "source": [
        "### 7.3.14 Eliminación de palabras vacías adicionales\n"
      ],
      "metadata": {
        "id": "p7KiR7-u-dVN"
      }
    },
    {
      "cell_type": "code",
      "source": [
        "# Additional stopwords\n",
        "\n",
        "alphabets = [\"a\", \"b\", \"c\", \"d\", \"e\", \"f\", \"g\", \"h\", \"i\", \"j\", \"k\", \"l\", \"m\", \"n\", \"o\", \"p\", \"q\", \"r\", \"s\", \"t\", \"u\", \"v\", \"w\", \"x\", \"y\", \"z\"]\n",
        "prepositions = [\"about\", \"above\", \"across\", \"after\", \"against\", \"among\", \"around\", \"at\", \"before\", \"behind\", \"below\", \"beside\", \"between\", \"by\", \"down\", \"during\", \"for\", \"from\", \"in\", \"inside\", \"into\", \"near\", \"of\", \"off\", \"on\", \"out\", \"over\", \"through\", \"to\", \"toward\", \"under\", \"up\", \"with\"]\n",
        "prepositions_less_common = [\"aboard\", \"along\", \"amid\", \"as\", \"beneath\", \"beyond\", \"but\", \"concerning\", \"considering\", \"despite\", \"except\", \"following\", \"like\", \"minus\", \"onto\", \"outside\", \"per\", \"plus\", \"regarding\", \"round\", \"since\", \"than\", \"till\", \"underneath\", \"unlike\", \"until\", \"upon\", \"versus\", \"via\", \"within\", \"without\"]\n",
        "coordinating_conjunctions = [\"and\", \"but\", \"for\", \"nor\", \"or\", \"so\", \"and\", \"yet\"]\n",
        "correlative_conjunctions = [\"both\", \"and\", \"either\", \"or\", \"neither\", \"nor\", \"not\", \"only\", \"but\", \"whether\", \"or\"]\n",
        "subordinating_conjunctions = [\"after\", \"although\", \"as\", \"as if\", \"as long as\", \"as much as\", \"as soon as\", \"as though\", \"because\", \"before\", \"by the time\", \"even if\", \"even though\", \"if\", \"in order that\", \"in case\", \"in the event that\", \"lest\", \"now that\", \"once\", \"only\", \"only if\", \"provided that\", \"since\", \"so\", \"supposing\", \"that\", \"than\", \"though\", \"till\", \"unless\", \"until\", \"when\", \"whenever\", \"where\", \"whereas\", \"wherever\", \"whether or not\", \"while\"]\n",
        "others = [\"ã\", \"å\", \"ì\", \"û\", \"ûªm\", \"ûó\", \"ûò\", \"ìñ\", \"ûªre\", \"ûªve\", \"ûª\", \"ûªs\", \"ûówe\"]\n",
        "additional_stops = alphabets + prepositions + prepositions_less_common + coordinating_conjunctions + correlative_conjunctions + subordinating_conjunctions + others\n",
        "\n",
        "def remove_additional_stopwords(text):\n",
        "    return \" \".join([word for word in regexp.tokenize(text) if word not in additional_stops])"
      ],
      "metadata": {
        "id": "QH3F-v7X6LFw"
      },
      "execution_count": 129,
      "outputs": []
    },
    {
      "cell_type": "markdown",
      "source": [
        "### 7.4 Integración de subprocesos"
      ],
      "metadata": {
        "id": "qcjt_Vzi_UEN"
      }
    },
    {
      "cell_type": "code",
      "source": [
        "def text_normalizer(text):\n",
        "    text = convert_to_lowercase(text)\n",
        "    text = remove_whitespace(text)\n",
        "    text = re.sub('\\n' , '', text) # converting text to one line\n",
        "    text = re.sub('\\[.*?\\]', '', text) # removing square brackets\n",
        "    text = remove_http(text)\n",
        "    text = remove_punctuation(text)\n",
        "    text = remove_html(text)\n",
        "    text = remove_emoji(text)\n",
        "    text = convert_acronyms(text)\n",
        "    text = convert_contractions(text)\n",
        "    text = remove_stopwords(text)\n",
        "#     text = pyspellchecker(text)\n",
        "    text = text_lemmatizer(text) # text = text_stemmer(text)\n",
        "    text = discard_non_alpha(text)\n",
        "    text = keep_pos(text)\n",
        "    return text\n",
        "\n",
        "text = \"We'll combine all functions into 1 SINGLE FUNCTION 🙂 & apply on @product #descriptions https://en.wikipedia.org/wiki/Text_normalization\"\n",
        "print(\"Input: {}\".format(text))\n",
        "print(\"Output: {}\".format(text_normalizer(text)))"
      ],
      "metadata": {
        "colab": {
          "base_uri": "https://localhost:8080/"
        },
        "id": "OMPUKpZf6QeG",
        "outputId": "ab71a996-113c-4382-fd08-073cd3efd299"
      },
      "execution_count": 130,
      "outputs": [
        {
          "output_type": "stream",
          "name": "stdout",
          "text": [
            "Input: We'll combine all functions into 1 SINGLE FUNCTION 🙂 & apply on @product #descriptions https://en.wikipedia.org/wiki/Text_normalization\n",
            "Output: combine function function apply product description\n"
          ]
        }
      ]
    },
    {
      "cell_type": "markdown",
      "source": [
        "### 7.5 Implementación del modelo"
      ],
      "metadata": {
        "id": "r2KHsRWC_h43"
      }
    },
    {
      "cell_type": "code",
      "source": [
        "%%time\n",
        "# Implementing text normalization\n",
        "data_train_norm, data_val_norm, data_test_norm = pd.DataFrame(), pd.DataFrame(), pd.DataFrame()\n",
        "\n",
        "data_train_norm['normalized description'] = data_train['text'].apply(text_normalizer)\n",
        "data_val_norm['normalized description'] = data_val['text'].apply(text_normalizer)\n",
        "data_test_norm['normalized description'] = data_test['text'].apply(text_normalizer)\n",
        "\n",
        "data_train_norm['label'] = data_train['airline_sentiment']\n",
        "data_val_norm['label'] = data_val['airline_sentiment']\n",
        "data_test_norm['label'] = data_test['airline_sentiment']\n",
        "\n",
        "data_train_norm.head(5)"
      ],
      "metadata": {
        "colab": {
          "base_uri": "https://localhost:8080/",
          "height": 242
        },
        "id": "UT_PBKy79UGN",
        "outputId": "7ffc124c-3529-47fe-dd8e-46d08a69b3f5"
      },
      "execution_count": null,
      "outputs": [
        {
          "output_type": "stream",
          "name": "stdout",
          "text": [
            "CPU times: user 51.4 s, sys: 423 ms, total: 51.8 s\n",
            "Wall time: 54.7 s\n"
          ]
        },
        {
          "output_type": "execute_result",
          "data": {
            "text/plain": [
              "                                 normalized description  label\n",
              "9733                       medium team point oscarnight      2\n",
              "5824  hi fly iad tomorrow evening delay cancel fligh...      1\n",
              "2559       stuck plane hour fault please happen way lhr      0\n",
              "3308                           jetblue think thing send      1\n",
              "8859  get delay flight ewr yyz customer service find...      0"
            ],
            "text/html": [
              "\n",
              "  <div id=\"df-d76502b5-dbb7-45c8-8879-a7937ff1d9de\">\n",
              "    <div class=\"colab-df-container\">\n",
              "      <div>\n",
              "<style scoped>\n",
              "    .dataframe tbody tr th:only-of-type {\n",
              "        vertical-align: middle;\n",
              "    }\n",
              "\n",
              "    .dataframe tbody tr th {\n",
              "        vertical-align: top;\n",
              "    }\n",
              "\n",
              "    .dataframe thead th {\n",
              "        text-align: right;\n",
              "    }\n",
              "</style>\n",
              "<table border=\"1\" class=\"dataframe\">\n",
              "  <thead>\n",
              "    <tr style=\"text-align: right;\">\n",
              "      <th></th>\n",
              "      <th>normalized description</th>\n",
              "      <th>label</th>\n",
              "    </tr>\n",
              "  </thead>\n",
              "  <tbody>\n",
              "    <tr>\n",
              "      <th>9733</th>\n",
              "      <td>medium team point oscarnight</td>\n",
              "      <td>2</td>\n",
              "    </tr>\n",
              "    <tr>\n",
              "      <th>5824</th>\n",
              "      <td>hi fly iad tomorrow evening delay cancel fligh...</td>\n",
              "      <td>1</td>\n",
              "    </tr>\n",
              "    <tr>\n",
              "      <th>2559</th>\n",
              "      <td>stuck plane hour fault please happen way lhr</td>\n",
              "      <td>0</td>\n",
              "    </tr>\n",
              "    <tr>\n",
              "      <th>3308</th>\n",
              "      <td>jetblue think thing send</td>\n",
              "      <td>1</td>\n",
              "    </tr>\n",
              "    <tr>\n",
              "      <th>8859</th>\n",
              "      <td>get delay flight ewr yyz customer service find...</td>\n",
              "      <td>0</td>\n",
              "    </tr>\n",
              "  </tbody>\n",
              "</table>\n",
              "</div>\n",
              "      <button class=\"colab-df-convert\" onclick=\"convertToInteractive('df-d76502b5-dbb7-45c8-8879-a7937ff1d9de')\"\n",
              "              title=\"Convert this dataframe to an interactive table.\"\n",
              "              style=\"display:none;\">\n",
              "        \n",
              "  <svg xmlns=\"http://www.w3.org/2000/svg\" height=\"24px\"viewBox=\"0 0 24 24\"\n",
              "       width=\"24px\">\n",
              "    <path d=\"M0 0h24v24H0V0z\" fill=\"none\"/>\n",
              "    <path d=\"M18.56 5.44l.94 2.06.94-2.06 2.06-.94-2.06-.94-.94-2.06-.94 2.06-2.06.94zm-11 1L8.5 8.5l.94-2.06 2.06-.94-2.06-.94L8.5 2.5l-.94 2.06-2.06.94zm10 10l.94 2.06.94-2.06 2.06-.94-2.06-.94-.94-2.06-.94 2.06-2.06.94z\"/><path d=\"M17.41 7.96l-1.37-1.37c-.4-.4-.92-.59-1.43-.59-.52 0-1.04.2-1.43.59L10.3 9.45l-7.72 7.72c-.78.78-.78 2.05 0 2.83L4 21.41c.39.39.9.59 1.41.59.51 0 1.02-.2 1.41-.59l7.78-7.78 2.81-2.81c.8-.78.8-2.07 0-2.86zM5.41 20L4 18.59l7.72-7.72 1.47 1.35L5.41 20z\"/>\n",
              "  </svg>\n",
              "      </button>\n",
              "      \n",
              "  <style>\n",
              "    .colab-df-container {\n",
              "      display:flex;\n",
              "      flex-wrap:wrap;\n",
              "      gap: 12px;\n",
              "    }\n",
              "\n",
              "    .colab-df-convert {\n",
              "      background-color: #E8F0FE;\n",
              "      border: none;\n",
              "      border-radius: 50%;\n",
              "      cursor: pointer;\n",
              "      display: none;\n",
              "      fill: #1967D2;\n",
              "      height: 32px;\n",
              "      padding: 0 0 0 0;\n",
              "      width: 32px;\n",
              "    }\n",
              "\n",
              "    .colab-df-convert:hover {\n",
              "      background-color: #E2EBFA;\n",
              "      box-shadow: 0px 1px 2px rgba(60, 64, 67, 0.3), 0px 1px 3px 1px rgba(60, 64, 67, 0.15);\n",
              "      fill: #174EA6;\n",
              "    }\n",
              "\n",
              "    [theme=dark] .colab-df-convert {\n",
              "      background-color: #3B4455;\n",
              "      fill: #D2E3FC;\n",
              "    }\n",
              "\n",
              "    [theme=dark] .colab-df-convert:hover {\n",
              "      background-color: #434B5C;\n",
              "      box-shadow: 0px 1px 3px 1px rgba(0, 0, 0, 0.15);\n",
              "      filter: drop-shadow(0px 1px 2px rgba(0, 0, 0, 0.3));\n",
              "      fill: #FFFFFF;\n",
              "    }\n",
              "  </style>\n",
              "\n",
              "      <script>\n",
              "        const buttonEl =\n",
              "          document.querySelector('#df-d76502b5-dbb7-45c8-8879-a7937ff1d9de button.colab-df-convert');\n",
              "        buttonEl.style.display =\n",
              "          google.colab.kernel.accessAllowed ? 'block' : 'none';\n",
              "\n",
              "        async function convertToInteractive(key) {\n",
              "          const element = document.querySelector('#df-d76502b5-dbb7-45c8-8879-a7937ff1d9de');\n",
              "          const dataTable =\n",
              "            await google.colab.kernel.invokeFunction('convertToInteractive',\n",
              "                                                     [key], {});\n",
              "          if (!dataTable) return;\n",
              "\n",
              "          const docLinkHtml = 'Like what you see? Visit the ' +\n",
              "            '<a target=\"_blank\" href=https://colab.research.google.com/notebooks/data_table.ipynb>data table notebook</a>'\n",
              "            + ' to learn more about interactive tables.';\n",
              "          element.innerHTML = '';\n",
              "          dataTable['output_type'] = 'display_data';\n",
              "          await google.colab.output.renderOutput(dataTable, element);\n",
              "          const docLink = document.createElement('div');\n",
              "          docLink.innerHTML = docLinkHtml;\n",
              "          element.appendChild(docLink);\n",
              "        }\n",
              "      </script>\n",
              "    </div>\n",
              "  </div>\n",
              "  "
            ]
          },
          "metadata": {},
          "execution_count": 75
        }
      ]
    },
    {
      "cell_type": "markdown",
      "source": [
        "---\n",
        "# **8. Implementación del modelo TF-IDF**\n",
        "\n",
        "---"
      ],
      "metadata": {
        "id": "gBdTiO1aAocM"
      }
    },
    {
      "cell_type": "markdown",
      "source": [
        "### 8.1 Text Vectorization"
      ],
      "metadata": {
        "id": "DjDXMEnCBXdA"
      }
    },
    {
      "cell_type": "code",
      "source": [
        "# Features and labels\n",
        "X_train_norm, y_train = data_train_norm['normalized description'].tolist(), data_train_norm['label'].tolist()\n",
        "X_val_norm, y_val = data_val_norm['normalized description'].tolist(), data_val_norm['label'].tolist()\n",
        "X_test_norm, y_test = data_test_norm['normalized description'].tolist(), data_test_norm['label'].tolist()"
      ],
      "metadata": {
        "id": "zzoe1FocHNS8"
      },
      "execution_count": 132,
      "outputs": []
    },
    {
      "cell_type": "code",
      "source": [
        "# TF-IDF vectorization\n",
        "TfidfVec = TfidfVectorizer(ngram_range = (1, 1))\n",
        "X_train_tfidf = TfidfVec.fit_transform(X_train_norm)\n",
        "X_val_tfidf = TfidfVec.transform(X_val_norm)\n",
        "X_test_tfidf = TfidfVec.transform(X_test_norm)"
      ],
      "metadata": {
        "id": "6Iq7cPplHmqP"
      },
      "execution_count": null,
      "outputs": []
    },
    {
      "cell_type": "markdown",
      "source": [
        "### 8.2 Modelización de referencia TF-IDF\n"
      ],
      "metadata": {
        "id": "Hn7xOaG6BnBe"
      }
    },
    {
      "cell_type": "code",
      "source": [
        "# Classifiers\n",
        "names = [\n",
        "    \"Logistic Regression\",\n",
        "    \"KNN Classifier\",\n",
        "    \"Decision Tree\",\n",
        "    \"Linear SVM\",\n",
        "    \"Random Forest\",\n",
        "    \"SGD Classifier\",\n",
        "    \"Ridge Classifier\",\n",
        "    \"XGBoost\",\n",
        "    \"AdaBoost\",\n",
        "]\n",
        "\n",
        "models = [\n",
        "    LogisticRegression(max_iter = 1000),\n",
        "    KNeighborsClassifier(n_neighbors = 149, n_jobs = -1),\n",
        "    DecisionTreeClassifier(),\n",
        "    svm.SVC(kernel = 'linear'),\n",
        "    RandomForestClassifier(n_estimators = 100),\n",
        "    SGDClassifier(loss = 'hinge'),\n",
        "    RidgeClassifier(),\n",
        "    XGBClassifier(),\n",
        "    AdaBoostClassifier()\n",
        "]"
      ],
      "metadata": {
        "id": "I1NnR2_nH9XN"
      },
      "execution_count": null,
      "outputs": []
    },
    {
      "cell_type": "code",
      "source": [
        "# Function to return summary of baseline models\n",
        "def score(X_train, y_train, X_val, y_val, names = names, models = models):\n",
        "    score_df, score_train, score_val = pd.DataFrame(), [], []\n",
        "    x = time.time()\n",
        "    for model in models:\n",
        "        model.fit(X_train, y_train)\n",
        "        y_train_pred, y_val_pred = model.predict(X_train), model.predict(X_val)\n",
        "        score_train.append(accuracy_score(y_train, y_train_pred))\n",
        "        score_val.append(accuracy_score(y_val, y_val_pred))\n",
        "    \n",
        "    score_df[\"Classifier\"], score_df[\"Training accuracy\"], score_df[\"Validation accuracy\"] = names, score_train, score_val\n",
        "    score_df.sort_values(by = 'Validation accuracy', ascending = False, inplace = True)\n",
        "    return score_df"
      ],
      "metadata": {
        "id": "FYOoYcsqJagT"
      },
      "execution_count": null,
      "outputs": []
    },
    {
      "cell_type": "code",
      "source": [
        "# Summary of baseline models\n",
        "score(X_train_tfidf, y_train, X_val_tfidf, y_val, names = names, models = models)\n"
      ],
      "metadata": {
        "colab": {
          "base_uri": "https://localhost:8080/",
          "height": 331
        },
        "id": "Y84s3mxOJb8c",
        "outputId": "23810db4-43a8-4455-cc19-d43f85d9962d"
      },
      "execution_count": null,
      "outputs": [
        {
          "output_type": "execute_result",
          "data": {
            "text/plain": [
              "            Classifier  Training accuracy  Validation accuracy\n",
              "5       SGD Classifier           0.859407             0.753274\n",
              "3           Linear SVM           0.862164             0.749828\n",
              "0  Logistic Regression           0.842436             0.748449\n",
              "6     Ridge Classifier           0.886544             0.740179\n",
              "7              XGBoost           0.827791             0.728463\n",
              "4        Random Forest           0.991644             0.725017\n",
              "8             AdaBoost           0.715627             0.677464\n",
              "1       KNN Classifier           0.704256             0.674707\n",
              "2        Decision Tree           0.991644             0.643005"
            ],
            "text/html": [
              "\n",
              "  <div id=\"df-d2f7440b-0dc8-467c-b149-47adbe01c073\">\n",
              "    <div class=\"colab-df-container\">\n",
              "      <div>\n",
              "<style scoped>\n",
              "    .dataframe tbody tr th:only-of-type {\n",
              "        vertical-align: middle;\n",
              "    }\n",
              "\n",
              "    .dataframe tbody tr th {\n",
              "        vertical-align: top;\n",
              "    }\n",
              "\n",
              "    .dataframe thead th {\n",
              "        text-align: right;\n",
              "    }\n",
              "</style>\n",
              "<table border=\"1\" class=\"dataframe\">\n",
              "  <thead>\n",
              "    <tr style=\"text-align: right;\">\n",
              "      <th></th>\n",
              "      <th>Classifier</th>\n",
              "      <th>Training accuracy</th>\n",
              "      <th>Validation accuracy</th>\n",
              "    </tr>\n",
              "  </thead>\n",
              "  <tbody>\n",
              "    <tr>\n",
              "      <th>5</th>\n",
              "      <td>SGD Classifier</td>\n",
              "      <td>0.859407</td>\n",
              "      <td>0.753274</td>\n",
              "    </tr>\n",
              "    <tr>\n",
              "      <th>3</th>\n",
              "      <td>Linear SVM</td>\n",
              "      <td>0.862164</td>\n",
              "      <td>0.749828</td>\n",
              "    </tr>\n",
              "    <tr>\n",
              "      <th>0</th>\n",
              "      <td>Logistic Regression</td>\n",
              "      <td>0.842436</td>\n",
              "      <td>0.748449</td>\n",
              "    </tr>\n",
              "    <tr>\n",
              "      <th>6</th>\n",
              "      <td>Ridge Classifier</td>\n",
              "      <td>0.886544</td>\n",
              "      <td>0.740179</td>\n",
              "    </tr>\n",
              "    <tr>\n",
              "      <th>7</th>\n",
              "      <td>XGBoost</td>\n",
              "      <td>0.827791</td>\n",
              "      <td>0.728463</td>\n",
              "    </tr>\n",
              "    <tr>\n",
              "      <th>4</th>\n",
              "      <td>Random Forest</td>\n",
              "      <td>0.991644</td>\n",
              "      <td>0.725017</td>\n",
              "    </tr>\n",
              "    <tr>\n",
              "      <th>8</th>\n",
              "      <td>AdaBoost</td>\n",
              "      <td>0.715627</td>\n",
              "      <td>0.677464</td>\n",
              "    </tr>\n",
              "    <tr>\n",
              "      <th>1</th>\n",
              "      <td>KNN Classifier</td>\n",
              "      <td>0.704256</td>\n",
              "      <td>0.674707</td>\n",
              "    </tr>\n",
              "    <tr>\n",
              "      <th>2</th>\n",
              "      <td>Decision Tree</td>\n",
              "      <td>0.991644</td>\n",
              "      <td>0.643005</td>\n",
              "    </tr>\n",
              "  </tbody>\n",
              "</table>\n",
              "</div>\n",
              "      <button class=\"colab-df-convert\" onclick=\"convertToInteractive('df-d2f7440b-0dc8-467c-b149-47adbe01c073')\"\n",
              "              title=\"Convert this dataframe to an interactive table.\"\n",
              "              style=\"display:none;\">\n",
              "        \n",
              "  <svg xmlns=\"http://www.w3.org/2000/svg\" height=\"24px\"viewBox=\"0 0 24 24\"\n",
              "       width=\"24px\">\n",
              "    <path d=\"M0 0h24v24H0V0z\" fill=\"none\"/>\n",
              "    <path d=\"M18.56 5.44l.94 2.06.94-2.06 2.06-.94-2.06-.94-.94-2.06-.94 2.06-2.06.94zm-11 1L8.5 8.5l.94-2.06 2.06-.94-2.06-.94L8.5 2.5l-.94 2.06-2.06.94zm10 10l.94 2.06.94-2.06 2.06-.94-2.06-.94-.94-2.06-.94 2.06-2.06.94z\"/><path d=\"M17.41 7.96l-1.37-1.37c-.4-.4-.92-.59-1.43-.59-.52 0-1.04.2-1.43.59L10.3 9.45l-7.72 7.72c-.78.78-.78 2.05 0 2.83L4 21.41c.39.39.9.59 1.41.59.51 0 1.02-.2 1.41-.59l7.78-7.78 2.81-2.81c.8-.78.8-2.07 0-2.86zM5.41 20L4 18.59l7.72-7.72 1.47 1.35L5.41 20z\"/>\n",
              "  </svg>\n",
              "      </button>\n",
              "      \n",
              "  <style>\n",
              "    .colab-df-container {\n",
              "      display:flex;\n",
              "      flex-wrap:wrap;\n",
              "      gap: 12px;\n",
              "    }\n",
              "\n",
              "    .colab-df-convert {\n",
              "      background-color: #E8F0FE;\n",
              "      border: none;\n",
              "      border-radius: 50%;\n",
              "      cursor: pointer;\n",
              "      display: none;\n",
              "      fill: #1967D2;\n",
              "      height: 32px;\n",
              "      padding: 0 0 0 0;\n",
              "      width: 32px;\n",
              "    }\n",
              "\n",
              "    .colab-df-convert:hover {\n",
              "      background-color: #E2EBFA;\n",
              "      box-shadow: 0px 1px 2px rgba(60, 64, 67, 0.3), 0px 1px 3px 1px rgba(60, 64, 67, 0.15);\n",
              "      fill: #174EA6;\n",
              "    }\n",
              "\n",
              "    [theme=dark] .colab-df-convert {\n",
              "      background-color: #3B4455;\n",
              "      fill: #D2E3FC;\n",
              "    }\n",
              "\n",
              "    [theme=dark] .colab-df-convert:hover {\n",
              "      background-color: #434B5C;\n",
              "      box-shadow: 0px 1px 3px 1px rgba(0, 0, 0, 0.15);\n",
              "      filter: drop-shadow(0px 1px 2px rgba(0, 0, 0, 0.3));\n",
              "      fill: #FFFFFF;\n",
              "    }\n",
              "  </style>\n",
              "\n",
              "      <script>\n",
              "        const buttonEl =\n",
              "          document.querySelector('#df-d2f7440b-0dc8-467c-b149-47adbe01c073 button.colab-df-convert');\n",
              "        buttonEl.style.display =\n",
              "          google.colab.kernel.accessAllowed ? 'block' : 'none';\n",
              "\n",
              "        async function convertToInteractive(key) {\n",
              "          const element = document.querySelector('#df-d2f7440b-0dc8-467c-b149-47adbe01c073');\n",
              "          const dataTable =\n",
              "            await google.colab.kernel.invokeFunction('convertToInteractive',\n",
              "                                                     [key], {});\n",
              "          if (!dataTable) return;\n",
              "\n",
              "          const docLinkHtml = 'Like what you see? Visit the ' +\n",
              "            '<a target=\"_blank\" href=https://colab.research.google.com/notebooks/data_table.ipynb>data table notebook</a>'\n",
              "            + ' to learn more about interactive tables.';\n",
              "          element.innerHTML = '';\n",
              "          dataTable['output_type'] = 'display_data';\n",
              "          await google.colab.output.renderOutput(dataTable, element);\n",
              "          const docLink = document.createElement('div');\n",
              "          docLink.innerHTML = docLinkHtml;\n",
              "          element.appendChild(docLink);\n",
              "        }\n",
              "      </script>\n",
              "    </div>\n",
              "  </div>\n",
              "  "
            ]
          },
          "metadata": {},
          "execution_count": 80
        }
      ]
    },
    {
      "cell_type": "markdown",
      "source": [
        "### 8.3 Ajuste de hiperparámetros TF-IDF\n"
      ],
      "metadata": {
        "id": "jHp83phbB2CS"
      }
    },
    {
      "cell_type": "code",
      "source": [
        "# Hyperparameter tuning for linear SVM\n",
        "svm_classifier = svm.SVC()\n",
        "params_svm = {\n",
        "    'kernel': ['linear'],\n",
        "    'C': [0.1, 1, 10, 100]\n",
        "}\n",
        "\n",
        "best_model_svm, best_params_svm, best_score_svm, count = svm_classifier, ParameterGrid(params_svm)[0], 0, 0\n",
        "for g in ParameterGrid(params_svm):\n",
        "    time_start = time.time()\n",
        "    count += 1\n",
        "    print(f\"Gridpoint #{count}: {g}\")\n",
        "    svm_classifier.set_params(**g)\n",
        "    svm_classifier.fit(X_train_tfidf, y_train)\n",
        "    y_train_pred, y_val_pred = svm_classifier.predict(X_train_tfidf), svm_classifier.predict(X_val_tfidf)\n",
        "    score_train, score_val = accuracy_score(y_train, y_train_pred), accuracy_score(y_val, y_val_pred)\n",
        "    time_stop = time.time()\n",
        "    m, s = int(time_stop - time_start) // 60, int(time_stop - time_start) % 60\n",
        "    print(f\"Training accuracy: {score_train}, Validation accuracy: {score_val}, Runtime: {m}m{s}s\")\n",
        "    print(\" \")\n",
        "    if score_val > best_score_svm:\n",
        "        best_params_svm, best_score_svm = g, score_val\n",
        "\n",
        "best_model_tfidf, best_params_tfidf, best_score_tfidf = svm.SVC(), best_params_svm, best_score_svm\n",
        "best_model_tfidf.set_params(**best_params_tfidf)\n",
        "print(f\"Best model: {best_model_tfidf}\")\n",
        "print(\" \")\n",
        "print(f\"Best parameters: {best_params_tfidf}\")\n",
        "print(f\"Best validation accuracy: {best_score_tfidf}\")"
      ],
      "metadata": {
        "colab": {
          "base_uri": "https://localhost:8080/"
        },
        "id": "iKhJhLtcSt19",
        "outputId": "11bb2963-4ca1-49a7-b10f-111f37eb9714"
      },
      "execution_count": null,
      "outputs": [
        {
          "output_type": "stream",
          "name": "stdout",
          "text": [
            "Gridpoint #1: {'C': 0.1, 'kernel': 'linear'}\n",
            "Training accuracy: 0.6965024121295658, Validation accuracy: 0.6747070985527223, Runtime: 0m10s\n",
            " \n",
            "Gridpoint #2: {'C': 1, 'kernel': 'linear'}\n",
            "Training accuracy: 0.8621640248104755, Validation accuracy: 0.7498277050310131, Runtime: 0m11s\n",
            " \n",
            "Gridpoint #3: {'C': 10, 'kernel': 'linear'}\n",
            "Training accuracy: 0.9340110268780152, Validation accuracy: 0.7112336319779462, Runtime: 0m12s\n",
            " \n",
            "Gridpoint #4: {'C': 100, 'kernel': 'linear'}\n",
            "Training accuracy: 0.9524465885596141, Validation accuracy: 0.6781529979324604, Runtime: 0m30s\n",
            " \n",
            "Best model: SVC(C=1, kernel='linear')\n",
            " \n",
            "Best parameters: {'C': 1, 'kernel': 'linear'}\n",
            "Best validation accuracy: 0.7498277050310131\n"
          ]
        }
      ]
    },
    {
      "cell_type": "markdown",
      "source": [
        "---\n",
        "# **9. Red Neuronal: Word2Vec Model**\n",
        "\n",
        "---"
      ],
      "metadata": {
        "id": "BgIWQD7CDeKQ"
      }
    },
    {
      "cell_type": "markdown",
      "source": [
        "### 9.1 Normalización de texto"
      ],
      "metadata": {
        "id": "VAbF21ExDuYP"
      }
    },
    {
      "cell_type": "code",
      "source": [
        "# Relevant text normalization processes\n",
        "def convert_to_lowercase(text): return text.lower()\n",
        "\n",
        "contractions_url = 'https://raw.githubusercontent.com/sugatagh/E-commerce-Text-Classification/main/JSON/english_contractions.json'\n",
        "contractions_dict = pd.read_json(contractions_url, typ = 'series')\n",
        "contractions_list = list(contractions_dict.keys())\n",
        "\n",
        "def convert_contractions(text):\n",
        "    words = []\n",
        "    for word in regexp.tokenize(text):\n",
        "        if word in contractions_list:\n",
        "            words = words + contractions_dict[word].split()\n",
        "        else:\n",
        "            words = words + word.split()\n",
        "    return \" \".join(words)"
      ],
      "metadata": {
        "id": "cGR5_5vgU7f4"
      },
      "execution_count": null,
      "outputs": []
    },
    {
      "cell_type": "code",
      "source": [
        "# Text normalization for Word2Vec\n",
        "for df_V5 in [data_train, data_val, data_test]:\n",
        "    df_V5['tokens'] = (df_V5[\"text\"].apply(convert_to_lowercase)\n",
        "                                     .apply(convert_contractions)\n",
        "                                     .apply(regexp.tokenize))\n",
        "data_train[['tokens', 'airline_sentiment']].head(5)"
      ],
      "metadata": {
        "colab": {
          "base_uri": "https://localhost:8080/",
          "height": 207
        },
        "id": "6GbPJgFOU_HY",
        "outputId": "591148e6-fd3e-4c41-eccf-664b8503b97b"
      },
      "execution_count": 135,
      "outputs": [
        {
          "output_type": "execute_result",
          "data": {
            "text/plain": [
              "                                                 tokens  airline_sentiment\n",
              "9733  [united, social, media, team, is, on, point, o...                  2\n",
              "5824  [united, hi, we, are, flying, into, iad, tomor...                  1\n",
              "2559  [united, stuck, on, plane, for, over, an, hour...                  0\n",
              "3308  [jetblue, i, thought, the, same, thing, after,...                  1\n",
              "8859  [united, can, you, get, me, on, the, delayed, ...                  0"
            ],
            "text/html": [
              "\n",
              "  <div id=\"df-90550f32-ef9e-409d-b38f-7b2365f8f3c4\">\n",
              "    <div class=\"colab-df-container\">\n",
              "      <div>\n",
              "<style scoped>\n",
              "    .dataframe tbody tr th:only-of-type {\n",
              "        vertical-align: middle;\n",
              "    }\n",
              "\n",
              "    .dataframe tbody tr th {\n",
              "        vertical-align: top;\n",
              "    }\n",
              "\n",
              "    .dataframe thead th {\n",
              "        text-align: right;\n",
              "    }\n",
              "</style>\n",
              "<table border=\"1\" class=\"dataframe\">\n",
              "  <thead>\n",
              "    <tr style=\"text-align: right;\">\n",
              "      <th></th>\n",
              "      <th>tokens</th>\n",
              "      <th>airline_sentiment</th>\n",
              "    </tr>\n",
              "  </thead>\n",
              "  <tbody>\n",
              "    <tr>\n",
              "      <th>9733</th>\n",
              "      <td>[united, social, media, team, is, on, point, o...</td>\n",
              "      <td>2</td>\n",
              "    </tr>\n",
              "    <tr>\n",
              "      <th>5824</th>\n",
              "      <td>[united, hi, we, are, flying, into, iad, tomor...</td>\n",
              "      <td>1</td>\n",
              "    </tr>\n",
              "    <tr>\n",
              "      <th>2559</th>\n",
              "      <td>[united, stuck, on, plane, for, over, an, hour...</td>\n",
              "      <td>0</td>\n",
              "    </tr>\n",
              "    <tr>\n",
              "      <th>3308</th>\n",
              "      <td>[jetblue, i, thought, the, same, thing, after,...</td>\n",
              "      <td>1</td>\n",
              "    </tr>\n",
              "    <tr>\n",
              "      <th>8859</th>\n",
              "      <td>[united, can, you, get, me, on, the, delayed, ...</td>\n",
              "      <td>0</td>\n",
              "    </tr>\n",
              "  </tbody>\n",
              "</table>\n",
              "</div>\n",
              "      <button class=\"colab-df-convert\" onclick=\"convertToInteractive('df-90550f32-ef9e-409d-b38f-7b2365f8f3c4')\"\n",
              "              title=\"Convert this dataframe to an interactive table.\"\n",
              "              style=\"display:none;\">\n",
              "        \n",
              "  <svg xmlns=\"http://www.w3.org/2000/svg\" height=\"24px\"viewBox=\"0 0 24 24\"\n",
              "       width=\"24px\">\n",
              "    <path d=\"M0 0h24v24H0V0z\" fill=\"none\"/>\n",
              "    <path d=\"M18.56 5.44l.94 2.06.94-2.06 2.06-.94-2.06-.94-.94-2.06-.94 2.06-2.06.94zm-11 1L8.5 8.5l.94-2.06 2.06-.94-2.06-.94L8.5 2.5l-.94 2.06-2.06.94zm10 10l.94 2.06.94-2.06 2.06-.94-2.06-.94-.94-2.06-.94 2.06-2.06.94z\"/><path d=\"M17.41 7.96l-1.37-1.37c-.4-.4-.92-.59-1.43-.59-.52 0-1.04.2-1.43.59L10.3 9.45l-7.72 7.72c-.78.78-.78 2.05 0 2.83L4 21.41c.39.39.9.59 1.41.59.51 0 1.02-.2 1.41-.59l7.78-7.78 2.81-2.81c.8-.78.8-2.07 0-2.86zM5.41 20L4 18.59l7.72-7.72 1.47 1.35L5.41 20z\"/>\n",
              "  </svg>\n",
              "      </button>\n",
              "      \n",
              "  <style>\n",
              "    .colab-df-container {\n",
              "      display:flex;\n",
              "      flex-wrap:wrap;\n",
              "      gap: 12px;\n",
              "    }\n",
              "\n",
              "    .colab-df-convert {\n",
              "      background-color: #E8F0FE;\n",
              "      border: none;\n",
              "      border-radius: 50%;\n",
              "      cursor: pointer;\n",
              "      display: none;\n",
              "      fill: #1967D2;\n",
              "      height: 32px;\n",
              "      padding: 0 0 0 0;\n",
              "      width: 32px;\n",
              "    }\n",
              "\n",
              "    .colab-df-convert:hover {\n",
              "      background-color: #E2EBFA;\n",
              "      box-shadow: 0px 1px 2px rgba(60, 64, 67, 0.3), 0px 1px 3px 1px rgba(60, 64, 67, 0.15);\n",
              "      fill: #174EA6;\n",
              "    }\n",
              "\n",
              "    [theme=dark] .colab-df-convert {\n",
              "      background-color: #3B4455;\n",
              "      fill: #D2E3FC;\n",
              "    }\n",
              "\n",
              "    [theme=dark] .colab-df-convert:hover {\n",
              "      background-color: #434B5C;\n",
              "      box-shadow: 0px 1px 3px 1px rgba(0, 0, 0, 0.15);\n",
              "      filter: drop-shadow(0px 1px 2px rgba(0, 0, 0, 0.3));\n",
              "      fill: #FFFFFF;\n",
              "    }\n",
              "  </style>\n",
              "\n",
              "      <script>\n",
              "        const buttonEl =\n",
              "          document.querySelector('#df-90550f32-ef9e-409d-b38f-7b2365f8f3c4 button.colab-df-convert');\n",
              "        buttonEl.style.display =\n",
              "          google.colab.kernel.accessAllowed ? 'block' : 'none';\n",
              "\n",
              "        async function convertToInteractive(key) {\n",
              "          const element = document.querySelector('#df-90550f32-ef9e-409d-b38f-7b2365f8f3c4');\n",
              "          const dataTable =\n",
              "            await google.colab.kernel.invokeFunction('convertToInteractive',\n",
              "                                                     [key], {});\n",
              "          if (!dataTable) return;\n",
              "\n",
              "          const docLinkHtml = 'Like what you see? Visit the ' +\n",
              "            '<a target=\"_blank\" href=https://colab.research.google.com/notebooks/data_table.ipynb>data table notebook</a>'\n",
              "            + ' to learn more about interactive tables.';\n",
              "          element.innerHTML = '';\n",
              "          dataTable['output_type'] = 'display_data';\n",
              "          await google.colab.output.renderOutput(dataTable, element);\n",
              "          const docLink = document.createElement('div');\n",
              "          docLink.innerHTML = docLinkHtml;\n",
              "          element.appendChild(docLink);\n",
              "        }\n",
              "      </script>\n",
              "    </div>\n",
              "  </div>\n",
              "  "
            ]
          },
          "metadata": {},
          "execution_count": 135
        }
      ]
    },
    {
      "cell_type": "markdown",
      "source": [
        "### 9.2 Word Embedding"
      ],
      "metadata": {
        "id": "oICBKHhQD4oB"
      }
    },
    {
      "cell_type": "code",
      "source": [
        "# Autenticar y crear el cliente PyDrive.\n",
        "auth.authenticate_user()\n",
        "gauth = GoogleAuth()\n",
        "gauth.credentials = GoogleCredentials.get_application_default()\n",
        "drive = GoogleDrive(gauth)\n",
        "\n",
        "# ID del archivo de Google Drive.\n",
        "file_id = \"1N7YKiO-iDfAvGrsTogag4Wsee8cGtzY6\"\n",
        "file = drive.CreateFile({'id': file_id})\n",
        "file.GetContentFile('GoogleNews-vectors-negative300.bin.gz')\n",
        "\n",
        "# Cargar el archivo binario como un modelo de Word2Vec.\n",
        "from gensim.models import KeyedVectors\n",
        "word2vec = KeyedVectors.load_word2vec_format('GoogleNews-vectors-negative300.bin.gz', binary=True)\n",
        "print(\"\\033[43m\\033[30m\\033[1mEJECUTADO\\033[0m\")\n"
      ],
      "metadata": {
        "colab": {
          "base_uri": "https://localhost:8080/"
        },
        "id": "gRjmCrjUm12x",
        "outputId": "a1a42f71-a07c-4a7e-f0c8-bf64324cd185"
      },
      "execution_count": null,
      "outputs": [
        {
          "output_type": "stream",
          "name": "stdout",
          "text": [
            "\u001b[43m\u001b[30m\u001b[1mEJECUTADO\u001b[0m\n"
          ]
        }
      ]
    },
    {
      "cell_type": "code",
      "source": [
        "# Some useful functions for Word2Vec\n",
        "def get_average_word2vec(tokens_list, vector, generate_missing = False, k = 300):\n",
        "    if len(tokens_list) < 1:\n",
        "        return np.zeros(k)\n",
        "    if generate_missing:\n",
        "        vectorized = [vector[word] if word in vector else np.random.rand(k) for word in tokens_list]\n",
        "    else:\n",
        "        vectorized = [vector[word] if word in vector else np.zeros(k) for word in tokens_list]\n",
        "    length = len(vectorized)\n",
        "    summed = np.sum(vectorized, axis = 0)\n",
        "    averaged = np.divide(summed, length)\n",
        "    return averaged\n",
        "\n",
        "def get_word2vec_embeddings(vectors, tokens, generate_missing = False):\n",
        "    embeddings = tokens.apply(lambda x: get_average_word2vec(x, vectors, generate_missing = generate_missing))\n",
        "    return list(embeddings)\n",
        "\n",
        "def plot_embedding(X, y):\n",
        "    truncated_SVD = TruncatedSVD(n_components = 2)\n",
        "    truncated_SVD.fit(X)\n",
        "    scores = truncated_SVD.transform(X)\n",
        "    color_mapper = {label:idx for idx, label in enumerate(set(y))}\n",
        "    color_column = [color_mapper[label] for label in y]\n",
        "    colors = ['red', 'blue', 'green']\n",
        "        \n",
        "    plt.scatter(scores[:, 0], scores[:, 1], s = 8, alpha = 0.8, c = y, cmap = matplotlib.colors.ListedColormap(colors))\n",
        "    red_patch = mpatches.Patch(color = 'red', label = 'Positivo')\n",
        "    blue_patch = mpatches.Patch(color = 'blue', label = 'Neutro')\n",
        "    green_patch = mpatches.Patch(color = 'green', label = 'Negativo')\n",
        "    plt.legend(handles = [red_patch, blue_patch, green_patch], prop = {\"size\": 12})\n"
      ],
      "metadata": {
        "id": "YiJV_NeHfrxP"
      },
      "execution_count": 136,
      "outputs": []
    },
    {
      "cell_type": "code",
      "source": [
        "# Word2Vec embedding\n",
        "X_train_embed = get_word2vec_embeddings(word2vec, data_train['tokens'])\n",
        "X_val_embed = get_word2vec_embeddings(word2vec, data_val['tokens'])\n",
        "X_test_embed = get_word2vec_embeddings(word2vec, data_test['tokens'])\n",
        "\n",
        "fig = plt.figure(figsize = (8, 7))          \n",
        "plot_embedding(X_train_embed, y_train)\n",
        "plt.show()"
      ],
      "metadata": {
        "colab": {
          "base_uri": "https://localhost:8080/",
          "height": 609
        },
        "id": "YsOICUp83_I9",
        "outputId": "72bb1811-515b-4292-8fb1-950bb36315d1"
      },
      "execution_count": 137,
      "outputs": [
        {
          "output_type": "display_data",
          "data": {
            "text/plain": [
              "<Figure size 800x700 with 1 Axes>"
            ],
            "image/png": "[encoded data removed]"
          },
          "metadata": {}
        }
      ]
    },
    {
      "cell_type": "markdown",
      "source": [
        "### 9.3 Modelado de referencia Word2Vec"
      ],
      "metadata": {
        "id": "1uSZmvcEEGR0"
      }
    },
    {
      "cell_type": "code",
      "source": [
        "# Converting to Compressed Sparse Row matrix\n",
        "X_train_w2v = scipy.sparse.csr_matrix(X_train_embed)\n",
        "X_val_w2v = scipy.sparse.csr_matrix(X_val_embed)\n",
        "X_test_w2v = scipy.sparse.csr_matrix(X_test_embed)"
      ],
      "metadata": {
        "id": "_8gG3CElgDcD"
      },
      "execution_count": 138,
      "outputs": []
    },
    {
      "cell_type": "code",
      "source": [
        "# Summary of baseline models\n",
        "score(X_train_w2v, y_train, X_val_w2v, y_val, names = names, models = models)"
      ],
      "metadata": {
        "colab": {
          "base_uri": "https://localhost:8080/",
          "height": 331
        },
        "id": "3j1Yq6u_2P-V",
        "outputId": "6197c68b-4262-4b6b-d79e-83f954fd82bd"
      },
      "execution_count": null,
      "outputs": [
        {
          "output_type": "execute_result",
          "data": {
            "text/plain": [
              "            Classifier  Training accuracy  Validation accuracy\n",
              "0  Logistic Regression           0.791523             0.767746\n",
              "3           Linear SVM           0.794108             0.765679\n",
              "5       SGD Classifier           0.787302             0.764990\n",
              "6     Ridge Classifier           0.781185             0.764300\n",
              "7              XGBoost           0.995520             0.754652\n",
              "4        Random Forest           0.995520             0.716747\n",
              "8             AdaBoost           0.736819             0.709855\n",
              "1       KNN Classifier           0.678670             0.664369\n",
              "2        Decision Tree           0.995520             0.585114"
            ],
            "text/html": [
              "\n",
              "  <div id=\"df-03ef1234-5892-4c33-8e13-81da0ff8b166\">\n",
              "    <div class=\"colab-df-container\">\n",
              "      <div>\n",
              "<style scoped>\n",
              "    .dataframe tbody tr th:only-of-type {\n",
              "        vertical-align: middle;\n",
              "    }\n",
              "\n",
              "    .dataframe tbody tr th {\n",
              "        vertical-align: top;\n",
              "    }\n",
              "\n",
              "    .dataframe thead th {\n",
              "        text-align: right;\n",
              "    }\n",
              "</style>\n",
              "<table border=\"1\" class=\"dataframe\">\n",
              "  <thead>\n",
              "    <tr style=\"text-align: right;\">\n",
              "      <th></th>\n",
              "      <th>Classifier</th>\n",
              "      <th>Training accuracy</th>\n",
              "      <th>Validation accuracy</th>\n",
              "    </tr>\n",
              "  </thead>\n",
              "  <tbody>\n",
              "    <tr>\n",
              "      <th>0</th>\n",
              "      <td>Logistic Regression</td>\n",
              "      <td>0.791523</td>\n",
              "      <td>0.767746</td>\n",
              "    </tr>\n",
              "    <tr>\n",
              "      <th>3</th>\n",
              "      <td>Linear SVM</td>\n",
              "      <td>0.794108</td>\n",
              "      <td>0.765679</td>\n",
              "    </tr>\n",
              "    <tr>\n",
              "      <th>5</th>\n",
              "      <td>SGD Classifier</td>\n",
              "      <td>0.787302</td>\n",
              "      <td>0.764990</td>\n",
              "    </tr>\n",
              "    <tr>\n",
              "      <th>6</th>\n",
              "      <td>Ridge Classifier</td>\n",
              "      <td>0.781185</td>\n",
              "      <td>0.764300</td>\n",
              "    </tr>\n",
              "    <tr>\n",
              "      <th>7</th>\n",
              "      <td>XGBoost</td>\n",
              "      <td>0.995520</td>\n",
              "      <td>0.754652</td>\n",
              "    </tr>\n",
              "    <tr>\n",
              "      <th>4</th>\n",
              "      <td>Random Forest</td>\n",
              "      <td>0.995520</td>\n",
              "      <td>0.716747</td>\n",
              "    </tr>\n",
              "    <tr>\n",
              "      <th>8</th>\n",
              "      <td>AdaBoost</td>\n",
              "      <td>0.736819</td>\n",
              "      <td>0.709855</td>\n",
              "    </tr>\n",
              "    <tr>\n",
              "      <th>1</th>\n",
              "      <td>KNN Classifier</td>\n",
              "      <td>0.678670</td>\n",
              "      <td>0.664369</td>\n",
              "    </tr>\n",
              "    <tr>\n",
              "      <th>2</th>\n",
              "      <td>Decision Tree</td>\n",
              "      <td>0.995520</td>\n",
              "      <td>0.585114</td>\n",
              "    </tr>\n",
              "  </tbody>\n",
              "</table>\n",
              "</div>\n",
              "      <button class=\"colab-df-convert\" onclick=\"convertToInteractive('df-03ef1234-5892-4c33-8e13-81da0ff8b166')\"\n",
              "              title=\"Convert this dataframe to an interactive table.\"\n",
              "              style=\"display:none;\">\n",
              "        \n",
              "  <svg xmlns=\"http://www.w3.org/2000/svg\" height=\"24px\"viewBox=\"0 0 24 24\"\n",
              "       width=\"24px\">\n",
              "    <path d=\"M0 0h24v24H0V0z\" fill=\"none\"/>\n",
              "    <path d=\"M18.56 5.44l.94 2.06.94-2.06 2.06-.94-2.06-.94-.94-2.06-.94 2.06-2.06.94zm-11 1L8.5 8.5l.94-2.06 2.06-.94-2.06-.94L8.5 2.5l-.94 2.06-2.06.94zm10 10l.94 2.06.94-2.06 2.06-.94-2.06-.94-.94-2.06-.94 2.06-2.06.94z\"/><path d=\"M17.41 7.96l-1.37-1.37c-.4-.4-.92-.59-1.43-.59-.52 0-1.04.2-1.43.59L10.3 9.45l-7.72 7.72c-.78.78-.78 2.05 0 2.83L4 21.41c.39.39.9.59 1.41.59.51 0 1.02-.2 1.41-.59l7.78-7.78 2.81-2.81c.8-.78.8-2.07 0-2.86zM5.41 20L4 18.59l7.72-7.72 1.47 1.35L5.41 20z\"/>\n",
              "  </svg>\n",
              "      </button>\n",
              "      \n",
              "  <style>\n",
              "    .colab-df-container {\n",
              "      display:flex;\n",
              "      flex-wrap:wrap;\n",
              "      gap: 12px;\n",
              "    }\n",
              "\n",
              "    .colab-df-convert {\n",
              "      background-color: #E8F0FE;\n",
              "      border: none;\n",
              "      border-radius: 50%;\n",
              "      cursor: pointer;\n",
              "      display: none;\n",
              "      fill: #1967D2;\n",
              "      height: 32px;\n",
              "      padding: 0 0 0 0;\n",
              "      width: 32px;\n",
              "    }\n",
              "\n",
              "    .colab-df-convert:hover {\n",
              "      background-color: #E2EBFA;\n",
              "      box-shadow: 0px 1px 2px rgba(60, 64, 67, 0.3), 0px 1px 3px 1px rgba(60, 64, 67, 0.15);\n",
              "      fill: #174EA6;\n",
              "    }\n",
              "\n",
              "    [theme=dark] .colab-df-convert {\n",
              "      background-color: #3B4455;\n",
              "      fill: #D2E3FC;\n",
              "    }\n",
              "\n",
              "    [theme=dark] .colab-df-convert:hover {\n",
              "      background-color: #434B5C;\n",
              "      box-shadow: 0px 1px 3px 1px rgba(0, 0, 0, 0.15);\n",
              "      filter: drop-shadow(0px 1px 2px rgba(0, 0, 0, 0.3));\n",
              "      fill: #FFFFFF;\n",
              "    }\n",
              "  </style>\n",
              "\n",
              "      <script>\n",
              "        const buttonEl =\n",
              "          document.querySelector('#df-03ef1234-5892-4c33-8e13-81da0ff8b166 button.colab-df-convert');\n",
              "        buttonEl.style.display =\n",
              "          google.colab.kernel.accessAllowed ? 'block' : 'none';\n",
              "\n",
              "        async function convertToInteractive(key) {\n",
              "          const element = document.querySelector('#df-03ef1234-5892-4c33-8e13-81da0ff8b166');\n",
              "          const dataTable =\n",
              "            await google.colab.kernel.invokeFunction('convertToInteractive',\n",
              "                                                     [key], {});\n",
              "          if (!dataTable) return;\n",
              "\n",
              "          const docLinkHtml = 'Like what you see? Visit the ' +\n",
              "            '<a target=\"_blank\" href=https://colab.research.google.com/notebooks/data_table.ipynb>data table notebook</a>'\n",
              "            + ' to learn more about interactive tables.';\n",
              "          element.innerHTML = '';\n",
              "          dataTable['output_type'] = 'display_data';\n",
              "          await google.colab.output.renderOutput(dataTable, element);\n",
              "          const docLink = document.createElement('div');\n",
              "          docLink.innerHTML = docLinkHtml;\n",
              "          element.appendChild(docLink);\n",
              "        }\n",
              "      </script>\n",
              "    </div>\n",
              "  </div>\n",
              "  "
            ]
          },
          "metadata": {},
          "execution_count": 153
        }
      ]
    },
    {
      "cell_type": "code",
      "source": [
        "# Hyperparameter tuning for XGBoost\n",
        "xgb = XGBClassifier()\n",
        "params_xgb = {\n",
        "    'learning_rate': [0.03, 0.3],\n",
        "    'min_child_weight': [0, 10],\n",
        "    'n_estimators': [200],\n",
        "    'reg_lambda': [1, 2],\n",
        "    'seed': [40]\n",
        "}\n",
        "\n",
        "best_model_xgb, best_params_xgb, best_score_xgb, count = xgb, ParameterGrid(params_xgb)[0], 0, 0\n",
        "for g in ParameterGrid(params_xgb):\n",
        "    time_start = time.time()\n",
        "    count += 1\n",
        "    print(f\"Gridpoint #{count}: {g}\")\n",
        "    xgb.set_params(**g)\n",
        "    xgb.fit(X_train_w2v, y_train)\n",
        "    y_train_pred, y_val_pred = xgb.predict(X_train_w2v), xgb.predict(X_val_w2v)\n",
        "    score_train, score_val = accuracy_score(y_train, y_train_pred), accuracy_score(y_val, y_val_pred)\n",
        "    time_stop = time.time()\n",
        "    m, s = int(time_stop - time_start) // 60, int(time_stop - time_start) % 60\n",
        "    print(f\"Training accuracy: {score_train}, Validation accuracy: {score_val}, Runtime: {m}m{s}s\")\n",
        "    print(\" \")\n",
        "    if score_val > best_score_xgb:\n",
        "        best_params_xgb, best_score_xgb = g, score_val\n",
        "\n",
        "best_model_w2v, best_params_w2v, best_score_w2v = XGBClassifier(), best_params_xgb, best_score_xgb\n",
        "best_model_w2v.set_params(**best_params_w2v)\n",
        "print(f\"Best model: {best_model_w2v}\")\n",
        "print(\" \")\n",
        "print(f\"Best parameters: {best_params_w2v}\")\n",
        "print(f\"Best validation accuracy: {best_score_w2v}\")"
      ],
      "metadata": {
        "colab": {
          "base_uri": "https://localhost:8080/"
        },
        "id": "0aHcUQbdDQzu",
        "outputId": "2a15d273-890c-436d-9ea9-1ee105f0cf50"
      },
      "execution_count": 100,
      "outputs": [
        {
          "output_type": "stream",
          "name": "stdout",
          "text": [
            "Gridpoint #1: {'learning_rate': 0.03, 'min_child_weight': 0, 'n_estimators': 200, 'reg_lambda': 1, 'seed': 40}\n",
            "Training accuracy: 0.9399552033080634, Validation accuracy: 0.7470709855272226, Runtime: 10m3s\n",
            " \n",
            "Gridpoint #2: {'learning_rate': 0.03, 'min_child_weight': 0, 'n_estimators': 200, 'reg_lambda': 2, 'seed': 40}\n",
            "Training accuracy: 0.9359924190213645, Validation accuracy: 0.7470709855272226, Runtime: 9m37s\n",
            " \n",
            "Gridpoint #3: {'learning_rate': 0.03, 'min_child_weight': 10, 'n_estimators': 200, 'reg_lambda': 1, 'seed': 40}\n",
            "Training accuracy: 0.926171605789111, Validation accuracy: 0.746381805651275, Runtime: 9m17s\n",
            " \n",
            "Gridpoint #4: {'learning_rate': 0.03, 'min_child_weight': 10, 'n_estimators': 200, 'reg_lambda': 2, 'seed': 40}\n",
            "Training accuracy: 0.9251378359751895, Validation accuracy: 0.7470709855272226, Runtime: 9m17s\n",
            " \n",
            "Gridpoint #5: {'learning_rate': 0.3, 'min_child_weight': 0, 'n_estimators': 200, 'reg_lambda': 1, 'seed': 40}\n",
            "Training accuracy: 0.9955203308063405, Validation accuracy: 0.7822191592005513, Runtime: 9m53s\n",
            " \n",
            "Gridpoint #6: {'learning_rate': 0.3, 'min_child_weight': 0, 'n_estimators': 200, 'reg_lambda': 2, 'seed': 40}\n",
            "Training accuracy: 0.9955203308063405, Validation accuracy: 0.7705031013094418, Runtime: 9m50s\n",
            " \n",
            "Gridpoint #7: {'learning_rate': 0.3, 'min_child_weight': 10, 'n_estimators': 200, 'reg_lambda': 1, 'seed': 40}\n",
            "Training accuracy: 0.9955203308063405, Validation accuracy: 0.7711922811853894, Runtime: 8m20s\n",
            " \n",
            "Gridpoint #8: {'learning_rate': 0.3, 'min_child_weight': 10, 'n_estimators': 200, 'reg_lambda': 2, 'seed': 40}\n",
            "Training accuracy: 0.9955203308063405, Validation accuracy: 0.7753273604410751, Runtime: 8m26s\n",
            " \n",
            "Best model: XGBClassifier(base_score=None, booster=None, callbacks=None,\n",
            "              colsample_bylevel=None, colsample_bynode=None,\n",
            "              colsample_bytree=None, early_stopping_rounds=None,\n",
            "              enable_categorical=False, eval_metric=None, feature_types=None,\n",
            "              gamma=None, gpu_id=None, grow_policy=None, importance_type=None,\n",
            "              interaction_constraints=None, learning_rate=0.3, max_bin=None,\n",
            "              max_cat_threshold=None, max_cat_to_onehot=None,\n",
            "              max_delta_step=None, max_depth=None, max_leaves=None,\n",
            "              min_child_weight=0, missing=nan, monotone_constraints=None,\n",
            "              n_estimators=200, n_jobs=None, num_parallel_tree=None,\n",
            "              predictor=None, random_state=None, ...)\n",
            " \n",
            "Best parameters: {'learning_rate': 0.3, 'min_child_weight': 0, 'n_estimators': 200, 'reg_lambda': 1, 'seed': 40}\n",
            "Best validation accuracy: 0.7822191592005513\n"
          ]
        }
      ]
    },
    {
      "cell_type": "code",
      "source": [
        "# Function to compute and print confusion matrix\n",
        "def conf_mat(y_test, y_test_pred, figsize = (10, 8), font_scale = 1.2, annot_kws_size = 16):\n",
        "    class_names = [0, 1, 2]\n",
        "    tick_marks_y = [0.5, 1.5, 2.5]\n",
        "    tick_marks_x = [0.5, 1.5, 2.5]\n",
        "    confusion_matrix = metrics.confusion_matrix(y_test, y_test_pred)\n",
        "    confusion_matrix_df = pd.DataFrame(confusion_matrix, range(3), range(3))\n",
        "    plt.figure(figsize = figsize)\n",
        "    sns.set(font_scale = font_scale) # label size\n",
        "    plt.title(\"Confusion Matrix\")\n",
        "    sns.heatmap(confusion_matrix_df, annot = True, annot_kws = {\"size\": annot_kws_size}, fmt = 'd') # font size\n",
        "    plt.yticks(tick_marks_y, class_names, rotation = 'vertical')\n",
        "    plt.xticks(tick_marks_x, class_names, rotation = 'horizontal')\n",
        "    plt.ylabel('True label')\n",
        "    plt.xlabel('Predicted label')\n",
        "    plt.grid(False)\n",
        "    plt.show()"
      ],
      "metadata": {
        "id": "RacwfzBRVS4l"
      },
      "execution_count": 104,
      "outputs": []
    },
    {
      "cell_type": "code",
      "source": [
        "# Best model\n",
        "if best_score_tfidf >= best_score_w2v:\n",
        "    best_model, X_train_vec, X_test_vec = best_model_tfidf, X_train_tfidf, X_test_tfidf\n",
        "else:\n",
        "    best_model, X_train_vec, X_test_vec = best_model_w2v, X_train_w2v, X_test_w2v"
      ],
      "metadata": {
        "id": "7BJaP6HRVYdG"
      },
      "execution_count": 105,
      "outputs": []
    },
    {
      "cell_type": "code",
      "source": [
        "# Prediction and evaluation on test set\n",
        "best_model.fit(X_train_vec, y_train)\n",
        "y_test_pred = best_model.predict(X_test_vec)\n",
        "score_test = accuracy_score(y_test, y_test_pred)\n",
        "print(pd.Series({\"Test accuracy\": score_test}).to_string())\n",
        "print(\" \")\n",
        "conf_mat(y_test, y_test_pred, figsize = (10, 8), font_scale = 1.2, annot_kws_size = 16) # Confusion matrix"
      ],
      "metadata": {
        "colab": {
          "base_uri": "https://localhost:8080/",
          "height": 767
        },
        "id": "VVfIRr60VbbE",
        "outputId": "cf20fe51-7d91-4dd6-f571-16b75827a13f"
      },
      "execution_count": 106,
      "outputs": [
        {
          "output_type": "stream",
          "name": "stdout",
          "text": [
            "Test accuracy    0.787043\n",
            " \n"
          ]
        },
        {
          "output_type": "display_data",
          "data": {
            "text/plain": [
              "<Figure size 1000x800 with 2 Axes>"
            ],
            "image/png": "[encoded data removed]"
          },
          "metadata": {}
        }
      ]
    },
    {
      "cell_type": "code",
      "source": [
        "from sklearn.metrics import accuracy_score, precision_score, recall_score, f1_score\n",
        "\n",
        "# Predicciones en el conjunto de test\n",
        "best_model.fit(X_train_vec, y_train)\n",
        "y_test_pred = best_model.predict(X_test_vec)\n",
        "\n",
        "# Cálculo de la precisión, el recall y la F1-score\n",
        "accuracy = accuracy_score(y_test, y_test_pred)\n",
        "precision = precision_score(y_test, y_test_pred, average='macro')\n",
        "recall = recall_score(y_test, y_test_pred, average='macro')\n",
        "f1 = f1_score(y_test, y_test_pred, average='macro')\n",
        "\n",
        "# Impresión de resultados\n",
        "print(\"Accuracy: {:.3f}\".format(accuracy))\n",
        "print(\"Precision: {:.3f}\".format(precision))\n",
        "print(\"Recall: {:.3f}\".format(recall))\n",
        "print(\"F1-score: {:.3f}\".format(f1))\n"
      ],
      "metadata": {
        "colab": {
          "base_uri": "https://localhost:8080/"
        },
        "id": "1OzLhYqyhUmW",
        "outputId": "e2aa93bb-1269-41cd-bd41-63ff9a6ea8cf"
      },
      "execution_count": 139,
      "outputs": [
        {
          "output_type": "stream",
          "name": "stdout",
          "text": [
            "Accuracy: 0.787\n",
            "Precision: 0.762\n",
            "Recall: 0.665\n",
            "F1-score: 0.699\n"
          ]
        }
      ]
    }
  ]
}